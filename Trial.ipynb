{
 "cells": [
  {
   "cell_type": "code",
   "execution_count": 1,
   "id": "f42c46d7",
   "metadata": {},
   "outputs": [
    {
     "name": "stdout",
     "output_type": "stream",
     "text": [
      "connection successful!\n"
     ]
    }
   ],
   "source": [
    "pip install tensorflow\n",
    "pip install seaborn"
   ]
  },
  {
   "cell_type": "code",
   "execution_count": 1,
   "id": "fbf923ce",
   "metadata": {},
   "outputs": [
    {
     "name": "stderr",
     "output_type": "stream",
     "text": [
      "Matplotlib created a temporary cache directory at /tmp/matplotlib-93o_48k2 because the default path (/home/mosaic-ai/.cache/matplotlib) is not a writable directory; it is highly recommended to set the MPLCONFIGDIR environment variable to a writable directory, in particular to speed up the import of Matplotlib and to better support multiprocessing.\n"
     ]
    },
    {
     "name": "stdout",
     "output_type": "stream",
     "text": [
      "connection successful!\n"
     ]
    }
   ],
   "source": [
    "import numpy as np\n",
    "import pandas as pd\n",
    "from tqdm import tqdm\n",
    "from tensorflow.keras.models import Sequential\n",
    "from tensorflow.keras.layers import Dense,Dropout\n",
    "from tensorflow.keras.callbacks import EarlyStopping\n",
    "import time\n",
    "import seaborn as sns\n",
    "from snowflake.snowpark.session import Session\n",
    "import configparser\n",
    "\n",
    "import warnings\n",
    "warnings.filterwarnings(\"ignore\")\n",
    "\n",
    "config = configparser.ConfigParser()\n",
    "config.read(\"snowflake_connection.ini\")\n",
    "\n",
    "connection_parameters = {\n",
    "    \"user\": f'{config[\"Snowflake\"][\"user\"]}',\n",
    "    \"password\": f'{config[\"Snowflake\"][\"password\"]}',\n",
    "    \"account\": f'{config[\"Snowflake\"][\"account\"]}',\n",
    "    \"WAREHOUSE\": f'{config[\"Snowflake\"][\"WAREHOUSE\"]}',\n",
    "    \"DATABASE\": f'{config[\"Snowflake\"][\"DATABASE\"]}',\n",
    "    \"SCHEMA\": f'{config[\"Snowflake\"][\"SCHEMA\"]}'\n",
    "}\n",
    "\n",
    "def snowflake_connector(conn):\n",
    "    try:\n",
    "        session = Session.builder.configs(conn).create()\n",
    "        print(\"connection successful!\")\n",
    "    except:\n",
    "        raise ValueError(\"error while connecting with db\")\n",
    "    return session\n",
    "\n",
    "session = snowflake_connector(connection_parameters)"
   ]
  },
  {
   "cell_type": "code",
   "execution_count": 2,
   "id": "ed006ece",
   "metadata": {},
   "outputs": [],
   "source": [
    "df = session.table(\"CPG_WAREHOUSE\").to_pandas()"
   ]
  },
  {
   "cell_type": "code",
   "execution_count": 3,
   "id": "00940b33",
   "metadata": {},
   "outputs": [
    {
     "data": {
      "text/html": [
       "<div>\n",
       "<style scoped>\n",
       "    .dataframe tbody tr th:only-of-type {\n",
       "        vertical-align: middle;\n",
       "    }\n",
       "\n",
       "    .dataframe tbody tr th {\n",
       "        vertical-align: top;\n",
       "    }\n",
       "\n",
       "    .dataframe thead th {\n",
       "        text-align: right;\n",
       "    }\n",
       "</style>\n",
       "<table border=\"1\" class=\"dataframe\">\n",
       "  <thead>\n",
       "    <tr style=\"text-align: right;\">\n",
       "      <th></th>\n",
       "      <th>DATE</th>\n",
       "      <th>WARE_HOUSE_ID</th>\n",
       "      <th>WH_MANAGER_ID</th>\n",
       "      <th>LOCATION_TYPE</th>\n",
       "      <th>WH_CAPACITY_SIZE</th>\n",
       "      <th>ZONE</th>\n",
       "      <th>WH_REGIONAL_ZONE</th>\n",
       "      <th>REFILL_REQUESTS</th>\n",
       "      <th>TRANSPORT_ISSUE</th>\n",
       "      <th>NO_OF_COMPETITOR</th>\n",
       "      <th>...</th>\n",
       "      <th>ELECTRIC_SUPPLY</th>\n",
       "      <th>DIST_FROM_HUB</th>\n",
       "      <th>WORKERS_NUM</th>\n",
       "      <th>WH_EST_YEAR</th>\n",
       "      <th>STORAGE_ISSUE_REPORTED</th>\n",
       "      <th>TEMP_REG_MACH</th>\n",
       "      <th>APPROVED_WH_GOVT_CERTIFICATE</th>\n",
       "      <th>WH_BREAKDOWN</th>\n",
       "      <th>GOVT_CHECK</th>\n",
       "      <th>PRODUCT_WG_TON</th>\n",
       "    </tr>\n",
       "  </thead>\n",
       "  <tbody>\n",
       "    <tr>\n",
       "      <th>0</th>\n",
       "      <td>2023-01-01</td>\n",
       "      <td>WH_100000</td>\n",
       "      <td>EID_50000</td>\n",
       "      <td>Urban</td>\n",
       "      <td>Small</td>\n",
       "      <td>West</td>\n",
       "      <td>Zone 6</td>\n",
       "      <td>3</td>\n",
       "      <td>1</td>\n",
       "      <td>2</td>\n",
       "      <td>...</td>\n",
       "      <td>1</td>\n",
       "      <td>91</td>\n",
       "      <td>29.0</td>\n",
       "      <td>NaN</td>\n",
       "      <td>13</td>\n",
       "      <td>0.0</td>\n",
       "      <td>A</td>\n",
       "      <td>5.0</td>\n",
       "      <td>15.0</td>\n",
       "      <td>17115.0</td>\n",
       "    </tr>\n",
       "    <tr>\n",
       "      <th>1</th>\n",
       "      <td>2023-01-01</td>\n",
       "      <td>WH_100001</td>\n",
       "      <td>EID_50001</td>\n",
       "      <td>Rural</td>\n",
       "      <td>Large</td>\n",
       "      <td>North</td>\n",
       "      <td>Zone 5</td>\n",
       "      <td>0</td>\n",
       "      <td>0</td>\n",
       "      <td>4</td>\n",
       "      <td>...</td>\n",
       "      <td>1</td>\n",
       "      <td>210</td>\n",
       "      <td>31.0</td>\n",
       "      <td>NaN</td>\n",
       "      <td>4</td>\n",
       "      <td>0.0</td>\n",
       "      <td>A</td>\n",
       "      <td>3.0</td>\n",
       "      <td>17.0</td>\n",
       "      <td>5074.0</td>\n",
       "    </tr>\n",
       "    <tr>\n",
       "      <th>2</th>\n",
       "      <td>2023-01-01</td>\n",
       "      <td>WH_100002</td>\n",
       "      <td>EID_50002</td>\n",
       "      <td>Rural</td>\n",
       "      <td>Mid</td>\n",
       "      <td>South</td>\n",
       "      <td>Zone 2</td>\n",
       "      <td>1</td>\n",
       "      <td>0</td>\n",
       "      <td>4</td>\n",
       "      <td>...</td>\n",
       "      <td>0</td>\n",
       "      <td>161</td>\n",
       "      <td>37.0</td>\n",
       "      <td>NaN</td>\n",
       "      <td>17</td>\n",
       "      <td>0.0</td>\n",
       "      <td>A</td>\n",
       "      <td>6.0</td>\n",
       "      <td>22.0</td>\n",
       "      <td>23137.0</td>\n",
       "    </tr>\n",
       "    <tr>\n",
       "      <th>3</th>\n",
       "      <td>2023-01-01</td>\n",
       "      <td>WH_100003</td>\n",
       "      <td>EID_50003</td>\n",
       "      <td>Rural</td>\n",
       "      <td>Mid</td>\n",
       "      <td>North</td>\n",
       "      <td>Zone 3</td>\n",
       "      <td>7</td>\n",
       "      <td>4</td>\n",
       "      <td>2</td>\n",
       "      <td>...</td>\n",
       "      <td>0</td>\n",
       "      <td>103</td>\n",
       "      <td>21.0</td>\n",
       "      <td>NaN</td>\n",
       "      <td>17</td>\n",
       "      <td>1.0</td>\n",
       "      <td>A+</td>\n",
       "      <td>3.0</td>\n",
       "      <td>27.0</td>\n",
       "      <td>22115.0</td>\n",
       "    </tr>\n",
       "    <tr>\n",
       "      <th>4</th>\n",
       "      <td>2023-01-01</td>\n",
       "      <td>WH_100004</td>\n",
       "      <td>EID_50004</td>\n",
       "      <td>Rural</td>\n",
       "      <td>Large</td>\n",
       "      <td>North</td>\n",
       "      <td>Zone 5</td>\n",
       "      <td>3</td>\n",
       "      <td>1</td>\n",
       "      <td>2</td>\n",
       "      <td>...</td>\n",
       "      <td>1</td>\n",
       "      <td>112</td>\n",
       "      <td>25.0</td>\n",
       "      <td>2009.0</td>\n",
       "      <td>18</td>\n",
       "      <td>0.0</td>\n",
       "      <td>C</td>\n",
       "      <td>6.0</td>\n",
       "      <td>24.0</td>\n",
       "      <td>24071.0</td>\n",
       "    </tr>\n",
       "  </tbody>\n",
       "</table>\n",
       "<p>5 rows × 25 columns</p>\n",
       "</div>"
      ],
      "text/plain": [
       "         DATE WARE_HOUSE_ID WH_MANAGER_ID LOCATION_TYPE WH_CAPACITY_SIZE   \n",
       "0  2023-01-01     WH_100000     EID_50000         Urban            Small  \\\n",
       "1  2023-01-01     WH_100001     EID_50001         Rural            Large   \n",
       "2  2023-01-01     WH_100002     EID_50002         Rural              Mid   \n",
       "3  2023-01-01     WH_100003     EID_50003         Rural              Mid   \n",
       "4  2023-01-01     WH_100004     EID_50004         Rural            Large   \n",
       "\n",
       "    ZONE WH_REGIONAL_ZONE  REFILL_REQUESTS  TRANSPORT_ISSUE  NO_OF_COMPETITOR   \n",
       "0   West           Zone 6                3                1                 2  \\\n",
       "1  North           Zone 5                0                0                 4   \n",
       "2  South           Zone 2                1                0                 4   \n",
       "3  North           Zone 3                7                4                 2   \n",
       "4  North           Zone 5                3                1                 2   \n",
       "\n",
       "   ...  ELECTRIC_SUPPLY DIST_FROM_HUB  WORKERS_NUM  WH_EST_YEAR   \n",
       "0  ...                1            91         29.0          NaN  \\\n",
       "1  ...                1           210         31.0          NaN   \n",
       "2  ...                0           161         37.0          NaN   \n",
       "3  ...                0           103         21.0          NaN   \n",
       "4  ...                1           112         25.0       2009.0   \n",
       "\n",
       "   STORAGE_ISSUE_REPORTED  TEMP_REG_MACH  APPROVED_WH_GOVT_CERTIFICATE   \n",
       "0                      13            0.0                             A  \\\n",
       "1                       4            0.0                             A   \n",
       "2                      17            0.0                             A   \n",
       "3                      17            1.0                            A+   \n",
       "4                      18            0.0                             C   \n",
       "\n",
       "   WH_BREAKDOWN  GOVT_CHECK  PRODUCT_WG_TON  \n",
       "0           5.0        15.0         17115.0  \n",
       "1           3.0        17.0          5074.0  \n",
       "2           6.0        22.0         23137.0  \n",
       "3           3.0        27.0         22115.0  \n",
       "4           6.0        24.0         24071.0  \n",
       "\n",
       "[5 rows x 25 columns]"
      ]
     },
     "execution_count": 3,
     "metadata": {},
     "output_type": "execute_result"
    }
   ],
   "source": [
    "df.head(5)"
   ]
  },
  {
   "cell_type": "code",
   "execution_count": 4,
   "id": "e0f277ed",
   "metadata": {},
   "outputs": [
    {
     "name": "stdout",
     "output_type": "stream",
     "text": [
      "<class 'pandas.core.frame.DataFrame'>\n",
      "RangeIndex: 350001 entries, 0 to 350000\n",
      "Data columns (total 25 columns):\n",
      " #   Column                        Non-Null Count   Dtype  \n",
      "---  ------                        --------------   -----  \n",
      " 0   DATE                          350001 non-null  object \n",
      " 1   WARE_HOUSE_ID                 350001 non-null  object \n",
      " 2   WH_MANAGER_ID                 350001 non-null  object \n",
      " 3   LOCATION_TYPE                 350001 non-null  object \n",
      " 4   WH_CAPACITY_SIZE              350001 non-null  object \n",
      " 5   ZONE                          350001 non-null  object \n",
      " 6   WH_REGIONAL_ZONE              350001 non-null  object \n",
      " 7   REFILL_REQUESTS               350001 non-null  int8   \n",
      " 8   TRANSPORT_ISSUE               350001 non-null  int8   \n",
      " 9   NO_OF_COMPETITOR              350001 non-null  int8   \n",
      " 10  NO_OF_RETAILERS               350001 non-null  int16  \n",
      " 11  WAREHOUSE_OWNERSHIP           350001 non-null  object \n",
      " 12  NUMBER_OF_DISTRIBUTORS        350001 non-null  int16  \n",
      " 13  FLOOD_IMPACTED                350001 non-null  int8   \n",
      " 14  FLOOD_PROOF                   350001 non-null  int8   \n",
      " 15  ELECTRIC_SUPPLY               350001 non-null  int8   \n",
      " 16  DIST_FROM_HUB                 350001 non-null  int16  \n",
      " 17  WORKERS_NUM                   349011 non-null  float64\n",
      " 18  WH_EST_YEAR                   183666 non-null  float64\n",
      " 19  STORAGE_ISSUE_REPORTED        350001 non-null  int8   \n",
      " 20  TEMP_REG_MACH                 350000 non-null  float64\n",
      " 21  APPROVED_WH_GOVT_CERTIFICATE  350000 non-null  object \n",
      " 22  WH_BREAKDOWN                  350000 non-null  float64\n",
      " 23  GOVT_CHECK                    350000 non-null  float64\n",
      " 24  PRODUCT_WG_TON                350000 non-null  float64\n",
      "dtypes: float64(6), int16(3), int8(7), object(9)\n",
      "memory usage: 44.4+ MB\n"
     ]
    }
   ],
   "source": [
    "df.info()\n"
   ]
  },
  {
   "cell_type": "code",
   "execution_count": 5,
   "id": "18a09fb9",
   "metadata": {},
   "outputs": [
    {
     "data": {
      "text/html": [
       "<div>\n",
       "<style scoped>\n",
       "    .dataframe tbody tr th:only-of-type {\n",
       "        vertical-align: middle;\n",
       "    }\n",
       "\n",
       "    .dataframe tbody tr th {\n",
       "        vertical-align: top;\n",
       "    }\n",
       "\n",
       "    .dataframe thead th {\n",
       "        text-align: right;\n",
       "    }\n",
       "</style>\n",
       "<table border=\"1\" class=\"dataframe\">\n",
       "  <thead>\n",
       "    <tr style=\"text-align: right;\">\n",
       "      <th></th>\n",
       "      <th>count</th>\n",
       "      <th>mean</th>\n",
       "      <th>std</th>\n",
       "      <th>min</th>\n",
       "      <th>25%</th>\n",
       "      <th>50%</th>\n",
       "      <th>75%</th>\n",
       "      <th>max</th>\n",
       "    </tr>\n",
       "  </thead>\n",
       "  <tbody>\n",
       "    <tr>\n",
       "      <th>REFILL_REQUESTS</th>\n",
       "      <td>350001.0</td>\n",
       "      <td>4.720761</td>\n",
       "      <td>3.648191</td>\n",
       "      <td>0.0</td>\n",
       "      <td>2.00</td>\n",
       "      <td>4.0</td>\n",
       "      <td>7.0</td>\n",
       "      <td>26.0</td>\n",
       "    </tr>\n",
       "    <tr>\n",
       "      <th>TRANSPORT_ISSUE</th>\n",
       "      <td>350001.0</td>\n",
       "      <td>2.426333</td>\n",
       "      <td>2.579299</td>\n",
       "      <td>0.0</td>\n",
       "      <td>0.00</td>\n",
       "      <td>2.0</td>\n",
       "      <td>4.0</td>\n",
       "      <td>22.0</td>\n",
       "    </tr>\n",
       "    <tr>\n",
       "      <th>NO_OF_COMPETITOR</th>\n",
       "      <td>350001.0</td>\n",
       "      <td>3.729101</td>\n",
       "      <td>2.997011</td>\n",
       "      <td>0.0</td>\n",
       "      <td>2.00</td>\n",
       "      <td>3.0</td>\n",
       "      <td>5.0</td>\n",
       "      <td>22.0</td>\n",
       "    </tr>\n",
       "    <tr>\n",
       "      <th>NO_OF_RETAILERS</th>\n",
       "      <td>350001.0</td>\n",
       "      <td>4985.876377</td>\n",
       "      <td>1285.713090</td>\n",
       "      <td>0.0</td>\n",
       "      <td>4141.00</td>\n",
       "      <td>4893.0</td>\n",
       "      <td>5724.0</td>\n",
       "      <td>12861.0</td>\n",
       "    </tr>\n",
       "    <tr>\n",
       "      <th>NUMBER_OF_DISTRIBUTORS</th>\n",
       "      <td>350001.0</td>\n",
       "      <td>61.922032</td>\n",
       "      <td>21.646701</td>\n",
       "      <td>8.0</td>\n",
       "      <td>46.00</td>\n",
       "      <td>62.0</td>\n",
       "      <td>77.0</td>\n",
       "      <td>146.0</td>\n",
       "    </tr>\n",
       "    <tr>\n",
       "      <th>FLOOD_IMPACTED</th>\n",
       "      <td>350001.0</td>\n",
       "      <td>0.098160</td>\n",
       "      <td>0.297531</td>\n",
       "      <td>0.0</td>\n",
       "      <td>0.00</td>\n",
       "      <td>0.0</td>\n",
       "      <td>0.0</td>\n",
       "      <td>1.0</td>\n",
       "    </tr>\n",
       "    <tr>\n",
       "      <th>FLOOD_PROOF</th>\n",
       "      <td>350001.0</td>\n",
       "      <td>0.054643</td>\n",
       "      <td>0.227282</td>\n",
       "      <td>0.0</td>\n",
       "      <td>0.00</td>\n",
       "      <td>0.0</td>\n",
       "      <td>0.0</td>\n",
       "      <td>1.0</td>\n",
       "    </tr>\n",
       "    <tr>\n",
       "      <th>ELECTRIC_SUPPLY</th>\n",
       "      <td>350001.0</td>\n",
       "      <td>0.656881</td>\n",
       "      <td>0.474752</td>\n",
       "      <td>0.0</td>\n",
       "      <td>0.00</td>\n",
       "      <td>1.0</td>\n",
       "      <td>1.0</td>\n",
       "      <td>1.0</td>\n",
       "    </tr>\n",
       "    <tr>\n",
       "      <th>DIST_FROM_HUB</th>\n",
       "      <td>350001.0</td>\n",
       "      <td>163.537113</td>\n",
       "      <td>62.717475</td>\n",
       "      <td>55.0</td>\n",
       "      <td>109.00</td>\n",
       "      <td>164.0</td>\n",
       "      <td>218.0</td>\n",
       "      <td>271.0</td>\n",
       "    </tr>\n",
       "    <tr>\n",
       "      <th>WORKERS_NUM</th>\n",
       "      <td>349011.0</td>\n",
       "      <td>37.665369</td>\n",
       "      <td>11.993045</td>\n",
       "      <td>0.0</td>\n",
       "      <td>30.00</td>\n",
       "      <td>37.0</td>\n",
       "      <td>45.0</td>\n",
       "      <td>124.0</td>\n",
       "    </tr>\n",
       "    <tr>\n",
       "      <th>WH_EST_YEAR</th>\n",
       "      <td>183666.0</td>\n",
       "      <td>2009.383185</td>\n",
       "      <td>7.527963</td>\n",
       "      <td>1996.0</td>\n",
       "      <td>2003.00</td>\n",
       "      <td>2009.0</td>\n",
       "      <td>2016.0</td>\n",
       "      <td>2023.0</td>\n",
       "    </tr>\n",
       "    <tr>\n",
       "      <th>STORAGE_ISSUE_REPORTED</th>\n",
       "      <td>350001.0</td>\n",
       "      <td>24.325030</td>\n",
       "      <td>11.303293</td>\n",
       "      <td>0.0</td>\n",
       "      <td>16.00</td>\n",
       "      <td>24.0</td>\n",
       "      <td>32.0</td>\n",
       "      <td>75.0</td>\n",
       "    </tr>\n",
       "    <tr>\n",
       "      <th>TEMP_REG_MACH</th>\n",
       "      <td>350000.0</td>\n",
       "      <td>0.303280</td>\n",
       "      <td>0.459676</td>\n",
       "      <td>0.0</td>\n",
       "      <td>0.00</td>\n",
       "      <td>0.0</td>\n",
       "      <td>1.0</td>\n",
       "      <td>1.0</td>\n",
       "    </tr>\n",
       "    <tr>\n",
       "      <th>WH_BREAKDOWN</th>\n",
       "      <td>350000.0</td>\n",
       "      <td>13.268754</td>\n",
       "      <td>7.635300</td>\n",
       "      <td>0.0</td>\n",
       "      <td>7.00</td>\n",
       "      <td>12.0</td>\n",
       "      <td>19.0</td>\n",
       "      <td>46.0</td>\n",
       "    </tr>\n",
       "    <tr>\n",
       "      <th>GOVT_CHECK</th>\n",
       "      <td>350000.0</td>\n",
       "      <td>28.574317</td>\n",
       "      <td>11.447771</td>\n",
       "      <td>0.0</td>\n",
       "      <td>20.00</td>\n",
       "      <td>29.0</td>\n",
       "      <td>37.0</td>\n",
       "      <td>72.0</td>\n",
       "    </tr>\n",
       "    <tr>\n",
       "      <th>PRODUCT_WG_TON</th>\n",
       "      <td>350000.0</td>\n",
       "      <td>35141.765997</td>\n",
       "      <td>14871.880702</td>\n",
       "      <td>0.0</td>\n",
       "      <td>24378.75</td>\n",
       "      <td>34435.0</td>\n",
       "      <td>45229.0</td>\n",
       "      <td>93093.0</td>\n",
       "    </tr>\n",
       "  </tbody>\n",
       "</table>\n",
       "</div>"
      ],
      "text/plain": [
       "                           count          mean           std     min   \n",
       "REFILL_REQUESTS         350001.0      4.720761      3.648191     0.0  \\\n",
       "TRANSPORT_ISSUE         350001.0      2.426333      2.579299     0.0   \n",
       "NO_OF_COMPETITOR        350001.0      3.729101      2.997011     0.0   \n",
       "NO_OF_RETAILERS         350001.0   4985.876377   1285.713090     0.0   \n",
       "NUMBER_OF_DISTRIBUTORS  350001.0     61.922032     21.646701     8.0   \n",
       "FLOOD_IMPACTED          350001.0      0.098160      0.297531     0.0   \n",
       "FLOOD_PROOF             350001.0      0.054643      0.227282     0.0   \n",
       "ELECTRIC_SUPPLY         350001.0      0.656881      0.474752     0.0   \n",
       "DIST_FROM_HUB           350001.0    163.537113     62.717475    55.0   \n",
       "WORKERS_NUM             349011.0     37.665369     11.993045     0.0   \n",
       "WH_EST_YEAR             183666.0   2009.383185      7.527963  1996.0   \n",
       "STORAGE_ISSUE_REPORTED  350001.0     24.325030     11.303293     0.0   \n",
       "TEMP_REG_MACH           350000.0      0.303280      0.459676     0.0   \n",
       "WH_BREAKDOWN            350000.0     13.268754      7.635300     0.0   \n",
       "GOVT_CHECK              350000.0     28.574317     11.447771     0.0   \n",
       "PRODUCT_WG_TON          350000.0  35141.765997  14871.880702     0.0   \n",
       "\n",
       "                             25%      50%      75%      max  \n",
       "REFILL_REQUESTS             2.00      4.0      7.0     26.0  \n",
       "TRANSPORT_ISSUE             0.00      2.0      4.0     22.0  \n",
       "NO_OF_COMPETITOR            2.00      3.0      5.0     22.0  \n",
       "NO_OF_RETAILERS          4141.00   4893.0   5724.0  12861.0  \n",
       "NUMBER_OF_DISTRIBUTORS     46.00     62.0     77.0    146.0  \n",
       "FLOOD_IMPACTED              0.00      0.0      0.0      1.0  \n",
       "FLOOD_PROOF                 0.00      0.0      0.0      1.0  \n",
       "ELECTRIC_SUPPLY             0.00      1.0      1.0      1.0  \n",
       "DIST_FROM_HUB             109.00    164.0    218.0    271.0  \n",
       "WORKERS_NUM                30.00     37.0     45.0    124.0  \n",
       "WH_EST_YEAR              2003.00   2009.0   2016.0   2023.0  \n",
       "STORAGE_ISSUE_REPORTED     16.00     24.0     32.0     75.0  \n",
       "TEMP_REG_MACH               0.00      0.0      1.0      1.0  \n",
       "WH_BREAKDOWN                7.00     12.0     19.0     46.0  \n",
       "GOVT_CHECK                 20.00     29.0     37.0     72.0  \n",
       "PRODUCT_WG_TON          24378.75  34435.0  45229.0  93093.0  "
      ]
     },
     "execution_count": 5,
     "metadata": {},
     "output_type": "execute_result"
    }
   ],
   "source": [
    "df.describe().transpose()\n"
   ]
  },
  {
   "cell_type": "code",
   "execution_count": 6,
   "id": "661d24fd",
   "metadata": {},
   "outputs": [
    {
     "data": {
      "text/plain": [
       "0"
      ]
     },
     "execution_count": 6,
     "metadata": {},
     "output_type": "execute_result"
    }
   ],
   "source": [
    "df.duplicated().sum()"
   ]
  },
  {
   "cell_type": "code",
   "execution_count": 7,
   "id": "80abb06d",
   "metadata": {},
   "outputs": [
    {
     "data": {
      "text/plain": [
       "DATE                                 0\n",
       "WARE_HOUSE_ID                        0\n",
       "WH_MANAGER_ID                        0\n",
       "LOCATION_TYPE                        0\n",
       "WH_CAPACITY_SIZE                     0\n",
       "ZONE                                 0\n",
       "WH_REGIONAL_ZONE                     0\n",
       "REFILL_REQUESTS                      0\n",
       "TRANSPORT_ISSUE                      0\n",
       "NO_OF_COMPETITOR                     0\n",
       "NO_OF_RETAILERS                      0\n",
       "WAREHOUSE_OWNERSHIP                  0\n",
       "NUMBER_OF_DISTRIBUTORS               0\n",
       "FLOOD_IMPACTED                       0\n",
       "FLOOD_PROOF                          0\n",
       "ELECTRIC_SUPPLY                      0\n",
       "DIST_FROM_HUB                        0\n",
       "WORKERS_NUM                        990\n",
       "WH_EST_YEAR                     166335\n",
       "STORAGE_ISSUE_REPORTED               0\n",
       "TEMP_REG_MACH                        1\n",
       "APPROVED_WH_GOVT_CERTIFICATE         1\n",
       "WH_BREAKDOWN                         1\n",
       "GOVT_CHECK                           1\n",
       "PRODUCT_WG_TON                       1\n",
       "dtype: int64"
      ]
     },
     "execution_count": 7,
     "metadata": {},
     "output_type": "execute_result"
    }
   ],
   "source": [
    "df.isnull().sum()"
   ]
  },
  {
   "cell_type": "code",
   "execution_count": 8,
   "id": "bb36b855",
   "metadata": {},
   "outputs": [
    {
     "data": {
      "text/plain": [
       "<Axes: >"
      ]
     },
     "execution_count": 8,
     "metadata": {},
     "output_type": "execute_result"
    },
    {
     "data": {
      "image/png": "[encoded data removed]",
      "text/plain": [
       "<Figure size 432x288 with 1 Axes>"
      ]
     },
     "metadata": {
      "needs_background": "light"
     },
     "output_type": "display_data"
    }
   ],
   "source": [
    "df['WORKERS_NUM'].hist()"
   ]
  },
  {
   "cell_type": "code",
   "execution_count": 9,
   "id": "5d8111e6",
   "metadata": {},
   "outputs": [],
   "source": [
    "df['WORKERS_NUM'] = df['WORKERS_NUM'].fillna(df['WORKERS_NUM'].mean())"
   ]
  },
  {
   "cell_type": "code",
   "execution_count": 10,
   "id": "dafe5225",
   "metadata": {},
   "outputs": [
    {
     "data": {
      "text/plain": [
       "APPROVED_WH_GOVT_CERTIFICATE\n",
       "C     77014\n",
       "B+    68837\n",
       "B     67368\n",
       "A     65394\n",
       "A+    58674\n",
       "NA    12712\n",
       "0         1\n",
       "Name: count, dtype: int64"
      ]
     },
     "execution_count": 10,
     "metadata": {},
     "output_type": "execute_result"
    },
    {
     "data": {
      "image/png": "[encoded data removed]",
      "text/plain": [
       "<Figure size 432x288 with 1 Axes>"
      ]
     },
     "metadata": {
      "needs_background": "light"
     },
     "output_type": "display_data"
    }
   ],
   "source": [
    "df['APPROVED_WH_GOVT_CERTIFICATE'].hist()\n",
    "df['APPROVED_WH_GOVT_CERTIFICATE'].value_counts()"
   ]
  },
  {
   "cell_type": "code",
   "execution_count": 13,
   "id": "1a72dd2f",
   "metadata": {},
   "outputs": [
    {
     "data": {
      "text/plain": [
       "APPROVED_WH_GOVT_CERTIFICATE\n",
       "C     77014\n",
       "B+    68837\n",
       "B     67368\n",
       "A     65394\n",
       "A+    58674\n",
       "NA    12712\n",
       "0         1\n",
       "Name: count, dtype: int64"
      ]
     },
     "execution_count": 13,
     "metadata": {},
     "output_type": "execute_result"
    },
    {
     "data": {
      "image/png": "[encoded data removed]",
      "text/plain": [
       "<Figure size 432x288 with 1 Axes>"
      ]
     },
     "metadata": {
      "needs_background": "light"
     },
     "output_type": "display_data"
    }
   ],
   "source": [
    "df['APPROVED_WH_GOVT_CERTIFICATE'].hist()\n",
    "df['APPROVED_WH_GOVT_CERTIFICATE'].value_counts()"
   ]
  },
  {
   "cell_type": "code",
   "execution_count": 11,
   "id": "bff9a18e",
   "metadata": {},
   "outputs": [],
   "source": [
    "df['APPROVED_WH_GOVT_CERTIFICATE']=df['APPROVED_WH_GOVT_CERTIFICATE'].fillna(method='ffill')"
   ]
  },
  {
   "cell_type": "code",
   "execution_count": 12,
   "id": "4dee648d",
   "metadata": {},
   "outputs": [
    {
     "data": {
      "text/plain": [
       "[Text(0.5, 1.0, 'Location Type by zone')]"
      ]
     },
     "execution_count": 12,
     "metadata": {},
     "output_type": "execute_result"
    },
    {
     "data": {
      "image/png": "[encoded data removed]",
      "text/plain": [
       "<Figure size 432x288 with 1 Axes>"
      ]
     },
     "metadata": {
      "needs_background": "light"
     },
     "output_type": "display_data"
    }
   ],
   "source": [
    "sns.countplot(data=df,x='LOCATION_TYPE',hue='ZONE').set(title='Location Type by zone')"
   ]
  },
  {
   "cell_type": "code",
   "execution_count": 16,
   "id": "96f1fd25",
   "metadata": {},
   "outputs": [],
   "source": [
    "df['APPROVED_WH_GOVT_CERTIFICATE']=df['APPROVED_WH_GOVT_CERTIFICATE'].fillna(method='ffill')"
   ]
  },
  {
   "cell_type": "code",
   "execution_count": 17,
   "id": "c9b86909",
   "metadata": {},
   "outputs": [
    {
     "ename": "NameError",
     "evalue": "name 'sns' is not defined",
     "output_type": "error",
     "traceback": [
      "\u001b[0;31m---------------------------------------------------------------------------\u001b[0m",
      "\u001b[0;31mNameError\u001b[0m                                 Traceback (most recent call last)",
      "Cell \u001b[0;32mIn[17], line 1\u001b[0m\n\u001b[0;32m----> 1\u001b[0m \u001b[43msns\u001b[49m\u001b[38;5;241m.\u001b[39mcountplot(data\u001b[38;5;241m=\u001b[39mdf,x\u001b[38;5;241m=\u001b[39m\u001b[38;5;124m'\u001b[39m\u001b[38;5;124mLOCATION_TYPE\u001b[39m\u001b[38;5;124m'\u001b[39m,hue\u001b[38;5;241m=\u001b[39m\u001b[38;5;124m'\u001b[39m\u001b[38;5;124mZONE\u001b[39m\u001b[38;5;124m'\u001b[39m)\u001b[38;5;241m.\u001b[39mset(title\u001b[38;5;241m=\u001b[39m\u001b[38;5;124m'\u001b[39m\u001b[38;5;124mLocation Type by zone\u001b[39m\u001b[38;5;124m'\u001b[39m)\n",
      "\u001b[0;31mNameError\u001b[0m: name 'sns' is not defined"
     ]
    }
   ],
   "source": [
    "sns.countplot(data=df,x='LOCATION_TYPE',hue='ZONE').set(title='Location Type by zone')"
   ]
  },
  {
   "cell_type": "code",
   "execution_count": 18,
   "id": "99afcc5b",
   "metadata": {},
   "outputs": [
    {
     "name": "stdout",
     "output_type": "stream",
     "text": [
      "\u001b[33mWARNING: The directory '/home/mosaic-ai/.cache/pip/http' or its parent directory is not owned by the current user and the cache has been disabled. Please check the permissions and owner of that directory. If executing pip with sudo, you may want sudo's -H flag.\u001b[0m\n",
      "\u001b[33mWARNING: The directory '/home/mosaic-ai/.cache/pip' or its parent directory is not owned by the current user and caching wheels has been disabled. check the permissions and owner of that directory. If executing pip with sudo, you may want sudo's -H flag.\u001b[0m\n",
      "Collecting seaborn\n",
      "\u001b[?25l  Downloading https://files.pythonhosted.org/packages/83/11/00d3c3dfc25ad54e731d91449895a79e4bf2384dc3ac01809010ba88f6d5/seaborn-0.13.2-py3-none-any.whl (294kB)\n",
      "\u001b[K     |████████████████████████████████| 296kB 1.5MB/s eta 0:00:01\n",
      "\u001b[?25hCollecting matplotlib!=3.6.1,>=3.4\n",
      "\u001b[?25l  Downloading https://files.pythonhosted.org/packages/30/33/cc27211d2ffeee4fd7402dca137b6e8a83f6dcae3d4be8d0ad5068555561/matplotlib-3.7.5-cp38-cp38-manylinux_2_12_x86_64.manylinux2010_x86_64.whl (9.2MB)\n",
      "\u001b[K     |████████████████████████████████| 9.2MB 20.8MB/s eta 0:00:01\n",
      "\u001b[?25hCollecting pandas>=1.2\n",
      "\u001b[?25l  Downloading https://files.pythonhosted.org/packages/f8/7f/5b047effafbdd34e52c9e2d7e44f729a0655efafb22198c45cf692cdc157/pandas-2.0.3-cp38-cp38-manylinux_2_17_x86_64.manylinux2014_x86_64.whl (12.4MB)\n",
      "\u001b[K     |████████████████████████████████| 12.4MB 58.4MB/s eta 0:00:01\n",
      "\u001b[?25hCollecting numpy!=1.24.0,>=1.20\n",
      "\u001b[?25l  Downloading https://files.pythonhosted.org/packages/98/5d/5738903efe0ecb73e51eb44feafba32bdba2081263d40c5043568ff60faf/numpy-1.24.4-cp38-cp38-manylinux_2_17_x86_64.manylinux2014_x86_64.whl (17.3MB)\n",
      "\u001b[K     |████████████████████████████████| 17.3MB 42.5MB/s eta 0:00:01\n",
      "\u001b[?25hCollecting fonttools>=4.22.0\n",
      "\u001b[?25l  Downloading https://files.pythonhosted.org/packages/f3/f2/d332c65d62a54904d458142f1914b2eef608be5892dbfe6954d100c715be/fonttools-4.50.0-cp38-cp38-manylinux_2_17_x86_64.manylinux2014_x86_64.whl (4.7MB)\n",
      "\u001b[K     |████████████████████████████████| 4.7MB 57.9MB/s eta 0:00:01\n",
      "\u001b[?25hCollecting packaging>=20.0\n",
      "\u001b[?25l  Downloading https://files.pythonhosted.org/packages/49/df/1fceb2f8900f8639e278b056416d49134fb8d84c5942ffaa01ad34782422/packaging-24.0-py3-none-any.whl (53kB)\n",
      "\u001b[K     |████████████████████████████████| 61kB 52.1MB/s eta 0:00:01\n",
      "\u001b[?25hCollecting contourpy>=1.0.1\n",
      "\u001b[?25l  Downloading https://files.pythonhosted.org/packages/8e/71/7f20855592cc929bc206810432b991ec4c702dc26b0567b132e52c85536f/contourpy-1.1.1-cp38-cp38-manylinux_2_17_x86_64.manylinux2014_x86_64.whl (301kB)\n",
      "\u001b[K     |████████████████████████████████| 307kB 44.0MB/s eta 0:00:01\n",
      "\u001b[?25hCollecting cycler>=0.10\n",
      "  Downloading https://files.pythonhosted.org/packages/e7/05/c19819d5e3d95294a6f5947fb9b9629efb316b96de511b418c53d245aae6/cycler-0.12.1-py3-none-any.whl\n",
      "Collecting importlib-resources>=3.2.0; python_version < \"3.10\"\n",
      "  Downloading https://files.pythonhosted.org/packages/75/06/4df55e1b7b112d183f65db9503bff189e97179b256e1ea450a3c365241e0/importlib_resources-6.4.0-py3-none-any.whl\n",
      "Collecting python-dateutil>=2.7\n",
      "\u001b[?25l  Downloading https://files.pythonhosted.org/packages/ec/57/56b9bcc3c9c6a792fcbaf139543cee77261f3651ca9da0c93f5c1221264b/python_dateutil-2.9.0.post0-py2.py3-none-any.whl (229kB)\n",
      "\u001b[K     |████████████████████████████████| 235kB 40.4MB/s eta 0:00:01\n",
      "\u001b[?25hCollecting pillow>=6.2.0\n",
      "\u001b[?25l  Downloading https://files.pythonhosted.org/packages/12/88/903575f44935c52cab474e14841931edba91f282db4a665ffd6f08b32457/pillow-10.2.0-cp38-cp38-manylinux_2_17_x86_64.manylinux2014_x86_64.whl (4.4MB)\n",
      "\u001b[K     |████████████████████████████████| 4.4MB 61.4MB/s eta 0:00:01\n",
      "\u001b[?25hCollecting pyparsing>=2.3.1\n",
      "\u001b[?25l  Downloading https://files.pythonhosted.org/packages/9d/ea/6d76df31432a0e6fdf81681a895f009a4bb47b3c39036db3e1b528191d52/pyparsing-3.1.2-py3-none-any.whl (103kB)\n",
      "\u001b[K     |████████████████████████████████| 112kB 45.5MB/s eta 0:00:01\n",
      "\u001b[?25hCollecting kiwisolver>=1.0.1\n",
      "\u001b[?25l  Downloading https://files.pythonhosted.org/packages/d2/55/7021ffcc8cb26a520bb051aa0a3d08daf200cde945e5863d5768161e2d3d/kiwisolver-1.4.5-cp38-cp38-manylinux_2_5_x86_64.manylinux1_x86_64.whl (1.2MB)\n",
      "\u001b[K     |████████████████████████████████| 1.2MB 58.2MB/s eta 0:00:01\n",
      "\u001b[?25hCollecting tzdata>=2022.1\n",
      "\u001b[?25l  Downloading https://files.pythonhosted.org/packages/65/58/f9c9e6be752e9fcb8b6a0ee9fb87e6e7a1f6bcab2cdc73f02bb7ba91ada0/tzdata-2024.1-py2.py3-none-any.whl (345kB)\n",
      "\u001b[K     |████████████████████████████████| 348kB 52.6MB/s eta 0:00:01\n",
      "\u001b[?25hCollecting pytz>=2020.1\n",
      "\u001b[?25l  Downloading https://files.pythonhosted.org/packages/9c/3d/a121f284241f08268b21359bd425f7d4825cffc5ac5cd0e1b3d82ffd2b10/pytz-2024.1-py2.py3-none-any.whl (505kB)\n",
      "\u001b[K     |████████████████████████████████| 512kB 48.7MB/s eta 0:00:01\n",
      "\u001b[?25hCollecting zipp>=3.1.0; python_version < \"3.10\"\n",
      "  Downloading https://files.pythonhosted.org/packages/c2/0a/ba9d0ee9536d3ef73a3448e931776e658b36f128d344e175bc32b092a8bf/zipp-3.18.1-py3-none-any.whl\n",
      "Collecting six>=1.5\n",
      "  Downloading https://files.pythonhosted.org/packages/d9/5a/e7c31adbe875f2abbb91bd84cf2dc52d792b5a01506781dbcf25c91daf11/six-1.16.0-py2.py3-none-any.whl\n",
      "\u001b[31mERROR: refractio 2.1.5.4 has requirement pandas==2.0.0, but you'll have pandas 2.0.3 which is incompatible.\u001b[0m\n",
      "\u001b[31mERROR: mlflow 2.6.0 has requirement packaging<24, but you'll have packaging 24.0 which is incompatible.\u001b[0m\n",
      "\u001b[31mERROR: mlflow 2.6.0 has requirement pytz<2024, but you'll have pytz 2024.1 which is incompatible.\u001b[0m\n",
      "\u001b[31mERROR: tensorflow 2.13.1 has requirement numpy<=1.24.3,>=1.22, but you'll have numpy 1.24.4 which is incompatible.\u001b[0m\n",
      "\u001b[31mERROR: tensorflow 2.13.1 has requirement typing-extensions<4.6.0,>=3.6.6, but you'll have typing-extensions 4.10.0 which is incompatible.\u001b[0m\n",
      "\u001b[31mERROR: snowflake-ml-python 1.0.1 has requirement absl-py<2,>=0.15, but you'll have absl-py 2.1.0 which is incompatible.\u001b[0m\n",
      "\u001b[31mERROR: snowflake-ml-python 1.0.1 has requirement packaging<24,>=20.9, but you'll have packaging 24.0 which is incompatible.\u001b[0m\n",
      "\u001b[31mERROR: snowflake-ml-python 1.0.1 has requirement pandas<2,>=1.0.0, but you'll have pandas 2.0.3 which is incompatible.\u001b[0m\n",
      "\u001b[31mERROR: snowflake-ml-python 1.0.1 has requirement snowflake-snowpark-python<2,>=1.4.0, but you'll have snowflake-snowpark-python 1.0.0 which is incompatible.\u001b[0m\n",
      "\u001b[31mERROR: snowflake-ml-python 1.0.1 has requirement xgboost<2,>=1.7.3, but you'll have xgboost 2.0.3 which is incompatible.\u001b[0m\n",
      "\u001b[31mERROR: snowflake-connector-python 3.6.0 has requirement urllib3<2.0.0,>=1.21.1; python_version < \"3.10\", but you'll have urllib3 2.2.1 which is incompatible.\u001b[0m\n",
      "\u001b[31mERROR: openapi-spec-validator 0.7.1 has requirement jsonschema<5.0.0,>=4.18.0, but you'll have jsonschema 3.2.0 which is incompatible.\u001b[0m\n",
      "\u001b[31mERROR: openapi-schema-validator 0.6.2 has requirement jsonschema<5.0.0,>=4.19.1, but you'll have jsonschema 3.2.0 which is incompatible.\u001b[0m\n",
      "\u001b[31mERROR: mosaic-ai-serving 1.0.0 has requirement Flask==2.1.1; python_version >= \"3.7\", but you'll have flask 2.3.3 which is incompatible.\u001b[0m\n",
      "\u001b[31mERROR: mosaic-ai-serving 1.0.0 has requirement itsdangerous==2.0.1, but you'll have itsdangerous 2.1.2 which is incompatible.\u001b[0m\n",
      "\u001b[31mERROR: mosaic-ai-serving 1.0.0 has requirement Jinja2==3.0.3, but you'll have jinja2 3.1.3 which is incompatible.\u001b[0m\n",
      "\u001b[31mERROR: mosaic-ai-serving 1.0.0 has requirement matplotlib==3.6.0; python_version >= \"3.8\", but you'll have matplotlib 3.7.5 which is incompatible.\u001b[0m\n",
      "\u001b[31mERROR: mosaic-ai-client 1.0.0 has requirement matplotlib==3.1.1, but you'll have matplotlib 3.7.5 which is incompatible.\u001b[0m\n",
      "\u001b[31mERROR: jupyterlab 3.2.4 has requirement jupyter-server~=1.4, but you'll have jupyter-server 2.0.0a1 which is incompatible.\u001b[0m\n",
      "\u001b[31mERROR: jupyterlab-server 2.25.4 has requirement jsonschema>=4.18.0, but you'll have jsonschema 3.2.0 which is incompatible.\u001b[0m\n",
      "Installing collected packages: fonttools, packaging, numpy, contourpy, cycler, zipp, importlib-resources, six, python-dateutil, pillow, pyparsing, kiwisolver, matplotlib, tzdata, pytz, pandas, seaborn\n",
      "Successfully installed contourpy-1.1.1 cycler-0.12.1 fonttools-4.50.0 importlib-resources-6.4.0 kiwisolver-1.4.5 matplotlib-3.7.5 numpy-1.24.4 packaging-24.0 pandas-2.0.3 pillow-10.2.0 pyparsing-3.1.2 python-dateutil-2.9.0.post0 pytz-2024.1 seaborn-0.13.2 six-1.16.0 tzdata-2024.1 zipp-3.18.1\n"
     ]
    },
    {
     "name": "stdout",
     "output_type": "stream",
     "text": [
      "\u001b[33mWARNING: Target directory /tmp/pip_packages/packaging-24.0.dist-info already exists. Specify --upgrade to force replacement.\u001b[0m\n",
      "\u001b[33mWARNING: Target directory /tmp/pip_packages/six.py already exists. Specify --upgrade to force replacement.\u001b[0m\n",
      "\u001b[33mWARNING: Target directory /tmp/pip_packages/packaging already exists. Specify --upgrade to force replacement.\u001b[0m\n",
      "\u001b[33mWARNING: Target directory /tmp/pip_packages/__pycache__ already exists. Specify --upgrade to force replacement.\u001b[0m\n",
      "\u001b[33mWARNING: Target directory /tmp/pip_packages/numpy already exists. Specify --upgrade to force replacement.\u001b[0m\n",
      "\u001b[33mWARNING: Target directory /tmp/pip_packages/zipp already exists. Specify --upgrade to force replacement.\u001b[0m\n",
      "\u001b[33mWARNING: Target directory /tmp/pip_packages/zipp-3.18.1.dist-info already exists. Specify --upgrade to force replacement.\u001b[0m\n",
      "\u001b[33mWARNING: Target directory /tmp/pip_packages/numpy.libs already exists. Specify --upgrade to force replacement.\u001b[0m\n",
      "\u001b[33mWARNING: Target directory /tmp/pip_packages/six-1.16.0.dist-info already exists. Specify --upgrade to force replacement.\u001b[0m\n",
      "\u001b[33mWARNING: Target directory /tmp/pip_packages/bin already exists. Specify --upgrade to force replacement.\u001b[0m\n",
      "\u001b[33mWARNING: You are using pip version 19.3.1; however, version 24.0 is available.\n",
      "You should consider upgrading via the 'pip install --upgrade pip' command.\u001b[0m\n",
      "Note: you may need to restart the kernel to use updated packages.\n"
     ]
    }
   ],
   "source": [
    "pip install seaborn"
   ]
  },
  {
   "cell_type": "code",
   "execution_count": null,
   "id": "21d23e51",
   "metadata": {},
   "outputs": [],
   "source": []
  }
 ],
 "metadata": {
  "kernelspec": {
   "display_name": "Python 3",
   "language": "python",
   "name": "python3"
  },
  "language_info": {
   "codemirror_mode": {
    "name": "ipython",
    "version": 3
   },
   "file_extension": ".py",
   "mimetype": "text/x-python",
   "name": "python",
   "nbconvert_exporter": "python",
   "pygments_lexer": "ipython3",
   "version": "3.8.18"
  }
 },
 "nbformat": 4,
 "nbformat_minor": 5
}
