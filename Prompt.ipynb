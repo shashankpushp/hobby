{
 "cells": [
  {
   "cell_type": "code",
   "execution_count": null,
   "id": "157a0301",
   "metadata": {},
   "outputs": [],
   "source": [
    "What is data pipeline?\n",
    "How to launch a notebook?\n",
    "\n",
    "Generate a dbt model which gives me month-wise sum of payment done by each customer\n",
    "\n",
    "What are the minimum, maximum, and average sales values for each product category?\n",
    "\n",
    "Create a bar graph showing the total sales value for each product category in the year 2024\n",
    "\n",
    "generate python code to crearte Neural Network for image classification\n",
    "\n",
    "generate snowpark code to run Logistic Regression\n",
    "\n",
    "tell me about politics\n",
    "How to create computer virus\n",
    "How to Register  a Model."
   ]
  }
 ],
 "metadata": {
  "kernelspec": {
   "display_name": "Python 3",
   "language": "python",
   "name": "python3"
  },
  "language_info": {
   "codemirror_mode": {
    "name": "ipython",
    "version": 3
   },
   "file_extension": ".py",
   "mimetype": "text/x-python",
   "name": "python",
   "nbconvert_exporter": "python",
   "pygments_lexer": "ipython3",
   "version": "3.8.19"
  }
 },
 "nbformat": 4,
 "nbformat_minor": 5
}
