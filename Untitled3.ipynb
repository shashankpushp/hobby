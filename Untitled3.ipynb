{
 "cells": [
  {
   "cell_type": "code",
   "execution_count": null,
   "id": "5d90ef3c",
   "metadata": {},
   "outputs": [],
   "source": [
    " SNOWPARK CODE: \n",
    "     from snowflake.snowpark.functions import when_matched, when_not_matched\n",
    "     from snowflake.snowpark.types import IntegerType, StringType, StructField, StructType\n",
    "     schema = StructType([StructField(\"key\", IntegerType()), StructField(\"value\", StringType())])\n",
    "     target_df = session.create_dataframe([(10, \"old\"), (10, \"too_old\"), (11, \"old\")], schema=schema)\n",
    "     target_df.write.save_as_table(\"my_table\", mode=\"overwrite\", table_type=\"temporary\")\n",
    "     target = session.table(\"my_table\")\n",
    "     source = session.create_dataframe([(10, \"new\"), (12, \"new\"), (13, \"old\")], schema=schema)\n",
    "     target.merge(source, (target[\"key\"] == source[\"key\"]) & (target[\"value\"] == \"too_old\"),\n",
    "                 [when_matched().update({\"value\": source[\"value\"]}), when_not_matched().insert({\"key\": source[\"key\"]})])\n",
    "     MergeResult(rows_inserted=2, rows_updated=1, rows_deleted=0)\n",
    "     target.sort(\"key\", \"value\").collect()\n",
    "     [Row(KEY=10, VALUE='new'), Row(KEY=10, VALUE='old'), Row(KEY=11, VALUE='old'), Row(KEY=12, VALUE=None), Row(KEY=13, VALUE=None)]\n",
    "     \n",
    "     EXPLANATION:\n",
    "     The code above uses the merge function to merge two datasets. The merge function takes in the target dataframe and the source dataframe. The join expression is specified using the join_expr parameter. The clauses parameter is used to specify the actions to perform when the values from this Table and source match or not match on join_expr. These actions can only be instances of WhenMatchedClause and WhenNotMatchedClause, and will be performed sequentially in this list. The result of the merge is a MergeResult object, representing the number of rows inserted, updated and deleted by this merge action. The result is then sorted by key and value and collected."
   ]
  },
  {
   "cell_type": "code",
   "execution_count": null,
   "id": "d0ea9401",
   "metadata": {},
   "outputs": [],
   "source": []
  }
 ],
 "metadata": {
  "kernelspec": {
   "display_name": "Python 3",
   "language": "python",
   "name": "python3"
  },
  "language_info": {
   "codemirror_mode": {
    "name": "ipython",
    "version": 3
   },
   "file_extension": ".py",
   "mimetype": "text/x-python",
   "name": "python",
   "nbconvert_exporter": "python",
   "pygments_lexer": "ipython3",
   "version": "3.9.18"
  }
 },
 "nbformat": 4,
 "nbformat_minor": 5
}
