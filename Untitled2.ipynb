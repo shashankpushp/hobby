{
 "cells": [
  {
   "cell_type": "code",
   "execution_count": 4,
   "id": "b498682b",
   "metadata": {},
   "outputs": [],
   "source": [
    "from fosforio import snowflake"
   ]
  },
  {
   "cell_type": "code",
   "execution_count": 6,
   "id": "307ceecf",
   "metadata": {},
   "outputs": [
    {
     "name": "stdout",
     "output_type": "stream",
     "text": [
      "Connection object created: <snowflake.connector.connection.SnowflakeConnection object at 0x7f49646ee670>\n",
      "Please close the connection after use!\n"
     ]
    }
   ],
   "source": [
    "conne = snowflake.get_connection('SOL_ASSORTMENT_PLANNING_C')"
   ]
  },
  {
   "cell_type": "code",
   "execution_count": 7,
   "id": "db560c4e",
   "metadata": {},
   "outputs": [
    {
     "data": {
      "text/plain": [
       "<snowflake.connector.connection.SnowflakeConnection at 0x7f49646ee670>"
      ]
     },
     "execution_count": 7,
     "metadata": {},
     "output_type": "execute_result"
    }
   ],
   "source": [
    "conne"
   ]
  }
 ],
 "metadata": {
  "kernelspec": {
   "display_name": "Python 3",
   "language": "python",
   "name": "python3"
  },
  "language_info": {
   "codemirror_mode": {
    "name": "ipython",
    "version": 3
   },
   "file_extension": ".py",
   "mimetype": "text/x-python",
   "name": "python",
   "nbconvert_exporter": "python",
   "pygments_lexer": "ipython3",
   "version": "3.9.18"
  }
 },
 "nbformat": 4,
 "nbformat_minor": 5
}
