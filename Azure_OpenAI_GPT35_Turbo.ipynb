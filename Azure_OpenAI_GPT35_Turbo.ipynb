{
 "cells": [
  {
   "cell_type": "markdown",
   "id": "a6844525",
   "metadata": {},
   "source": [
    "# Run using AWS_BedRock_Anthropic_Claude_V2 Notebook template (Python 3.9 with numpy == 1.24.0 and refractml==1.0.3, Medium Container)\n"
   ]
  },
  {
   "cell_type": "code",
   "execution_count": null,
   "id": "fc8283c7",
   "metadata": {},
   "outputs": [],
   "source": [
    "!pip install openai==0.28.1"
   ]
  },
  {
   "cell_type": "code",
   "execution_count": null,
   "id": "f3ce214b",
   "metadata": {},
   "outputs": [],
   "source": [
    "AZURE_OPENAI_KEY=openai_key\n",
    "AZURE_OPENAI_ENDPOINT=\"https://gear.openai.azure.com/\""
   ]
  },
  {
   "cell_type": "code",
   "execution_count": null,
   "id": "29960a54",
   "metadata": {},
   "outputs": [],
   "source": [
    "import os\n",
    "import openai\n",
    "\n",
    "openai.api_key = AZURE_OPENAI_KEY\n",
    "openai.api_base = AZURE_OPENAI_ENDPOINT # your endpoint should look like the following https://YOUR_RESOURCE_NAME.openai.azure.com/\n",
    "openai.api_type = 'azure'\n",
    "openai.api_version = '2023-07-01-preview' # this might change in the future\n",
    "deployment_name='gpt-35-turbo' #This will correspond to the custom name you chose for your deployment when you deployed a model. "
   ]
  },
  {
   "cell_type": "code",
   "execution_count": null,
   "id": "4f75cd4a",
   "metadata": {},
   "outputs": [],
   "source": [
    "message_text = [{\"role\":\"system\",\"content\":\"You are an AI assistant that helps people find information.\"},{\"role\":\"user\",\"content\":\"who is President of India ?\"},{\"role\":\"assistant\",\"content\":\"As of September 2021, the Prime Minister of India is Narendra Modi.\"}]"
   ]
  },
  {
   "cell_type": "code",
   "execution_count": null,
   "id": "c25e1de2",
   "metadata": {
    "scrolled": true
   },
   "outputs": [],
   "source": [
    "completion = openai.ChatCompletion.create(\n",
    "  engine=\"gpt-35-turbo\",\n",
    "  messages = message_text,\n",
    "  temperature=0.7,\n",
    "  max_tokens=800,\n",
    "  top_p=0.95,\n",
    "  frequency_penalty=0,\n",
    "  presence_penalty=0,\n",
    "  stop=None\n",
    ")"
   ]
  },
  {
   "cell_type": "code",
   "execution_count": null,
   "id": "f4a3ac85",
   "metadata": {},
   "outputs": [],
   "source": [
    "completion"
   ]
  },
  {
   "cell_type": "code",
   "execution_count": null,
   "id": "9337a426",
   "metadata": {},
   "outputs": [],
   "source": [
    "completion['choices'][0]['message']['content'].replace('\\n', '').replace(' .', '.').strip()"
   ]
  },
  {
   "cell_type": "code",
   "execution_count": null,
   "id": "1fc73d4e",
   "metadata": {},
   "outputs": [],
   "source": [
    "from refractml import *\n",
    "from refractml.constants import MLModelFlavours\n",
    "\n",
    "# new score functions\n",
    "from mosaic_utils.ai.score.base import ScoreBase\n",
    "from typing import Tuple, Union, List, Any\n",
    "import numpy as np"
   ]
  },
  {
   "cell_type": "code",
   "execution_count": null,
   "id": "8c38bf26",
   "metadata": {},
   "outputs": [],
   "source": [
    "# Model Registration\n",
    "class ScoreTemplateExample(ScoreBase):\n",
    "    \"\"\"\n",
    "    This Class Demonstrate How To Implements ScoreBase Interface Class And It Basic Usage.\n",
    "    \"\"\"    \n",
    "    def __init__(self):\n",
    "        super().__init__()\n",
    "        import openai\n",
    "        \n",
    "        openai.api_key = self.AZURE_OPENAI_KEY\n",
    "        openai.api_base = \"https://gear.openai.azure.com/\" #self.AZURE_OPENAI_ENDPOINT # your endpoint should look like the following https://YOUR_RESOURCE_NAME.openai.azure.com/\n",
    "        openai.api_type = 'azure'\n",
    "        openai.api_version = '2023-07-01-preview' # this might change in the future\n",
    "        deployment_name='gpt-35-turbo'\n",
    "    \n",
    "    def request_processing_fn(self, request) :\n",
    "        \"\"\"\n",
    "        Processes Request Object -> List[Input data, ..]. It could be:\n",
    "               A List Mapping of All Value Can Be one of : \n",
    "                   - List[ [Feature_Value1, Feature_Value2, ...], [...] ]\n",
    "                   - List[numpy.array(), numpy.array(), ...]\n",
    "                   - List[tf.Tensor, tf.Tensor, tf.Tensor, ...]\n",
    "                   - List[ SingleSample, SingleSample]\n",
    "                   \n",
    "        :return: (n_inputs, payload's)\n",
    "        \n",
    "        Warnings:\n",
    "        1. Do not reshape your final output for single sample here, do it in prediction.\n",
    "           Else payloads will be invalidated for extraction at raw and extraction level.\n",
    "        \"\"\"\n",
    "        final_payload = []\n",
    "        raw_payload = request.json[\"payload\"]\n",
    "        return (1, raw_payload) \n",
    "    \n",
    "    def pre_processing_fn(self,payload):\n",
    "        # All preprocessing step must occur in this section\n",
    "        # Takes Single Sample -> Returns Single Sample\n",
    "        \n",
    "        # Not Doing Any Preprocessing Hence Returned payload\n",
    "        #print(\"payload is \", payload)\n",
    "        return payload\n",
    "\n",
    "    def prediction_fn(self,\n",
    "                      model: Any,\n",
    "                      pre_processed_input \n",
    "                      ):\n",
    "        \"\"\"\n",
    "                Does the main prediction on pre_processed_input(Single Sample) using supplied model .\n",
    "\n",
    "                :param model: Supported Model\n",
    "                :param pre_processed_input: Single Preprocessed Payload\n",
    "                :return: Prediction Value From the model\n",
    "                \n",
    "                Important Notes:\n",
    "                - Reshape your data array.reshape(1, -1) before predictions as it contains a single sample.\n",
    "                    \n",
    "        \"\"\"\n",
    "        #self.message_text \n",
    "        conversation=[{\"role\": \"system\", \"content\": \"You are a helpful assistant.\"}]\n",
    "        conversation.append({\"role\": \"user\", \"content\": pre_processed_input})\n",
    "        #print (conversation)\n",
    "        completion = openai.ChatCompletion.create(\n",
    "            engine=\"gpt-35-turbo\",\n",
    "            messages = conversation,\n",
    "            temperature=0.7,\n",
    "            max_tokens=800,\n",
    "            top_p=0.95,\n",
    "            frequency_penalty=0,\n",
    "            presence_penalty=0,\n",
    "            stop=None\n",
    "        )\n",
    "        \n",
    "        #print (completion)\n",
    "        return completion['choices'][0]['message']['content'].replace('\\n', '').replace(' .', '.').strip()\n",
    "\n",
    "\n",
    "    class Meta:    \n",
    "        # List of Callables() can be attached For Calling After AnSd Before Scoring\n",
    "        def __init__(self):\n",
    "            self.name = \"Pre Hooked Me !\"\n",
    "            self.pre_call_hooks.append(self.print_)\n",
    "        def print_(self):\n",
    "            print(self.name)\n",
    "        pre_call_hooks = []\n",
    "        post_call_hooks = []"
   ]
  },
  {
   "cell_type": "code",
   "execution_count": null,
   "id": "c68ea891",
   "metadata": {},
   "outputs": [],
   "source": [
    "prompt = \"Who is the Defence Minister of India\"\n",
    "import requests\n",
    "req = requests.Request()\n",
    "req.json = {\"payload\":prompt}\n",
    "req.json"
   ]
  },
  {
   "cell_type": "code",
   "execution_count": null,
   "id": "5501f4ac",
   "metadata": {},
   "outputs": [],
   "source": [
    "score_ = ScoreTemplateExample()\n",
    "model_predictions = score_.score(None, req, dry_run=True)"
   ]
  },
  {
   "cell_type": "code",
   "execution_count": null,
   "id": "b91c65d4",
   "metadata": {},
   "outputs": [],
   "source": [
    "print(model_predictions[0].score_response)"
   ]
  },
  {
   "cell_type": "code",
   "execution_count": null,
   "id": "67dfabfc",
   "metadata": {
    "scrolled": true
   },
   "outputs": [],
   "source": [
    "register_model(None,\n",
    "               ScoreTemplateExample,\n",
    "               \"Azure_OpenAI_GPT35_Turbo\",\n",
    "               \"Azure_OpenAI_GPT35_Turbo\",\n",
    "               MLModelFlavours.pytorch,\n",
    "               init_script=\"pip install openai==0.28.1\",\n",
    "              )"
   ]
  }
 ],
 "metadata": {
  "kernelspec": {
   "display_name": "Python 3",
   "language": "python",
   "name": "python3"
  },
  "language_info": {
   "codemirror_mode": {
    "name": "ipython",
    "version": 3
   },
   "file_extension": ".py",
   "mimetype": "text/x-python",
   "name": "python",
   "nbconvert_exporter": "python",
   "pygments_lexer": "ipython3",
   "version": "3.8.18"
  }
 },
 "nbformat": 4,
 "nbformat_minor": 5
}
