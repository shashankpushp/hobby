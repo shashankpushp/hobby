{
 "cells": [
  {
   "cell_type": "markdown",
   "id": "59c1e73a",
   "metadata": {},
   "source": [
    "<h1>Import libraries</h1>"
   ]
  },
  {
   "cell_type": "markdown",
   "id": "7d948516",
   "metadata": {},
   "source": [
    "<h1>Establish connection to snowflake and Importing Tables</h1>"
   ]
  },
  {
   "cell_type": "code",
   "execution_count": 1,
   "id": "b043cf2e-4145-4c1e-a94e-5b50b2eb7325",
   "metadata": {},
   "outputs": [
    {
     "data": {
      "text/html": [
       "<div>\n",
       "<style scoped>\n",
       "    .dataframe tbody tr th:only-of-type {\n",
       "        vertical-align: middle;\n",
       "    }\n",
       "\n",
       "    .dataframe tbody tr th {\n",
       "        vertical-align: top;\n",
       "    }\n",
       "\n",
       "    .dataframe thead th {\n",
       "        text-align: right;\n",
       "    }\n",
       "</style>\n",
       "<table border=\"1\" class=\"dataframe\">\n",
       "  <thead>\n",
       "    <tr style=\"text-align: right;\">\n",
       "      <th></th>\n",
       "      <th>TRANSACTION_DATE</th>\n",
       "      <th>MNTH_CODE</th>\n",
       "      <th>YEAR_CODE</th>\n",
       "      <th>SALES_VALUE</th>\n",
       "      <th>SALES_UNITS</th>\n",
       "      <th>SALES_VOLUME</th>\n",
       "      <th>SALES_PTR_VALUE</th>\n",
       "      <th>DISTRIBUTOR_CODE</th>\n",
       "      <th>PRODUCT_CODE</th>\n",
       "      <th>OUTLET_CODE</th>\n",
       "      <th>CITY</th>\n",
       "      <th>STATE</th>\n",
       "      <th>COUNTY</th>\n",
       "      <th>STREET</th>\n",
       "      <th>CATEGORY</th>\n",
       "      <th>VARIANT</th>\n",
       "      <th>BRAND</th>\n",
       "    </tr>\n",
       "  </thead>\n",
       "  <tbody>\n",
       "    <tr>\n",
       "      <th>0</th>\n",
       "      <td>2023-08-01</td>\n",
       "      <td>202204</td>\n",
       "      <td>2022</td>\n",
       "      <td>142.84</td>\n",
       "      <td>16</td>\n",
       "      <td>0.000272</td>\n",
       "      <td>142.857143</td>\n",
       "      <td>DB0110</td>\n",
       "      <td>PRD0028</td>\n",
       "      <td>OL97172</td>\n",
       "      <td>Barrington</td>\n",
       "      <td>Rhode Island</td>\n",
       "      <td>Dolphin</td>\n",
       "      <td>Str3</td>\n",
       "      <td>Soap</td>\n",
       "      <td>Toilet Soap</td>\n",
       "      <td>Indigo</td>\n",
       "    </tr>\n",
       "    <tr>\n",
       "      <th>1</th>\n",
       "      <td>2023-08-01</td>\n",
       "      <td>202204</td>\n",
       "      <td>2022</td>\n",
       "      <td>336.36</td>\n",
       "      <td>2</td>\n",
       "      <td>0.000950</td>\n",
       "      <td>336.363636</td>\n",
       "      <td>DB0652</td>\n",
       "      <td>PRD0098</td>\n",
       "      <td>OL97443</td>\n",
       "      <td>Windsor</td>\n",
       "      <td>Connecticut</td>\n",
       "      <td>Dolphin</td>\n",
       "      <td>Str2</td>\n",
       "      <td>Lotion</td>\n",
       "      <td>Head Lotion</td>\n",
       "      <td>Beige</td>\n",
       "    </tr>\n",
       "    <tr>\n",
       "      <th>2</th>\n",
       "      <td>2023-08-01</td>\n",
       "      <td>202204</td>\n",
       "      <td>2022</td>\n",
       "      <td>109.09</td>\n",
       "      <td>2</td>\n",
       "      <td>0.000220</td>\n",
       "      <td>109.090909</td>\n",
       "      <td>DB0110</td>\n",
       "      <td>PRD0015</td>\n",
       "      <td>OL96862</td>\n",
       "      <td>Bedford</td>\n",
       "      <td>Ohio</td>\n",
       "      <td>Scott</td>\n",
       "      <td>Str1</td>\n",
       "      <td>Kids Care</td>\n",
       "      <td>Diapers</td>\n",
       "      <td>Pearl</td>\n",
       "    </tr>\n",
       "    <tr>\n",
       "      <th>3</th>\n",
       "      <td>2023-08-01</td>\n",
       "      <td>202204</td>\n",
       "      <td>2022</td>\n",
       "      <td>285.69</td>\n",
       "      <td>32</td>\n",
       "      <td>0.000800</td>\n",
       "      <td>285.714286</td>\n",
       "      <td>DB0655</td>\n",
       "      <td>PRD0106</td>\n",
       "      <td>OL96508</td>\n",
       "      <td>Great Falls</td>\n",
       "      <td>Montana</td>\n",
       "      <td>Scott</td>\n",
       "      <td>Str3</td>\n",
       "      <td>Hair Care</td>\n",
       "      <td>Shampoo</td>\n",
       "      <td>Hair &amp; Shoulders</td>\n",
       "    </tr>\n",
       "    <tr>\n",
       "      <th>4</th>\n",
       "      <td>2023-08-01</td>\n",
       "      <td>202204</td>\n",
       "      <td>2022</td>\n",
       "      <td>172.73</td>\n",
       "      <td>1</td>\n",
       "      <td>0.000375</td>\n",
       "      <td>172.727273</td>\n",
       "      <td>DB0209</td>\n",
       "      <td>PRD0093</td>\n",
       "      <td>OL96679</td>\n",
       "      <td>Charlevoix</td>\n",
       "      <td>Michigan</td>\n",
       "      <td>City Center</td>\n",
       "      <td>Str2</td>\n",
       "      <td>Soap</td>\n",
       "      <td>Medicated Soap</td>\n",
       "      <td>Amber</td>\n",
       "    </tr>\n",
       "  </tbody>\n",
       "</table>\n",
       "</div>"
      ],
      "text/plain": [
       "  TRANSACTION_DATE MNTH_CODE  YEAR_CODE  SALES_VALUE  SALES_UNITS  \\\n",
       "0       2023-08-01    202204       2022       142.84           16   \n",
       "1       2023-08-01    202204       2022       336.36            2   \n",
       "2       2023-08-01    202204       2022       109.09            2   \n",
       "3       2023-08-01    202204       2022       285.69           32   \n",
       "4       2023-08-01    202204       2022       172.73            1   \n",
       "\n",
       "   SALES_VOLUME  SALES_PTR_VALUE DISTRIBUTOR_CODE PRODUCT_CODE OUTLET_CODE  \\\n",
       "0      0.000272       142.857143           DB0110      PRD0028     OL97172   \n",
       "1      0.000950       336.363636           DB0652      PRD0098     OL97443   \n",
       "2      0.000220       109.090909           DB0110      PRD0015     OL96862   \n",
       "3      0.000800       285.714286           DB0655      PRD0106     OL96508   \n",
       "4      0.000375       172.727273           DB0209      PRD0093     OL96679   \n",
       "\n",
       "          CITY         STATE       COUNTY STREET   CATEGORY         VARIANT  \\\n",
       "0   Barrington  Rhode Island      Dolphin   Str3       Soap     Toilet Soap   \n",
       "1      Windsor   Connecticut      Dolphin   Str2     Lotion     Head Lotion   \n",
       "2      Bedford          Ohio        Scott   Str1  Kids Care         Diapers   \n",
       "3  Great Falls       Montana        Scott   Str3  Hair Care         Shampoo   \n",
       "4   Charlevoix      Michigan  City Center   Str2       Soap  Medicated Soap   \n",
       "\n",
       "              BRAND  \n",
       "0            Indigo  \n",
       "1             Beige  \n",
       "2             Pearl  \n",
       "3  Hair & Shoulders  \n",
       "4             Amber  "
      ]
     },
     "execution_count": 1,
     "metadata": {},
     "output_type": "execute_result"
    }
   ],
   "source": [
    "from fosforml.model_manager.snowflakesession import get_session\n",
    "my_session = get_session()\n",
    " \n",
    "table_name = 'SOL_ASSORTMENT_PLANNING_COMB'\n",
    " \n",
    "sf_df = my_session.sql(\"select * from {}\".format(table_name))\n",
    "sales_bangalore_2022 = sf_df.to_pandas()\n",
    " \n",
    "sales_bangalore_2022.head()"
   ]
  },
  {
   "cell_type": "code",
   "execution_count": 2,
   "id": "c976e14c-6693-4f3a-be6a-4e8991f0795c",
   "metadata": {},
   "outputs": [
    {
     "data": {
      "text/html": [
       "<div>\n",
       "<style scoped>\n",
       "    .dataframe tbody tr th:only-of-type {\n",
       "        vertical-align: middle;\n",
       "    }\n",
       "\n",
       "    .dataframe tbody tr th {\n",
       "        vertical-align: top;\n",
       "    }\n",
       "\n",
       "    .dataframe thead th {\n",
       "        text-align: right;\n",
       "    }\n",
       "</style>\n",
       "<table border=\"1\" class=\"dataframe\">\n",
       "  <thead>\n",
       "    <tr style=\"text-align: right;\">\n",
       "      <th></th>\n",
       "      <th>S_NO</th>\n",
       "      <th>UNIQUE_ID</th>\n",
       "      <th>FREQUENCYM</th>\n",
       "      <th>SALES_VALUE_AVG</th>\n",
       "      <th>SALES_UNITS_AVG</th>\n",
       "      <th>SALES_INDICATOR</th>\n",
       "      <th>SCHEME_AMOUNT_PERPRODUCT</th>\n",
       "    </tr>\n",
       "  </thead>\n",
       "  <tbody>\n",
       "    <tr>\n",
       "      <th>0</th>\n",
       "      <td>0</td>\n",
       "      <td>PRD0002-OL10330</td>\n",
       "      <td>0.6</td>\n",
       "      <td>0.004323138</td>\n",
       "      <td>0.00040404</td>\n",
       "      <td>1</td>\n",
       "      <td>0.000465</td>\n",
       "    </tr>\n",
       "    <tr>\n",
       "      <th>1</th>\n",
       "      <td>1</td>\n",
       "      <td>PRD0002-OL10346</td>\n",
       "      <td>0.2</td>\n",
       "      <td>0.001429593</td>\n",
       "      <td>0.00013468</td>\n",
       "      <td>0</td>\n",
       "      <td>0.000465</td>\n",
       "    </tr>\n",
       "    <tr>\n",
       "      <th>2</th>\n",
       "      <td>2</td>\n",
       "      <td>PRD0002-OL10347</td>\n",
       "      <td>0.2</td>\n",
       "      <td>0.001766519</td>\n",
       "      <td>0.00016835</td>\n",
       "      <td>0</td>\n",
       "      <td>0.000465</td>\n",
       "    </tr>\n",
       "    <tr>\n",
       "      <th>3</th>\n",
       "      <td>3</td>\n",
       "      <td>PRD0002-OL10358</td>\n",
       "      <td>1.0</td>\n",
       "      <td>0.01577123</td>\n",
       "      <td>0.001481481</td>\n",
       "      <td>1</td>\n",
       "      <td>0.000465</td>\n",
       "    </tr>\n",
       "    <tr>\n",
       "      <th>4</th>\n",
       "      <td>4</td>\n",
       "      <td>PRD0002-OL10386</td>\n",
       "      <td>0.8</td>\n",
       "      <td>0.00841699</td>\n",
       "      <td>0.000791246</td>\n",
       "      <td>1</td>\n",
       "      <td>0.000465</td>\n",
       "    </tr>\n",
       "  </tbody>\n",
       "</table>\n",
       "</div>"
      ],
      "text/plain": [
       "   S_NO        UNIQUE_ID  FREQUENCYM SALES_VALUE_AVG SALES_UNITS_AVG  \\\n",
       "0     0  PRD0002-OL10330         0.6     0.004323138      0.00040404   \n",
       "1     1  PRD0002-OL10346         0.2     0.001429593      0.00013468   \n",
       "2     2  PRD0002-OL10347         0.2     0.001766519      0.00016835   \n",
       "3     3  PRD0002-OL10358         1.0      0.01577123     0.001481481   \n",
       "4     4  PRD0002-OL10386         0.8      0.00841699     0.000791246   \n",
       "\n",
       "   SALES_INDICATOR  SCHEME_AMOUNT_PERPRODUCT  \n",
       "0                1                  0.000465  \n",
       "1                0                  0.000465  \n",
       "2                0                  0.000465  \n",
       "3                1                  0.000465  \n",
       "4                1                  0.000465  "
      ]
     },
     "execution_count": 2,
     "metadata": {},
     "output_type": "execute_result"
    }
   ],
   "source": [
    "table_name = 'SOL_ASSORTMENT_PLANNING_TRAIN_DATA_MODEL'\n",
    " \n",
    "sf_df = my_session.sql(\"select * from {}\".format(table_name))\n",
    "train_final = sf_df.to_pandas()\n",
    " \n",
    "train_final.head()"
   ]
  },
  {
   "cell_type": "code",
   "execution_count": null,
   "id": "f5f8816c-56ae-4a7d-9bdc-02917f82cc5f",
   "metadata": {},
   "outputs": [],
   "source": [
    "table_name = 'SOL_ASSORTMENT_PLANNING_TEST_SET_MODEL'\n",
    " \n",
    "sf_df = my_session.sql(\"select * from {}\".format(table_name))\n",
    "test_final = sf_df.to_pandas()\n",
    " \n",
    "test_final.head()"
   ]
  },
  {
   "cell_type": "markdown",
   "id": "bf0742cc",
   "metadata": {},
   "source": [
    "<h1>Analyze data</h1>"
   ]
  },
  {
   "cell_type": "code",
   "execution_count": null,
   "id": "ae4f3c12",
   "metadata": {},
   "outputs": [],
   "source": [
    "sales_bangalore_2022 = session.table(\"SOL_ASSORTMENT_PLANNING_COMB\").to_pandas()"
   ]
  },
  {
   "cell_type": "code",
   "execution_count": null,
   "id": "5a595dab",
   "metadata": {},
   "outputs": [],
   "source": [
    "sales_bangalore_2022.head()"
   ]
  },
  {
   "cell_type": "code",
   "execution_count": 3,
   "id": "9f636159",
   "metadata": {},
   "outputs": [
    {
     "ename": "NameError",
     "evalue": "name 'session' is not defined",
     "output_type": "error",
     "traceback": [
      "\u001b[0;31m---------------------------------------------------------------------------\u001b[0m",
      "\u001b[0;31mNameError\u001b[0m                                 Traceback (most recent call last)",
      "Cell \u001b[0;32mIn[3], line 1\u001b[0m\n\u001b[0;32m----> 1\u001b[0m train_final \u001b[38;5;241m=\u001b[39m \u001b[43msession\u001b[49m\u001b[38;5;241m.\u001b[39mtable(\u001b[38;5;124m\"\u001b[39m\u001b[38;5;124mSOL_ASSORTMENT_PLANNING_TRAIN_DATA_MODEL\u001b[39m\u001b[38;5;124m\"\u001b[39m)\u001b[38;5;241m.\u001b[39mto_pandas()\n\u001b[1;32m      2\u001b[0m train_final\u001b[38;5;241m.\u001b[39mhead(\u001b[38;5;241m1\u001b[39m)\n",
      "\u001b[0;31mNameError\u001b[0m: name 'session' is not defined"
     ]
    }
   ],
   "source": [
    "train_final = session.table(\"SOL_ASSORTMENT_PLANNING_TRAIN_DATA_MODEL\").to_pandas()\n",
    "train_final.head(1)"
   ]
  },
  {
   "cell_type": "code",
   "execution_count": null,
   "id": "fb6928e8-8f61-4990-825c-0baf931b722d",
   "metadata": {},
   "outputs": [],
   "source": [
    "table_name = 'SOL_ASSORTMENT_PLANNING_COMB'\n",
    " \n",
    "sf_df = my_session.sql(\"select * from {}\".format(table_name))\n",
    "sales_bangalore_2022 = sf_df.to_pandas()\n",
    " \n",
    "sales_bangalore_2022.head()"
   ]
  },
  {
   "cell_type": "code",
   "execution_count": null,
   "id": "89005e11",
   "metadata": {},
   "outputs": [],
   "source": [
    "train_final.columns = train_final.columns.str.lower()"
   ]
  },
  {
   "cell_type": "code",
   "execution_count": null,
   "id": "84f3f7d6",
   "metadata": {},
   "outputs": [],
   "source": [
    "train_final.head(1)"
   ]
  },
  {
   "cell_type": "code",
   "execution_count": null,
   "id": "6a21b7a0",
   "metadata": {},
   "outputs": [],
   "source": [
    "master_data = sales_bangalore_2022.copy()\n",
    "master_data.head(1)"
   ]
  },
  {
   "cell_type": "code",
   "execution_count": null,
   "id": "5ed19aee",
   "metadata": {},
   "outputs": [],
   "source": [
    "master_data.columns = master_data.columns.str.lower()\n",
    "master_data.head(1)"
   ]
  },
  {
   "cell_type": "code",
   "execution_count": null,
   "id": "4f2b440d",
   "metadata": {},
   "outputs": [],
   "source": [
    "df1=master_data.copy\n",
    "master_data['unique_id']=master_data['product_code']+'-'+ master_data['outlet_code']"
   ]
  },
  {
   "cell_type": "markdown",
   "id": "d55253a1",
   "metadata": {},
   "source": [
    "<h1>Train Model</h1>"
   ]
  },
  {
   "cell_type": "code",
   "execution_count": null,
   "id": "5023845a",
   "metadata": {},
   "outputs": [],
   "source": [
    "from sklearn.linear_model import LogisticRegression\n",
    "from sklearn.model_selection import train_test_split\n",
    "X_train,X_test,y_train,y_test = train_test_split(train_final[['frequencym','sales_value_avg','scheme_amount_perproduct']],train_final['sales_indicator'],test_size=0.3,random_state=42)"
   ]
  },
  {
   "cell_type": "code",
   "execution_count": null,
   "id": "b0b1c4fa",
   "metadata": {},
   "outputs": [],
   "source": [
    "import pickle\n",
    "\n",
    "with open('logreg.pkl', 'rb') as model_file:\n",
    "   loaded_model = pickle.load(model_file)\n",
    "probs = loaded_model.predict_proba(X_test)\n",
    "probs"
   ]
  },
  {
   "cell_type": "code",
   "execution_count": null,
   "id": "577066f1",
   "metadata": {},
   "outputs": [],
   "source": [
    "cutoff = 0.3\n",
    "y_pred = (probs[:,1]>=cutoff).astype(int)\n",
    "from sklearn.metrics import classification_report\n",
    "print(classification_report(y_test,y_pred))"
   ]
  },
  {
   "cell_type": "markdown",
   "id": "7fda12a7",
   "metadata": {},
   "source": [
    "<h1> Test model </h1>"
   ]
  },
  {
   "cell_type": "code",
   "execution_count": null,
   "id": "578d8832",
   "metadata": {},
   "outputs": [],
   "source": [
    "test_final = session.table(\"SOL_ASSORTMENT_PLANNING_TEST_SET_MODEL\").to_pandas()\n",
    "test_final.columns = test_final.columns.str.lower()\n",
    "test_final.head(1)\n"
   ]
  },
  {
   "cell_type": "code",
   "execution_count": null,
   "id": "2e1d8340",
   "metadata": {},
   "outputs": [],
   "source": [
    "X_test_unseen = test_final[['frequencym','sales_value_avg','scheme_amount_perproduct']]\n",
    "y_test_unseen = test_final['sales_indicator']\n",
    "print(X_test_unseen.shape,y_test_unseen.shape)\n",
    "probs = loaded_model.predict_proba(X_test_unseen)\n",
    "test_final['probablity']=probs[:,1]\n",
    "y_pred = (probs[:,1]>=0.4).astype(int)\n",
    "test_final"
   ]
  },
  {
   "cell_type": "code",
   "execution_count": null,
   "id": "7d468719",
   "metadata": {
    "scrolled": true
   },
   "outputs": [],
   "source": [
    "test_final['prediction']= test_final['probablity'].apply(lambda x: 1  if x>=0.3 else 0)\n",
    "test_final"
   ]
  },
  {
   "cell_type": "code",
   "execution_count": null,
   "id": "7061f3a0",
   "metadata": {},
   "outputs": [],
   "source": [
    "test_final_static = test_final.copy()\n",
    "print(classification_report(test_final['sales_indicator'],test_final['prediction']))"
   ]
  },
  {
   "cell_type": "code",
   "execution_count": null,
   "id": "782ef425",
   "metadata": {},
   "outputs": [],
   "source": [
    "test_final.reset_index(drop=True)\n",
    "test_final['OOS'] = test_final['probablity'].apply(lambda x:1 if x>0.3 else 0)"
   ]
  },
  {
   "cell_type": "code",
   "execution_count": null,
   "id": "0aee31e5",
   "metadata": {},
   "outputs": [],
   "source": [
    "soq_master = master_data.groupby('unique_id').agg({'sales_units':'sum','mnth_code':'nunique'})\n",
    "soq_master['SOQ'] = soq_master['sales_units']/soq_master['mnth_code']\n",
    "soq_master.reset_index()\n",
    "final_reco = pd.merge(soq_master,test_final,on='unique_id',how='inner')"
   ]
  },
  {
   "cell_type": "code",
   "execution_count": null,
   "id": "b776056f",
   "metadata": {},
   "outputs": [],
   "source": [
    "final_reco = final_reco[['unique_id','prediction','SOQ','OOS']]\n",
    "final_reco.head()"
   ]
  },
  {
   "cell_type": "code",
   "execution_count": null,
   "id": "5016b9dc",
   "metadata": {},
   "outputs": [],
   "source": [
    "ms_reco = final_reco.copy()\n",
    "ms_reco.columns = ['unique_id', 'ms_flag', 'soq', 'oos_flag']"
   ]
  },
  {
   "cell_type": "markdown",
   "id": "577153c4",
   "metadata": {},
   "source": [
    "<h1> Write output to a snowflake table </h1>"
   ]
  },
  {
   "cell_type": "code",
   "execution_count": null,
   "id": "3f99e2f3",
   "metadata": {},
   "outputs": [],
   "source": [
    "from pyspark.sql import *\n",
    "from pyspark.sql.functions import *\n",
    "from pyspark.sql.types import *"
   ]
  },
  {
   "cell_type": "code",
   "execution_count": null,
   "id": "2a5ef296",
   "metadata": {},
   "outputs": [],
   "source": [
    "ms_reco[['product', 'outlet']] = ms_reco['unique_id'].str.split('-', expand=True)\n",
    "ms_reco.head()"
   ]
  },
  {
   "cell_type": "code",
   "execution_count": null,
   "id": "2fe9d21d",
   "metadata": {},
   "outputs": [],
   "source": [
    "ms_reco=session.createDataFrame(\n",
    "        ms_reco.values.tolist(),\n",
    "        schema=ms_reco.columns.tolist())"
   ]
  },
  {
   "cell_type": "code",
   "execution_count": null,
   "id": "4fd06053",
   "metadata": {},
   "outputs": [],
   "source": [
    "\n",
    "ms_reco.write.mode(\"overwrite\").save_as_table(\"SOL_CPG_DB.SOL_SALES_SCHEMA.SOL_ASSORTMENT_PREDICTION_TABLE\")"
   ]
  },
  {
   "cell_type": "code",
   "execution_count": null,
   "id": "ba46d985",
   "metadata": {},
   "outputs": [],
   "source": [
    "req = requests.Request()\n",
    "req.json = {\"payload\":X_test_unseen.head(1).to_json()}\n",
    "print({'payload': req.json})"
   ]
  },
  {
   "cell_type": "code",
   "execution_count": null,
   "id": "9d636ba5",
   "metadata": {
    "scrolled": true
   },
   "outputs": [],
   "source": [
    "from fosforml import *\n",
    "\n",
    "@scoring_func\n",
    "def score(model, request):\n",
    "    payload = request.json[\"payload\"]\n",
    "    data = pd.DataFrame(eval(payload))\n",
    "    prediction = pd.DataFrame(model.predict(data))\n",
    "    return prediction.to_json()"
   ]
  },
  {
   "cell_type": "code",
   "execution_count": null,
   "id": "c468b8d3",
   "metadata": {},
   "outputs": [],
   "source": [
    "print(score(loaded_model, req))"
   ]
  },
  {
   "cell_type": "markdown",
   "id": "9a8922a0",
   "metadata": {},
   "source": [
    "<h1>Register model in FDC</h1>"
   ]
  },
  {
   "cell_type": "code",
   "execution_count": null,
   "id": "e5e4814b",
   "metadata": {},
   "outputs": [],
   "source": [
    "from fosforml.constants import MLModelFlavours\n"
   ]
  },
  {
   "cell_type": "code",
   "execution_count": null,
   "id": "373ee012",
   "metadata": {},
   "outputs": [],
   "source": [
    "tmp = register_model(loaded_model, \n",
    "               score, \n",
    "               name=\"Assortment_Planning_Prediction\", \n",
    "               description=\"prediction of assortment across retailers by product\",\n",
    "               flavour=MLModelFlavours.sklearn,\n",
    "               model_type=\"regression\",\n",
    "               y_true=y_test,\n",
    "               y_pred=y_pred, \n",
    "               prob=probs, \n",
    "               features=X_train.columns,\n",
    "               labels=[0,1],\n",
    "               input_type=\"json\", \n",
    "               explain_ai=True, \n",
    "               x_train=X_train, \n",
    "               x_test=X_test, \n",
    "               y_train=y_train.tolist(),\n",
    "               y_test=y_test.tolist(),\n",
    "               feature_names=X_train.columns.tolist(),\n",
    "               original_features=X_train.columns.tolist(),\n",
    "               feature_ids=X_train.columns,\n",
    "               target_names=['No Failure',' or Failure'],\n",
    "               kyd=True, kyd_score = True)"
   ]
  }
 ],
 "metadata": {
  "kernelspec": {
   "display_name": "Python 3 (ipykernel)",
   "language": "python",
   "name": "python3"
  },
  "language_info": {
   "codemirror_mode": {
    "name": "ipython",
    "version": 3
   },
   "file_extension": ".py",
   "mimetype": "text/x-python",
   "name": "python",
   "nbconvert_exporter": "python",
   "pygments_lexer": "ipython3",
   "version": "3.9.19"
  }
 },
 "nbformat": 4,
 "nbformat_minor": 5
}
