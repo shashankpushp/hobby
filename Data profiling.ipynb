{
 "cells": [
  {
   "cell_type": "markdown",
   "id": "09fe7c7b",
   "metadata": {},
   "source": [
    "# Import FosforML library "
   ]
  },
  {
   "cell_type": "code",
   "execution_count": null,
   "id": "5da98747",
   "metadata": {},
   "outputs": [],
   "source": [
    "!pip install --q seaborn"
   ]
  },
  {
   "cell_type": "code",
   "execution_count": null,
   "id": "4a7a1691",
   "metadata": {},
   "outputs": [],
   "source": [
    "!pip install fosforml==1.0.1"
   ]
  },
  {
   "cell_type": "code",
   "execution_count": null,
   "id": "d4cf3ee3",
   "metadata": {},
   "outputs": [],
   "source": []
  },
  {
   "cell_type": "code",
   "execution_count": null,
   "id": "da641407",
   "metadata": {},
   "outputs": [],
   "source": [
    "from fosforml import *"
   ]
  },
  {
   "cell_type": "code",
   "execution_count": null,
   "id": "354cc567",
   "metadata": {},
   "outputs": [],
   "source": [
    "import seaborn as sns"
   ]
  },
  {
   "cell_type": "code",
   "execution_count": null,
   "id": "2a343c64",
   "metadata": {},
   "outputs": [],
   "source": [
    "#estblishing connection between notebook and snowflake\n",
    "import numpy as np\n",
    "import pandas as pd\n",
    "from tqdm import tqdm\n",
    "import matplotlib.pyplot as plt\n",
    "\n",
    "\n",
    "\n",
    "import time\n",
    "from snowflake.snowpark.session import Session\n",
    "import configparser\n",
    "\n",
    "import warnings\n",
    "warnings.filterwarnings(\"ignore\")\n",
    "\n",
    "config = configparser.ConfigParser()\n",
    "config.read(\"snowflake_connection.ini\")\n",
    "\n",
    "connection_parameters = {\n",
    "    \"user\": f'{config[\"Snowflake\"][\"user\"]}',\n",
    "    \"password\": f'{config[\"Snowflake\"][\"password\"]}',\n",
    "    \"account\": f'{config[\"Snowflake\"][\"account\"]}',\n",
    "    \"WAREHOUSE\": f'{config[\"Snowflake\"][\"WAREHOUSE\"]}',\n",
    "    \"DATABASE\": f'{config[\"Snowflake\"][\"DATABASE\"]}',\n",
    "    \"SCHEMA\": f'{config[\"Snowflake\"][\"SCHEMA\"]}'\n",
    "}\n",
    "\n",
    "def snowflake_connector(conn):\n",
    "    try:\n",
    "        session = Session.builder.configs(conn).create()\n",
    "        print(\"connection successful!\")\n",
    "    except:\n",
    "        raise ValueError(\"error while connecting with db\")\n",
    "    return session\n",
    "\n",
    "session = snowflake_connector(connection_parameters)\n"
   ]
  },
  {
   "cell_type": "code",
   "execution_count": null,
   "id": "7281c1ca",
   "metadata": {},
   "outputs": [],
   "source": [
    "sales_bangalore_2022 = session.table(\"SOL_ASSORTMENT_PLANNING_COMB\").to_pandas()"
   ]
  },
  {
   "cell_type": "code",
   "execution_count": null,
   "id": "907093d4",
   "metadata": {},
   "outputs": [],
   "source": [
    "sales_bangalore_2022.head()"
   ]
  },
  {
   "cell_type": "code",
   "execution_count": null,
   "id": "02ae2ee9",
   "metadata": {},
   "outputs": [],
   "source": [
    "fig, axarr = plt.subplots(4, 2, figsize=(12, 18))\n",
    "sales_bangalore_2022.groupby('CITY')['SALES_PTR_VALUE'].mean().sort_values(ascending=False).plot.bar(ax=axarr[0][0], fontsize=12)\n",
    "axarr[0][0].set_title(\"City Vs Sales\", fontsize=18)\n",
    "#data.groupby('Transmission')['Price_log'].mean().sort_values(ascending=False).plot.bar(ax=axarr[0][1], fontsize=12)\n",
    "#axarr[0][1].set_title(\"Transmission Vs Price\", fontsize=18)\n",
    "#data.groupby('Fuel_Type')['Price_log'].mean().sort_values(ascending=False).plot.bar(ax=axarr[1][0], fontsize=12)\n",
    "#axarr[1][0].set_title(\"Fuel_Type Vs Price\", fontsize=18)\n",
    "#data.groupby('Owner_Type')['Price_log'].mean().sort_values(ascending=False).plot.bar(ax=axarr[1][1], fontsize=12)\n",
    "#axarr[1][1].set_title(\"Owner_Type Vs Price\", fontsize=18)\n",
    "#data.groupby('Brand')['Price_log'].mean().sort_values(ascending=False).head(10).plot.bar(ax=axarr[2][0], fontsize=12)\n",
    "#axarr[2][0].set_title(\"Brand Vs Price\", fontsize=18)\n",
    "#data.groupby('Model')['Price_log'].mean().sort_values(ascending=False).head(10).plot.bar(ax=axarr[2][1], fontsize=12)\n",
    "#axarr[2][1].set_title(\"Model Vs Price\", fontsize=18)\n",
    "#data.groupby('Seats')['Price_log'].mean().sort_values(ascending=False).plot.bar(ax=axarr[3][0], fontsize=12)\n",
    "#axarr[3][0].set_title(\"Seats Vs Price\", fontsize=18)\n",
    "#data.groupby('Car_Age')['Price_log'].mean().sort_values(ascending=False).plot.bar(ax=axarr[3][1], fontsize=12)\n",
    "#axarr[3][1].set_title(\"Car_Age Vs Price\", fontsize=18)\n",
    "plt.subplots_adjust(hspace=1.0)\n",
    "plt.subplots_adjust(wspace=.5)\n",
    "#sns.despine()"
   ]
  },
  {
   "cell_type": "code",
   "execution_count": null,
   "id": "a7fbd779",
   "metadata": {},
   "outputs": [],
   "source": []
  }
 ],
 "metadata": {
  "kernelspec": {
   "display_name": "Python 3",
   "language": "python",
   "name": "python3"
  },
  "language_info": {
   "codemirror_mode": {
    "name": "ipython",
    "version": 3
   },
   "file_extension": ".py",
   "mimetype": "text/x-python",
   "name": "python",
   "nbconvert_exporter": "python",
   "pygments_lexer": "ipython3",
   "version": "3.8.18"
  }
 },
 "nbformat": 4,
 "nbformat_minor": 5
}
