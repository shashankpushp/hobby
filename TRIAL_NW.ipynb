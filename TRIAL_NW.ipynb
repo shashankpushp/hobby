{
 "cells": [
  {
   "cell_type": "code",
   "execution_count": 1,
   "id": "6ebf5ab2",
   "metadata": {},
   "outputs": [
    {
     "name": "stdout",
     "output_type": "stream",
     "text": [
      "\u001b[33mWARNING: The directory '/home/mosaic-ai/.cache/pip/http' or its parent directory is not owned by the current user and the cache has been disabled. Please check the permissions and owner of that directory. If executing pip with sudo, you may want sudo's -H flag.\u001b[0m\n",
      "\u001b[33mWARNING: The directory '/home/mosaic-ai/.cache/pip' or its parent directory is not owned by the current user and caching wheels has been disabled. check the permissions and owner of that directory. If executing pip with sudo, you may want sudo's -H flag.\u001b[0m\n",
      "Collecting tensorflow\n",
      "\u001b[?25l  Downloading https://files.pythonhosted.org/packages/c2/20/b15abac0be474f12cf51a104c9dd935b053081b502c103e9e947e8be7b84/tensorflow-2.13.1-cp38-cp38-manylinux_2_17_x86_64.manylinux2014_x86_64.whl (479.6MB)\n",
      "\u001b[K     |████████████████████████████████| 479.6MB 3.8MB/s eta 0:00:019     |███████████████████████████▋    | 413.6MB 6.4MB/s eta 0:00:11\n",
      "\u001b[?25hCollecting google-pasta>=0.1.1\n",
      "\u001b[?25l  Downloading https://files.pythonhosted.org/packages/a3/de/c648ef6835192e6e2cc03f40b19eeda4382c49b5bafb43d88b931c4c74ac/google_pasta-0.2.0-py3-none-any.whl (57kB)\n",
      "\u001b[K     |████████████████████████████████| 61kB 6.8MB/s eta 0:00:011\n",
      "\u001b[?25hCollecting packaging\n",
      "\u001b[?25l  Downloading https://files.pythonhosted.org/packages/49/df/1fceb2f8900f8639e278b056416d49134fb8d84c5942ffaa01ad34782422/packaging-24.0-py3-none-any.whl (53kB)\n",
      "\u001b[K     |████████████████████████████████| 61kB 7.2MB/s eta 0:00:01\n",
      "\u001b[?25hCollecting flatbuffers>=23.1.21\n",
      "  Downloading https://files.pythonhosted.org/packages/41/f0/7e988a019bc54b2dbd0ad4182ef2d53488bb02e58694cd79d61369e85900/flatbuffers-24.3.25-py2.py3-none-any.whl\n",
      "Collecting numpy<=1.24.3,>=1.22\n",
      "\u001b[?25l  Downloading https://files.pythonhosted.org/packages/8b/d9/814a619ab84d8eb0d95e08d4c723e665f1e694b5a6068ca505a61bdc3745/numpy-1.24.3-cp38-cp38-manylinux_2_17_x86_64.manylinux2014_x86_64.whl (17.3MB)\n",
      "\u001b[K     |████████████████████████████████| 17.3MB 4.6MB/s eta 0:00:01\n",
      "\u001b[?25hCollecting grpcio<2.0,>=1.24.3\n",
      "\u001b[?25l  Downloading https://files.pythonhosted.org/packages/5f/ef/56b5f511f7b621ad8385eed5a2a2e5a115f78926be7d8c1c6953c162ad4c/grpcio-1.62.1-cp38-cp38-manylinux_2_17_x86_64.manylinux2014_x86_64.whl (5.6MB)\n",
      "\u001b[K     |████████████████████████████████| 5.6MB 4.0MB/s eta 0:00:01\n",
      "\u001b[?25hCollecting tensorflow-estimator<2.14,>=2.13.0\n",
      "\u001b[?25l  Downloading https://files.pythonhosted.org/packages/72/5c/c318268d96791c6222ad7df1651bbd1b2409139afeb6f468c0f327177016/tensorflow_estimator-2.13.0-py2.py3-none-any.whl (440kB)\n",
      "\u001b[K     |████████████████████████████████| 450kB 4.6MB/s eta 0:00:01\n",
      "\u001b[?25hCollecting libclang>=13.0.0\n",
      "\u001b[?25l  Downloading https://files.pythonhosted.org/packages/1d/fc/716c1e62e512ef1c160e7984a73a5fc7df45166f2ff3f254e71c58076f7c/libclang-18.1.1-py2.py3-none-manylinux2010_x86_64.whl (24.5MB)\n",
      "\u001b[K     |████████████████████████████████| 24.5MB 2.4MB/s eta 0:00:01\n",
      "\u001b[?25hCollecting absl-py>=1.0.0\n",
      "\u001b[?25l  Downloading https://files.pythonhosted.org/packages/a2/ad/e0d3c824784ff121c03cc031f944bc7e139a8f1870ffd2845cc2dd76f6c4/absl_py-2.1.0-py3-none-any.whl (133kB)\n",
      "\u001b[K     |████████████████████████████████| 143kB 3.3MB/s eta 0:00:01\n",
      "\u001b[?25hCollecting setuptools\n",
      "\u001b[?25l  Downloading https://files.pythonhosted.org/packages/92/e1/1c8bb3420105e70bdf357d57dd5567202b4ef8d27f810e98bb962d950834/setuptools-69.2.0-py3-none-any.whl (821kB)\n",
      "\u001b[K     |████████████████████████████████| 829kB 3.3MB/s eta 0:00:01\n",
      "\u001b[?25hCollecting wrapt>=1.11.0\n",
      "\u001b[?25l  Downloading https://files.pythonhosted.org/packages/ef/c6/56e718e2c58a4078518c14d97e531ef1e9e8a5c1ddafdc0d264a92be1a1a/wrapt-1.16.0-cp38-cp38-manylinux_2_5_x86_64.manylinux1_x86_64.manylinux_2_17_x86_64.manylinux2014_x86_64.whl (83kB)\n",
      "\u001b[K     |████████████████████████████████| 92kB 5.3MB/s eta 0:00:01\n",
      "\u001b[?25hCollecting typing-extensions<4.6.0,>=3.6.6\n",
      "  Downloading https://files.pythonhosted.org/packages/31/25/5abcd82372d3d4a3932e1fa8c3dbf9efac10cc7c0d16e78467460571b404/typing_extensions-4.5.0-py3-none-any.whl\n",
      "Collecting tensorflow-io-gcs-filesystem>=0.23.1; platform_machine != \"arm64\" or platform_system != \"Darwin\"\n",
      "\u001b[?25l  Downloading https://files.pythonhosted.org/packages/25/f6/0f259f41abaa489f185e16d397d5f5a5973970d4677c7d39456cea6f4453/tensorflow_io_gcs_filesystem-0.34.0-cp38-cp38-manylinux_2_12_x86_64.manylinux2010_x86_64.whl (2.4MB)\n",
      "\u001b[K     |████████████████████████████████| 2.4MB 4.4MB/s eta 0:00:01\n",
      "\u001b[?25hCollecting keras<2.14,>=2.13.1\n",
      "\u001b[?25l  Downloading https://files.pythonhosted.org/packages/2e/f3/19da7511b45e80216cbbd9467137b2d28919c58ba1ccb971435cb631e470/keras-2.13.1-py3-none-any.whl (1.7MB)\n",
      "\u001b[K     |████████████████████████████████| 1.7MB 2.8MB/s eta 0:00:01\n",
      "\u001b[?25hCollecting astunparse>=1.6.0\n",
      "  Downloading https://files.pythonhosted.org/packages/2b/03/13dde6512ad7b4557eb792fbcf0c653af6076b81e5941d36ec61f7ce6028/astunparse-1.6.3-py2.py3-none-any.whl\n",
      "Collecting termcolor>=1.1.0\n",
      "  Downloading https://files.pythonhosted.org/packages/d9/5f/8c716e47b3a50cbd7c146f45881e11d9414def768b7cd9c5e6650ec2a80a/termcolor-2.4.0-py3-none-any.whl\n",
      "Collecting opt-einsum>=2.3.2\n",
      "\u001b[?25l  Downloading https://files.pythonhosted.org/packages/bc/19/404708a7e54ad2798907210462fd950c3442ea51acc8790f3da48d2bee8b/opt_einsum-3.3.0-py3-none-any.whl (65kB)\n",
      "\u001b[K     |████████████████████████████████| 71kB 4.0MB/s eta 0:00:01\n",
      "\u001b[?25hCollecting six>=1.12.0\n",
      "  Downloading https://files.pythonhosted.org/packages/d9/5a/e7c31adbe875f2abbb91bd84cf2dc52d792b5a01506781dbcf25c91daf11/six-1.16.0-py2.py3-none-any.whl\n",
      "Collecting tensorboard<2.14,>=2.13\n",
      "\u001b[?25l  Downloading https://files.pythonhosted.org/packages/67/f2/e8be5599634ff063fa2c59b7b51636815909d5140a26df9f02ce5d99b81a/tensorboard-2.13.0-py3-none-any.whl (5.6MB)\n",
      "\u001b[K     |██▌                             | 430kB 3.1MB/s eta 0:00:02\u001b[?25hCollecting protobuf!=4.21.0,!=4.21.1,!=4.21.2,!=4.21.3,!=4.21.4,!=4.21.5,<5.0.0dev,>=3.20.3\n",
      "\u001b[?25l  Downloading https://files.pythonhosted.org/packages/15/db/7f731524fe0e56c6b2eb57d05b55d3badd80ef7d1f1ed59db191b2fdd8ab/protobuf-4.25.3-cp37-abi3-manylinux2014_x86_64.whl (294kB)\n",
      "\u001b[K     |████████████████████████████████| 296kB 5.1MB/s eta 0:00:01\n",
      "\u001b[?25hCollecting h5py>=2.9.0\n",
      "\u001b[?25l  Downloading https://files.pythonhosted.org/packages/6b/31/b5965f76e0bb2b02f273d87ec9cb59c77b9864ac27a0078c4229baa45dfc/h5py-3.10.0-cp38-cp38-manylinux_2_17_x86_64.manylinux2014_x86_64.whl (4.8MB)\n",
      "\u001b[K     |████████████████████████████████| 4.8MB 3.7MB/s eta 0:00:01\n",
      "\u001b[?25hCollecting gast<=0.4.0,>=0.2.1\n",
      "  Downloading https://files.pythonhosted.org/packages/b6/48/583c032b79ae5b3daa02225a675aeb673e58d2cb698e78510feceb11958c/gast-0.4.0-py3-none-any.whl\n",
      "Collecting wheel<1.0,>=0.23.0\n",
      "\u001b[?25l  Downloading https://files.pythonhosted.org/packages/7d/cd/d7460c9a869b16c3dd4e1e403cce337df165368c71d6af229a74699622ce/wheel-0.43.0-py3-none-any.whl (65kB)\n",
      "\u001b[K     |████████████████████████████████| 71kB 6.1MB/s eta 0:00:011\n",
      "\u001b[?25hCollecting google-auth<3,>=1.6.3\n",
      "\u001b[?25l  Downloading https://files.pythonhosted.org/packages/9e/8d/ddbcf81ec751d8ee5fd18ac11ff38a0e110f39dfbf105e6d9db69d556dd0/google_auth-2.29.0-py2.py3-none-any.whl (189kB)\n",
      "\u001b[K     |████████████████████████████████| 194kB 4.8MB/s eta 0:00:01\n",
      "\u001b[?25hCollecting markdown>=2.6.8\n",
      "\u001b[?25l  Downloading https://files.pythonhosted.org/packages/fc/b3/0c0c994fe49cd661084f8d5dc06562af53818cc0abefaca35bdc894577c3/Markdown-3.6-py3-none-any.whl (105kB)\n",
      "\u001b[K     |████████████████████████████████| 112kB 5.2MB/s eta 0:00:01\n",
      "\u001b[?25hCollecting requests<3,>=2.21.0\n",
      "\u001b[?25l  Downloading https://files.pythonhosted.org/packages/70/8e/0e2d847013cb52cd35b38c009bb167a1a26b2ce6cd6965bf26b47bc0bf44/requests-2.31.0-py3-none-any.whl (62kB)\n",
      "\u001b[K     |████████████████████████████████| 71kB 6.0MB/s eta 0:00:01\n",
      "\u001b[?25hCollecting werkzeug>=1.0.1\n",
      "\u001b[?25l  Downloading https://files.pythonhosted.org/packages/e3/23/c9843d7550092ae7ad380611c238f44afef66f58f76c1dab7dcf313e4339/werkzeug-3.0.2-py3-none-any.whl (226kB)\n",
      "\u001b[K     |████████████████████████████████| 235kB 4.7MB/s eta 0:00:01\n",
      "\u001b[?25hCollecting google-auth-oauthlib<1.1,>=0.5\n",
      "  Downloading https://files.pythonhosted.org/packages/4a/07/8d9a8186e6768b55dfffeb57c719bc03770cf8a970a074616ae6f9e26a57/google_auth_oauthlib-1.0.0-py2.py3-none-any.whl\n",
      "Collecting tensorboard-data-server<0.8.0,>=0.7.0\n",
      "  Downloading https://files.pythonhosted.org/packages/7a/13/e503968fefabd4c6b2650af21e110aa8466fe21432cd7c43a84577a89438/tensorboard_data_server-0.7.2-py3-none-any.whl\n"
     ]
    },
    {
     "name": "stdout",
     "output_type": "stream",
     "text": [
      "Collecting pyasn1-modules>=0.2.1\n",
      "\u001b[?25l  Downloading https://files.pythonhosted.org/packages/13/68/8906226b15ef38e71dc926c321d2fe99de8048e9098b5dfd38343011c886/pyasn1_modules-0.4.0-py3-none-any.whl (181kB)\n",
      "\u001b[K     |████████████████████████████████| 184kB 4.8MB/s eta 0:00:01\n",
      "\u001b[?25hCollecting rsa<5,>=3.1.4\n",
      "  Downloading https://files.pythonhosted.org/packages/49/97/fa78e3d2f65c02c8e1268b9aba606569fe97f6c8f7c2d74394553347c145/rsa-4.9-py3-none-any.whl\n",
      "Collecting cachetools<6.0,>=2.0.0\n",
      "  Downloading https://files.pythonhosted.org/packages/fb/2b/a64c2d25a37aeb921fddb929111413049fc5f8b9a4c1aefaffaafe768d54/cachetools-5.3.3-py3-none-any.whl\n",
      "Collecting importlib-metadata>=4.4; python_version < \"3.10\"\n",
      "  Downloading https://files.pythonhosted.org/packages/2d/0a/679461c511447ffaf176567d5c496d1de27cbe34a87df6677d7171b2fbd4/importlib_metadata-7.1.0-py3-none-any.whl\n",
      "Collecting certifi>=2017.4.17\n",
      "\u001b[?25l  Downloading https://files.pythonhosted.org/packages/ba/06/a07f096c664aeb9f01624f858c3add0a4e913d6c96257acb4fce61e7de14/certifi-2024.2.2-py3-none-any.whl (163kB)\n",
      "\u001b[K     |████████████████████████████████| 163kB 5.1MB/s eta 0:00:01\n",
      "\u001b[?25hCollecting charset-normalizer<4,>=2\n",
      "\u001b[?25l  Downloading https://files.pythonhosted.org/packages/3d/09/d82fe4a34c5f0585f9ea1df090e2a71eb9bb1e469723053e1ee9f57c16f3/charset_normalizer-3.3.2-cp38-cp38-manylinux_2_17_x86_64.manylinux2014_x86_64.whl (141kB)\n",
      "\u001b[K     |████████████████████████████████| 143kB 4.9MB/s eta 0:00:01\n",
      "\u001b[?25hCollecting urllib3<3,>=1.21.1\n",
      "\u001b[?25l  Downloading https://files.pythonhosted.org/packages/a2/73/a68704750a7679d0b6d3ad7aa8d4da8e14e151ae82e6fee774e6e0d05ec8/urllib3-2.2.1-py3-none-any.whl (121kB)\n",
      "\u001b[K     |████████████████████████████████| 122kB 4.9MB/s eta 0:00:01\n",
      "\u001b[?25hCollecting idna<4,>=2.5\n",
      "\u001b[?25l  Downloading https://files.pythonhosted.org/packages/c2/e7/a82b05cf63a603df6e68d59ae6a68bf5064484a0718ea5033660af4b54a9/idna-3.6-py3-none-any.whl (61kB)\n",
      "\u001b[K     |████████████████████████████████| 71kB 6.5MB/s eta 0:00:01\n",
      "\u001b[?25hCollecting MarkupSafe>=2.1.1\n",
      "  Downloading https://files.pythonhosted.org/packages/c7/bd/50319665ce81bb10e90d1cf76f9e1aa269ea6f7fa30ab4521f14d122a3df/MarkupSafe-2.1.5-cp38-cp38-manylinux_2_17_x86_64.manylinux2014_x86_64.whl\n",
      "Collecting requests-oauthlib>=0.7.0\n",
      "  Downloading https://files.pythonhosted.org/packages/3b/5d/63d4ae3b9daea098d5d6f5da83984853c1bbacd5dc826764b249fe119d24/requests_oauthlib-2.0.0-py2.py3-none-any.whl\n",
      "Collecting pyasn1<0.7.0,>=0.4.6\n",
      "\u001b[?25l  Downloading https://files.pythonhosted.org/packages/23/7e/5f50d07d5e70a2addbccd90ac2950f81d1edd0783630651d9268d7f1db49/pyasn1-0.6.0-py2.py3-none-any.whl (85kB)\n",
      "\u001b[K     |████████████████████████████████| 92kB 5.8MB/s eta 0:00:01\n",
      "\u001b[?25hCollecting zipp>=0.5\n",
      "  Downloading https://files.pythonhosted.org/packages/c2/0a/ba9d0ee9536d3ef73a3448e931776e658b36f128d344e175bc32b092a8bf/zipp-3.18.1-py3-none-any.whl\n",
      "Collecting oauthlib>=3.0.0\n",
      "\u001b[?25l  Downloading https://files.pythonhosted.org/packages/7e/80/cab10959dc1faead58dc8384a781dfbf93cb4d33d50988f7a69f1b7c9bbe/oauthlib-3.2.2-py3-none-any.whl (151kB)\n",
      "\u001b[K     |████████████████████████████████| 153kB 4.9MB/s eta 0:00:01\n",
      "\u001b[31mERROR: sqlalchemy 2.0.28 has requirement typing-extensions>=4.6.0, but you'll have typing-extensions 4.5.0 which is incompatible.\u001b[0m\n",
      "\u001b[31mERROR: mlflow 2.6.0 has requirement importlib-metadata!=4.7.0,<7,>=3.7.0, but you'll have importlib-metadata 7.1.0 which is incompatible.\u001b[0m\n",
      "\u001b[31mERROR: mlflow 2.6.0 has requirement packaging<24, but you'll have packaging 24.0 which is incompatible.\u001b[0m\n",
      "\u001b[31mERROR: mlflow 2.6.0 has requirement pytz<2024, but you'll have pytz 2024.1 which is incompatible.\u001b[0m\n",
      "\u001b[31mERROR: refractml 1.0.3 has requirement cloudpickle==1.6.0, but you'll have cloudpickle 2.2.1 which is incompatible.\u001b[0m\n",
      "\u001b[31mERROR: refractml 1.0.3 has requirement PyYAML==6.0, but you'll have pyyaml 6.0.1 which is incompatible.\u001b[0m\n",
      "\u001b[31mERROR: refractml 1.0.3 has requirement urllib3==1.26.15, but you'll have urllib3 2.2.1 which is incompatible.\u001b[0m\n",
      "\u001b[31mERROR: mosaic-utils 1.0.2 has requirement scikit-learn==1.2.1; python_version >= \"3.8\", but you'll have scikit-learn 1.3.2 which is incompatible.\u001b[0m\n",
      "\u001b[31mERROR: snowflake-snowpark-python 1.0.0 has requirement cloudpickle<=2.0.0,>=1.6.0, but you'll have cloudpickle 2.2.1 which is incompatible.\u001b[0m\n",
      "\u001b[31mERROR: snowflake-snowpark-python 1.0.0 has requirement snowflake-connector-python<3.0.0,>=2.7.12, but you'll have snowflake-connector-python 3.6.0 which is incompatible.\u001b[0m\n",
      "\u001b[31mERROR: snowflake-ml-python 1.0.1 has requirement absl-py<2,>=0.15, but you'll have absl-py 2.1.0 which is incompatible.\u001b[0m\n",
      "\u001b[31mERROR: snowflake-ml-python 1.0.1 has requirement packaging<24,>=20.9, but you'll have packaging 24.0 which is incompatible.\u001b[0m\n",
      "\u001b[31mERROR: snowflake-ml-python 1.0.1 has requirement pandas<2,>=1.0.0, but you'll have pandas 2.0.3 which is incompatible.\u001b[0m\n",
      "\u001b[31mERROR: snowflake-ml-python 1.0.1 has requirement snowflake-snowpark-python<2,>=1.4.0, but you'll have snowflake-snowpark-python 1.0.0 which is incompatible.\u001b[0m\n",
      "\u001b[31mERROR: snowflake-ml-python 1.0.1 has requirement xgboost<2,>=1.7.3, but you'll have xgboost 2.0.3 which is incompatible.\u001b[0m\n",
      "\u001b[31mERROR: snowflake-connector-python 3.6.0 has requirement urllib3<2.0.0,>=1.21.1; python_version < \"3.10\", but you'll have urllib3 2.2.1 which is incompatible.\u001b[0m\n",
      "\u001b[31mERROR: openapi-spec-validator 0.7.1 has requirement jsonschema<5.0.0,>=4.18.0, but you'll have jsonschema 3.2.0 which is incompatible.\u001b[0m\n",
      "\u001b[31mERROR: openapi-schema-validator 0.6.2 has requirement jsonschema<5.0.0,>=4.19.1, but you'll have jsonschema 3.2.0 which is incompatible.\u001b[0m\n",
      "\u001b[31mERROR: mosaic-ai-serving 1.0.0 has requirement Flask==2.1.1; python_version >= \"3.7\", but you'll have flask 2.3.3 which is incompatible.\u001b[0m\n",
      "\u001b[31mERROR: mosaic-ai-serving 1.0.0 has requirement itsdangerous==2.0.1, but you'll have itsdangerous 2.1.2 which is incompatible.\u001b[0m\n",
      "\u001b[31mERROR: mosaic-ai-serving 1.0.0 has requirement Jinja2==3.0.3, but you'll have jinja2 3.1.3 which is incompatible.\u001b[0m\n",
      "\u001b[31mERROR: mosaic-ai-serving 1.0.0 has requirement matplotlib==3.6.0; python_version >= \"3.8\", but you'll have matplotlib 3.7.5 which is incompatible.\u001b[0m\n",
      "\u001b[31mERROR: mosaic-ai-client 1.0.0 has requirement matplotlib==3.1.1, but you'll have matplotlib 3.7.5 which is incompatible.\u001b[0m\n",
      "\u001b[31mERROR: jupyterlab 3.2.4 has requirement jupyter-server~=1.4, but you'll have jupyter-server 2.0.0a1 which is incompatible.\u001b[0m\n",
      "\u001b[31mERROR: jupyterlab-server 2.25.4 has requirement jsonschema>=4.18.0, but you'll have jsonschema 3.2.0 which is incompatible.\u001b[0m\n",
      "\u001b[?25hInstalling collected packages: six, google-pasta, packaging, flatbuffers, numpy, grpcio, tensorflow-estimator, libclang, absl-py, setuptools, wrapt, typing-extensions, tensorflow-io-gcs-filesystem, keras, wheel, astunparse, termcolor, opt-einsum, pyasn1, pyasn1-modules, rsa, cachetools, google-auth, zipp, importlib-metadata, markdown, protobuf, certifi, charset-normalizer, urllib3, idna, requests, MarkupSafe, werkzeug, oauthlib, requests-oauthlib, google-auth-oauthlib, tensorboard-data-server, tensorboard, h5py, gast, tensorflow\n",
      "Successfully installed MarkupSafe-2.1.5 absl-py-2.1.0 astunparse-1.6.3 cachetools-5.3.3 certifi-2024.2.2 charset-normalizer-3.3.2 flatbuffers-24.3.25 gast-0.4.0 google-auth-2.29.0 google-auth-oauthlib-1.0.0 google-pasta-0.2.0 grpcio-1.62.1 h5py-3.10.0 idna-3.6 importlib-metadata-7.1.0 keras-2.13.1 libclang-18.1.1 markdown-3.6 numpy-1.24.3 oauthlib-3.2.2 opt-einsum-3.3.0 packaging-24.0 protobuf-4.25.3 pyasn1-0.6.0 pyasn1-modules-0.4.0 requests-2.31.0 requests-oauthlib-2.0.0 rsa-4.9 setuptools-69.2.0 six-1.16.0 tensorboard-2.13.0 tensorboard-data-server-0.7.2 tensorflow-2.13.1 tensorflow-estimator-2.13.0 tensorflow-io-gcs-filesystem-0.34.0 termcolor-2.4.0 typing-extensions-4.5.0 urllib3-2.2.1 werkzeug-3.0.2 wheel-0.43.0 wrapt-1.16.0 zipp-3.18.1\n",
      "\u001b[33mWARNING: Target directory /tmp/pip_packages/libclang-18.1.1.dist-info already exists. Specify --upgrade to force replacement.\u001b[0m\n",
      "\u001b[33mWARNING: Target directory /tmp/pip_packages/google_auth-2.29.0.dist-info already exists. Specify --upgrade to force replacement.\u001b[0m\n",
      "\u001b[33mWARNING: Target directory /tmp/pip_packages/setuptools already exists. Specify --upgrade to force replacement.\u001b[0m\n",
      "\u001b[33mWARNING: Target directory /tmp/pip_packages/packaging-24.0.dist-info already exists. Specify --upgrade to force replacement.\u001b[0m\n",
      "\u001b[33mWARNING: Target directory /tmp/pip_packages/astunparse already exists. Specify --upgrade to force replacement.\u001b[0m\n",
      "\u001b[33mWARNING: Target directory /tmp/pip_packages/idna-3.6.dist-info already exists. Specify --upgrade to force replacement.\u001b[0m\n",
      "\u001b[33mWARNING: Target directory /tmp/pip_packages/certifi-2024.2.2.dist-info already exists. Specify --upgrade to force replacement.\u001b[0m\n",
      "\u001b[33mWARNING: Target directory /tmp/pip_packages/pasta already exists. Specify --upgrade to force replacement.\u001b[0m\n",
      "\u001b[33mWARNING: Target directory /tmp/pip_packages/cachetools-5.3.3.dist-info already exists. Specify --upgrade to force replacement.\u001b[0m\n",
      "\u001b[33mWARNING: Target directory /tmp/pip_packages/urllib3 already exists. Specify --upgrade to force replacement.\u001b[0m\n",
      "\u001b[33mWARNING: Target directory /tmp/pip_packages/oauthlib already exists. Specify --upgrade to force replacement.\u001b[0m\n",
      "\u001b[33mWARNING: Target directory /tmp/pip_packages/idna already exists. Specify --upgrade to force replacement.\u001b[0m\n",
      "\u001b[33mWARNING: Target directory /tmp/pip_packages/google_auth_oauthlib already exists. Specify --upgrade to force replacement.\u001b[0m\n",
      "\u001b[33mWARNING: Target directory /tmp/pip_packages/tensorboard-2.13.0.dist-info already exists. Specify --upgrade to force replacement.\u001b[0m\n",
      "\u001b[33mWARNING: Target directory /tmp/pip_packages/typing_extensions-4.5.0.dist-info already exists. Specify --upgrade to force replacement.\u001b[0m\n",
      "\u001b[33mWARNING: Target directory /tmp/pip_packages/requests-2.31.0.dist-info already exists. Specify --upgrade to force replacement.\u001b[0m\n",
      "\u001b[33mWARNING: Target directory /tmp/pip_packages/six.py already exists. Specify --upgrade to force replacement.\u001b[0m\n",
      "\u001b[33mWARNING: Target directory /tmp/pip_packages/tensorflow_estimator-2.13.0.dist-info already exists. Specify --upgrade to force replacement.\u001b[0m\n",
      "\u001b[33mWARNING: Target directory /tmp/pip_packages/h5py.libs already exists. Specify --upgrade to force replacement.\u001b[0m\n",
      "\u001b[33mWARNING: Target directory /tmp/pip_packages/tensorflow-2.13.1.dist-info already exists. Specify --upgrade to force replacement.\u001b[0m\n",
      "\u001b[33mWARNING: Target directory /tmp/pip_packages/markdown already exists. Specify --upgrade to force replacement.\u001b[0m\n",
      "\u001b[33mWARNING: Target directory /tmp/pip_packages/charset_normalizer-3.3.2.dist-info already exists. Specify --upgrade to force replacement.\u001b[0m\n",
      "\u001b[33mWARNING: Target directory /tmp/pip_packages/packaging already exists. Specify --upgrade to force replacement.\u001b[0m\n",
      "\u001b[33mWARNING: Target directory /tmp/pip_packages/pyasn1 already exists. Specify --upgrade to force replacement.\u001b[0m\n",
      "\u001b[33mWARNING: Target directory /tmp/pip_packages/requests_oauthlib already exists. Specify --upgrade to force replacement.\u001b[0m\n",
      "\u001b[33mWARNING: Target directory /tmp/pip_packages/grpcio-1.62.1.dist-info already exists. Specify --upgrade to force replacement.\u001b[0m\n",
      "\u001b[33mWARNING: Target directory /tmp/pip_packages/_distutils_hack already exists. Specify --upgrade to force replacement.\u001b[0m\n",
      "\u001b[33mWARNING: Target directory /tmp/pip_packages/MarkupSafe-2.1.5.dist-info already exists. Specify --upgrade to force replacement.\u001b[0m\n",
      "\u001b[33mWARNING: Target directory /tmp/pip_packages/h5py already exists. Specify --upgrade to force replacement.\u001b[0m\n",
      "\u001b[33mWARNING: Target directory /tmp/pip_packages/clang already exists. Specify --upgrade to force replacement.\u001b[0m\n",
      "\u001b[33mWARNING: Target directory /tmp/pip_packages/pyasn1_modules already exists. Specify --upgrade to force replacement.\u001b[0m\n",
      "\u001b[33mWARNING: Target directory /tmp/pip_packages/Markdown-3.6.dist-info already exists. Specify --upgrade to force replacement.\u001b[0m\n",
      "\u001b[33mWARNING: Target directory /tmp/pip_packages/google_pasta-0.2.0.dist-info already exists. Specify --upgrade to force replacement.\u001b[0m\n",
      "\u001b[33mWARNING: Target directory /tmp/pip_packages/pyasn1-0.6.0.dist-info already exists. Specify --upgrade to force replacement.\u001b[0m\n",
      "\u001b[33mWARNING: Target directory /tmp/pip_packages/__pycache__ already exists. Specify --upgrade to force replacement.\u001b[0m\n",
      "\u001b[33mWARNING: Target directory /tmp/pip_packages/numpy already exists. Specify --upgrade to force replacement.\u001b[0m\n",
      "\u001b[33mWARNING: Target directory /tmp/pip_packages/keras-2.13.1.dist-info already exists. Specify --upgrade to force replacement.\u001b[0m\n",
      "\u001b[33mWARNING: Target directory /tmp/pip_packages/tensorflow_io_gcs_filesystem already exists. Specify --upgrade to force replacement.\u001b[0m\n",
      "\u001b[33mWARNING: Target directory /tmp/pip_packages/pyasn1_modules-0.4.0.dist-info already exists. Specify --upgrade to force replacement.\u001b[0m\n",
      "\u001b[33mWARNING: Target directory /tmp/pip_packages/absl already exists. Specify --upgrade to force replacement.\u001b[0m\n",
      "\u001b[33mWARNING: Target directory /tmp/pip_packages/distutils-precedence.pth already exists. Specify --upgrade to force replacement.\u001b[0m\n",
      "\u001b[33mWARNING: Target directory /tmp/pip_packages/wheel already exists. Specify --upgrade to force replacement.\u001b[0m\n",
      "\u001b[33mWARNING: Target directory /tmp/pip_packages/tensorflow already exists. Specify --upgrade to force replacement.\u001b[0m\n",
      "\u001b[33mWARNING: Target directory /tmp/pip_packages/astunparse-1.6.3.dist-info already exists. Specify --upgrade to force replacement.\u001b[0m\n",
      "\u001b[33mWARNING: Target directory /tmp/pip_packages/markupsafe already exists. Specify --upgrade to force replacement.\u001b[0m\n",
      "\u001b[33mWARNING: Target directory /tmp/pip_packages/tensorflow_estimator already exists. Specify --upgrade to force replacement.\u001b[0m\n",
      "\u001b[33mWARNING: Target directory /tmp/pip_packages/numpy-1.24.3.dist-info already exists. Specify --upgrade to force replacement.\u001b[0m\n",
      "\u001b[33mWARNING: Target directory /tmp/pip_packages/tensorboard_data_server already exists. Specify --upgrade to force replacement.\u001b[0m\n",
      "\u001b[33mWARNING: Target directory /tmp/pip_packages/rsa-4.9.dist-info already exists. Specify --upgrade to force replacement.\u001b[0m\n",
      "\u001b[33mWARNING: Target directory /tmp/pip_packages/urllib3-2.2.1.dist-info already exists. Specify --upgrade to force replacement.\u001b[0m\n",
      "\u001b[33mWARNING: Target directory /tmp/pip_packages/charset_normalizer already exists. Specify --upgrade to force replacement.\u001b[0m\n",
      "\u001b[33mWARNING: Target directory /tmp/pip_packages/pkg_resources already exists. Specify --upgrade to force replacement.\u001b[0m\n",
      "\u001b[33mWARNING: Target directory /tmp/pip_packages/gast-0.4.0.dist-info already exists. Specify --upgrade to force replacement.\u001b[0m\n",
      "\u001b[33mWARNING: Target directory /tmp/pip_packages/wrapt-1.16.0.dist-info already exists. Specify --upgrade to force replacement.\u001b[0m\n",
      "\u001b[33mWARNING: Target directory /tmp/pip_packages/typing_extensions.py already exists. Specify --upgrade to force replacement.\u001b[0m\n",
      "\u001b[33mWARNING: Target directory /tmp/pip_packages/keras already exists. Specify --upgrade to force replacement.\u001b[0m\n",
      "\u001b[33mWARNING: Target directory /tmp/pip_packages/protobuf-4.25.3.dist-info already exists. Specify --upgrade to force replacement.\u001b[0m\n",
      "\u001b[33mWARNING: Target directory /tmp/pip_packages/setuptools-69.2.0.dist-info already exists. Specify --upgrade to force replacement.\u001b[0m\n",
      "\u001b[33mWARNING: Target directory /tmp/pip_packages/opt_einsum-3.3.0.dist-info already exists. Specify --upgrade to force replacement.\u001b[0m\n",
      "\u001b[33mWARNING: Target directory /tmp/pip_packages/certifi already exists. Specify --upgrade to force replacement.\u001b[0m\n",
      "\u001b[33mWARNING: Target directory /tmp/pip_packages/zipp already exists. Specify --upgrade to force replacement.\u001b[0m\n",
      "\u001b[33mWARNING: Target directory /tmp/pip_packages/google already exists. Specify --upgrade to force replacement.\u001b[0m\n",
      "\u001b[33mWARNING: Target directory /tmp/pip_packages/importlib_metadata already exists. Specify --upgrade to force replacement.\u001b[0m\n",
      "\u001b[33mWARNING: Target directory /tmp/pip_packages/requests_oauthlib-2.0.0.dist-info already exists. Specify --upgrade to force replacement.\u001b[0m\n",
      "\u001b[33mWARNING: Target directory /tmp/pip_packages/cachetools already exists. Specify --upgrade to force replacement.\u001b[0m\n",
      "\u001b[33mWARNING: Target directory /tmp/pip_packages/tensorflow_io_gcs_filesystem-0.34.0.dist-info already exists. Specify --upgrade to force replacement.\u001b[0m\n",
      "\u001b[33mWARNING: Target directory /tmp/pip_packages/requests already exists. Specify --upgrade to force replacement.\u001b[0m\n",
      "\u001b[33mWARNING: Target directory /tmp/pip_packages/tensorboard_data_server-0.7.2.dist-info already exists. Specify --upgrade to force replacement.\u001b[0m\n",
      "\u001b[33mWARNING: Target directory /tmp/pip_packages/google_auth_oauthlib-1.0.0.dist-info already exists. Specify --upgrade to force replacement.\u001b[0m\n",
      "\u001b[33mWARNING: Target directory /tmp/pip_packages/werkzeug already exists. Specify --upgrade to force replacement.\u001b[0m\n",
      "\u001b[33mWARNING: Target directory /tmp/pip_packages/absl_py-2.1.0.dist-info already exists. Specify --upgrade to force replacement.\u001b[0m\n",
      "\u001b[33mWARNING: Target directory /tmp/pip_packages/termcolor already exists. Specify --upgrade to force replacement.\u001b[0m\n",
      "\u001b[33mWARNING: Target directory /tmp/pip_packages/wheel-0.43.0.dist-info already exists. Specify --upgrade to force replacement.\u001b[0m\n",
      "\u001b[33mWARNING: Target directory /tmp/pip_packages/wrapt already exists. Specify --upgrade to force replacement.\u001b[0m\n",
      "\u001b[33mWARNING: Target directory /tmp/pip_packages/zipp-3.18.1.dist-info already exists. Specify --upgrade to force replacement.\u001b[0m\n",
      "\u001b[33mWARNING: Target directory /tmp/pip_packages/werkzeug-3.0.2.dist-info already exists. Specify --upgrade to force replacement.\u001b[0m\n",
      "\u001b[33mWARNING: Target directory /tmp/pip_packages/tensorboard already exists. Specify --upgrade to force replacement.\u001b[0m\n",
      "\u001b[33mWARNING: Target directory /tmp/pip_packages/importlib_metadata-7.1.0.dist-info already exists. Specify --upgrade to force replacement.\u001b[0m\n",
      "\u001b[33mWARNING: Target directory /tmp/pip_packages/gast already exists. Specify --upgrade to force replacement.\u001b[0m\n",
      "\u001b[33mWARNING: Target directory /tmp/pip_packages/flatbuffers already exists. Specify --upgrade to force replacement.\u001b[0m\n",
      "\u001b[33mWARNING: Target directory /tmp/pip_packages/flatbuffers-24.3.25.dist-info already exists. Specify --upgrade to force replacement.\u001b[0m\n",
      "\u001b[33mWARNING: Target directory /tmp/pip_packages/numpy.libs already exists. Specify --upgrade to force replacement.\u001b[0m\n",
      "\u001b[33mWARNING: Target directory /tmp/pip_packages/h5py-3.10.0.dist-info already exists. Specify --upgrade to force replacement.\u001b[0m\n",
      "\u001b[33mWARNING: Target directory /tmp/pip_packages/oauthlib-3.2.2.dist-info already exists. Specify --upgrade to force replacement.\u001b[0m\n",
      "\u001b[33mWARNING: Target directory /tmp/pip_packages/termcolor-2.4.0.dist-info already exists. Specify --upgrade to force replacement.\u001b[0m\n",
      "\u001b[33mWARNING: Target directory /tmp/pip_packages/grpc already exists. Specify --upgrade to force replacement.\u001b[0m\n",
      "\u001b[33mWARNING: Target directory /tmp/pip_packages/six-1.16.0.dist-info already exists. Specify --upgrade to force replacement.\u001b[0m\n",
      "\u001b[33mWARNING: Target directory /tmp/pip_packages/opt_einsum already exists. Specify --upgrade to force replacement.\u001b[0m\n",
      "\u001b[33mWARNING: Target directory /tmp/pip_packages/rsa already exists. Specify --upgrade to force replacement.\u001b[0m\n",
      "\u001b[33mWARNING: Target directory /tmp/pip_packages/bin already exists. Specify --upgrade to force replacement.\u001b[0m\n"
     ]
    },
    {
     "name": "stdout",
     "output_type": "stream",
     "text": [
      "\u001b[33mWARNING: You are using pip version 19.3.1; however, version 24.0 is available.\n",
      "You should consider upgrading via the 'pip install --upgrade pip' command.\u001b[0m\n",
      "Note: you may need to restart the kernel to use updated packages.\n"
     ]
    }
   ],
   "source": [
    "pip install tensorflow"
   ]
  },
  {
   "cell_type": "code",
   "execution_count": 2,
   "id": "de4eb6e7",
   "metadata": {},
   "outputs": [
    {
     "name": "stdout",
     "output_type": "stream",
     "text": [
      "\u001b[33mWARNING: The directory '/home/mosaic-ai/.cache/pip/http' or its parent directory is not owned by the current user and the cache has been disabled. Please check the permissions and owner of that directory. If executing pip with sudo, you may want sudo's -H flag.\u001b[0m\n",
      "\u001b[33mWARNING: The directory '/home/mosaic-ai/.cache/pip' or its parent directory is not owned by the current user and caching wheels has been disabled. check the permissions and owner of that directory. If executing pip with sudo, you may want sudo's -H flag.\u001b[0m\n",
      "Collecting sklearn\n",
      "  Downloading https://files.pythonhosted.org/packages/46/1c/395a83ee7b2d2ad7a05b453872053d41449564477c81dc356f720b16eac4/sklearn-0.0.post12.tar.gz\n",
      "\u001b[31m    ERROR: Command errored out with exit status 1:\n",
      "     command: /opt/conda/bin/python -c 'import sys, setuptools, tokenize; sys.argv[0] = '\"'\"'/tmp/pip-install-fayynqpc/sklearn/setup.py'\"'\"'; __file__='\"'\"'/tmp/pip-install-fayynqpc/sklearn/setup.py'\"'\"';f=getattr(tokenize, '\"'\"'open'\"'\"', open)(__file__);code=f.read().replace('\"'\"'\\r\\n'\"'\"', '\"'\"'\\n'\"'\"');f.close();exec(compile(code, __file__, '\"'\"'exec'\"'\"'))' egg_info --egg-base /tmp/pip-install-fayynqpc/sklearn/pip-egg-info\n",
      "         cwd: /tmp/pip-install-fayynqpc/sklearn/\n",
      "    Complete output (15 lines):\n",
      "    The 'sklearn' PyPI package is deprecated, use 'scikit-learn'\n",
      "    rather than 'sklearn' for pip commands.\n",
      "    \n",
      "    Here is how to fix this error in the main use cases:\n",
      "    - use 'pip install scikit-learn' rather than 'pip install sklearn'\n",
      "    - replace 'sklearn' by 'scikit-learn' in your pip requirements files\n",
      "      (requirements.txt, setup.py, setup.cfg, Pipfile, etc ...)\n",
      "    - if the 'sklearn' package is used by one of your dependencies,\n",
      "      it would be great if you take some time to track which package uses\n",
      "      'sklearn' instead of 'scikit-learn' and report it to their issue tracker\n",
      "    - as a last resort, set the environment variable\n",
      "      SKLEARN_ALLOW_DEPRECATED_SKLEARN_PACKAGE_INSTALL=True to avoid this error\n",
      "    \n",
      "    More information is available at\n",
      "    https://github.com/scikit-learn/sklearn-pypi-package\n",
      "    ----------------------------------------\u001b[0m\n",
      "\u001b[31mERROR: Command errored out with exit status 1: python setup.py egg_info Check the logs for full command output.\u001b[0m\n",
      "\u001b[33mWARNING: You are using pip version 19.3.1; however, version 24.0 is available.\n",
      "You should consider upgrading via the 'pip install --upgrade pip' command.\u001b[0m\n",
      "Note: you may need to restart the kernel to use updated packages.\n"
     ]
    }
   ],
   "source": [
    "pip install sklearn"
   ]
  },
  {
   "cell_type": "code",
   "execution_count": 3,
   "id": "52686c6a",
   "metadata": {},
   "outputs": [
    {
     "name": "stdout",
     "output_type": "stream",
     "text": [
      "\u001b[33mWARNING: The directory '/home/mosaic-ai/.cache/pip/http' or its parent directory is not owned by the current user and the cache has been disabled. Please check the permissions and owner of that directory. If executing pip with sudo, you may want sudo's -H flag.\u001b[0m\n",
      "\u001b[33mWARNING: The directory '/home/mosaic-ai/.cache/pip' or its parent directory is not owned by the current user and caching wheels has been disabled. check the permissions and owner of that directory. If executing pip with sudo, you may want sudo's -H flag.\u001b[0m\n",
      "Collecting seaborn\n",
      "\u001b[?25l  Downloading https://files.pythonhosted.org/packages/83/11/00d3c3dfc25ad54e731d91449895a79e4bf2384dc3ac01809010ba88f6d5/seaborn-0.13.2-py3-none-any.whl (294kB)\n",
      "\u001b[K     |████████████████████████████████| 296kB 1.4MB/s eta 0:00:01\n",
      "\u001b[?25hCollecting matplotlib!=3.6.1,>=3.4\n",
      "\u001b[?25l  Downloading https://files.pythonhosted.org/packages/30/33/cc27211d2ffeee4fd7402dca137b6e8a83f6dcae3d4be8d0ad5068555561/matplotlib-3.7.5-cp38-cp38-manylinux_2_12_x86_64.manylinux2010_x86_64.whl (9.2MB)\n",
      "\u001b[K     |████████████████████████████████| 9.2MB 26.8MB/s eta 0:00:01\n",
      "\u001b[?25hCollecting pandas>=1.2\n",
      "\u001b[?25l  Downloading https://files.pythonhosted.org/packages/f8/7f/5b047effafbdd34e52c9e2d7e44f729a0655efafb22198c45cf692cdc157/pandas-2.0.3-cp38-cp38-manylinux_2_17_x86_64.manylinux2014_x86_64.whl (12.4MB)\n",
      "\u001b[K     |████████████████████████████████| 12.4MB 37.7MB/s eta 0:00:01\n",
      "\u001b[?25hCollecting numpy!=1.24.0,>=1.20\n",
      "\u001b[?25l  Downloading https://files.pythonhosted.org/packages/98/5d/5738903efe0ecb73e51eb44feafba32bdba2081263d40c5043568ff60faf/numpy-1.24.4-cp38-cp38-manylinux_2_17_x86_64.manylinux2014_x86_64.whl (17.3MB)\n",
      "\u001b[K     |████████████████████████████████| 17.3MB 30.0MB/s eta 0:00:01\n",
      "\u001b[?25hCollecting cycler>=0.10\n",
      "  Downloading https://files.pythonhosted.org/packages/e7/05/c19819d5e3d95294a6f5947fb9b9629efb316b96de511b418c53d245aae6/cycler-0.12.1-py3-none-any.whl\n",
      "Collecting pyparsing>=2.3.1\n",
      "\u001b[?25l  Downloading https://files.pythonhosted.org/packages/9d/ea/6d76df31432a0e6fdf81681a895f009a4bb47b3c39036db3e1b528191d52/pyparsing-3.1.2-py3-none-any.whl (103kB)\n",
      "\u001b[K     |████████████████████████████████| 112kB 36.8MB/s eta 0:00:01\n",
      "\u001b[?25hCollecting packaging>=20.0\n",
      "\u001b[?25l  Downloading https://files.pythonhosted.org/packages/49/df/1fceb2f8900f8639e278b056416d49134fb8d84c5942ffaa01ad34782422/packaging-24.0-py3-none-any.whl (53kB)\n",
      "\u001b[K     |████████████████████████████████| 61kB 39.3MB/s eta 0:00:01\n",
      "\u001b[?25hCollecting pillow>=6.2.0\n",
      "\u001b[?25l  Downloading https://files.pythonhosted.org/packages/45/8c/ea6fdce74c963d7017f02708b7e4918a401200844ac2c4af1cef8ebc8823/pillow-10.3.0-cp38-cp38-manylinux_2_17_x86_64.manylinux2014_x86_64.whl (4.4MB)\n",
      "\u001b[K     |████████████████████████████████| 4.4MB 42.1MB/s eta 0:00:01\n",
      "\u001b[?25hCollecting python-dateutil>=2.7\n",
      "\u001b[?25l  Downloading https://files.pythonhosted.org/packages/ec/57/56b9bcc3c9c6a792fcbaf139543cee77261f3651ca9da0c93f5c1221264b/python_dateutil-2.9.0.post0-py2.py3-none-any.whl (229kB)\n",
      "\u001b[K     |████████████████████████████████| 235kB 57.9MB/s eta 0:00:01\n",
      "\u001b[?25hCollecting kiwisolver>=1.0.1\n",
      "\u001b[?25l  Downloading https://files.pythonhosted.org/packages/d2/55/7021ffcc8cb26a520bb051aa0a3d08daf200cde945e5863d5768161e2d3d/kiwisolver-1.4.5-cp38-cp38-manylinux_2_5_x86_64.manylinux1_x86_64.whl (1.2MB)\n",
      "\u001b[K     |████████████████████████████████| 1.2MB 47.8MB/s eta 0:00:01\n",
      "\u001b[?25hCollecting contourpy>=1.0.1\n",
      "\u001b[?25l  Downloading https://files.pythonhosted.org/packages/8e/71/7f20855592cc929bc206810432b991ec4c702dc26b0567b132e52c85536f/contourpy-1.1.1-cp38-cp38-manylinux_2_17_x86_64.manylinux2014_x86_64.whl (301kB)\n",
      "\u001b[K     |████████████████████████████████| 307kB 55.7MB/s eta 0:00:01\n",
      "\u001b[?25hCollecting fonttools>=4.22.0\n",
      "\u001b[?25l  Downloading https://files.pythonhosted.org/packages/f3/f2/d332c65d62a54904d458142f1914b2eef608be5892dbfe6954d100c715be/fonttools-4.50.0-cp38-cp38-manylinux_2_17_x86_64.manylinux2014_x86_64.whl (4.7MB)\n",
      "\u001b[K     |████████████████████████████████| 4.7MB 38.6MB/s eta 0:00:01\n",
      "\u001b[?25hCollecting importlib-resources>=3.2.0; python_version < \"3.10\"\n",
      "  Downloading https://files.pythonhosted.org/packages/75/06/4df55e1b7b112d183f65db9503bff189e97179b256e1ea450a3c365241e0/importlib_resources-6.4.0-py3-none-any.whl\n",
      "Collecting tzdata>=2022.1\n",
      "\u001b[31mERROR: refractio 2.1.5.4 has requirement pandas==2.0.0, but you'll have pandas 2.0.3 which is incompatible.\u001b[0m\n",
      "\u001b[31mERROR: mlflow 2.6.0 has requirement packaging<24, but you'll have packaging 24.0 which is incompatible.\u001b[0m\n",
      "\u001b[31mERROR: mlflow 2.6.0 has requirement pytz<2024, but you'll have pytz 2024.1 which is incompatible.\u001b[0m\n",
      "\u001b[31mERROR: tensorflow 2.13.1 has requirement numpy<=1.24.3,>=1.22, but you'll have numpy 1.24.4 which is incompatible.\u001b[0m\n",
      "\u001b[31mERROR: tensorflow 2.13.1 has requirement typing-extensions<4.6.0,>=3.6.6, but you'll have typing-extensions 4.10.0 which is incompatible.\u001b[0m\n",
      "\u001b[31mERROR: mosaic-utils 1.0.2 has requirement scikit-learn==1.2.1; python_version >= \"3.8\", but you'll have scikit-learn 1.3.2 which is incompatible.\u001b[0m\n",
      "\u001b[31mERROR: snowflake-ml-python 1.0.1 has requirement absl-py<2,>=0.15, but you'll have absl-py 2.1.0 which is incompatible.\u001b[0m\n",
      "\u001b[31mERROR: snowflake-ml-python 1.0.1 has requirement packaging<24,>=20.9, but you'll have packaging 24.0 which is incompatible.\u001b[0m\n",
      "\u001b[31mERROR: snowflake-ml-python 1.0.1 has requirement pandas<2,>=1.0.0, but you'll have pandas 2.0.3 which is incompatible.\u001b[0m\n",
      "\u001b[31mERROR: snowflake-ml-python 1.0.1 has requirement snowflake-snowpark-python<2,>=1.4.0, but you'll have snowflake-snowpark-python 1.0.0 which is incompatible.\u001b[0m\n",
      "\u001b[31mERROR: snowflake-ml-python 1.0.1 has requirement xgboost<2,>=1.7.3, but you'll have xgboost 2.0.3 which is incompatible.\u001b[0m\n",
      "\u001b[31mERROR: snowflake-connector-python 3.6.0 has requirement urllib3<2.0.0,>=1.21.1; python_version < \"3.10\", but you'll have urllib3 2.2.1 which is incompatible.\u001b[0m\n",
      "\u001b[31mERROR: openapi-spec-validator 0.7.1 has requirement jsonschema<5.0.0,>=4.18.0, but you'll have jsonschema 3.2.0 which is incompatible.\u001b[0m\n",
      "\u001b[31mERROR: openapi-schema-validator 0.6.2 has requirement jsonschema<5.0.0,>=4.19.1, but you'll have jsonschema 3.2.0 which is incompatible.\u001b[0m\n",
      "\u001b[31mERROR: mosaic-ai-serving 1.0.0 has requirement Flask==2.1.1; python_version >= \"3.7\", but you'll have flask 2.3.3 which is incompatible.\u001b[0m\n",
      "\u001b[31mERROR: mosaic-ai-serving 1.0.0 has requirement itsdangerous==2.0.1, but you'll have itsdangerous 2.1.2 which is incompatible.\u001b[0m\n",
      "\u001b[31mERROR: mosaic-ai-serving 1.0.0 has requirement Jinja2==3.0.3, but you'll have jinja2 3.1.3 which is incompatible.\u001b[0m\n",
      "\u001b[31mERROR: mosaic-ai-serving 1.0.0 has requirement matplotlib==3.6.0; python_version >= \"3.8\", but you'll have matplotlib 3.7.5 which is incompatible.\u001b[0m\n",
      "\u001b[31mERROR: mosaic-ai-client 1.0.0 has requirement matplotlib==3.1.1, but you'll have matplotlib 3.7.5 which is incompatible.\u001b[0m\n",
      "\u001b[31mERROR: jupyterlab 3.2.4 has requirement jupyter-server~=1.4, but you'll have jupyter-server 2.0.0a1 which is incompatible.\u001b[0m\n",
      "\u001b[31mERROR: jupyterlab-server 2.25.4 has requirement jsonschema>=4.18.0, but you'll have jsonschema 3.2.0 which is incompatible.\u001b[0m\n",
      "Installing collected packages: cycler, pyparsing, packaging, pillow, six, python-dateutil, kiwisolver, numpy, contourpy, fonttools, zipp, importlib-resources, matplotlib, tzdata, pytz, pandas, seaborn\n",
      "Successfully installed contourpy-1.1.1 cycler-0.12.1 fonttools-4.50.0 importlib-resources-6.4.0 kiwisolver-1.4.5 matplotlib-3.7.5 numpy-1.24.4 packaging-24.0 pandas-2.0.3 pillow-10.3.0 pyparsing-3.1.2 python-dateutil-2.9.0.post0 pytz-2024.1 seaborn-0.13.2 six-1.16.0 tzdata-2024.1 zipp-3.18.1\n",
      "\u001b[33mWARNING: Target directory /tmp/pip_packages/pylab.py already exists. Specify --upgrade to force replacement.\u001b[0m\n",
      "\u001b[33mWARNING: Target directory /tmp/pip_packages/packaging-24.0.dist-info already exists. Specify --upgrade to force replacement.\u001b[0m\n",
      "\u001b[33mWARNING: Target directory /tmp/pip_packages/cycler-0.12.1.dist-info already exists. Specify --upgrade to force replacement.\u001b[0m\n",
      "\u001b[33mWARNING: Target directory /tmp/pip_packages/contourpy-1.1.1.dist-info already exists. Specify --upgrade to force replacement.\u001b[0m\n",
      "\u001b[33mWARNING: Target directory /tmp/pip_packages/kiwisolver already exists. Specify --upgrade to force replacement.\u001b[0m\n",
      "\u001b[33mWARNING: Target directory /tmp/pip_packages/six.py already exists. Specify --upgrade to force replacement.\u001b[0m\n",
      "\u001b[33mWARNING: Target directory /tmp/pip_packages/packaging already exists. Specify --upgrade to force replacement.\u001b[0m\n",
      "\u001b[33mWARNING: Target directory /tmp/pip_packages/numpy-1.24.4.dist-info already exists. Specify --upgrade to force replacement.\u001b[0m\n",
      "\u001b[33mWARNING: Target directory /tmp/pip_packages/PIL already exists. Specify --upgrade to force replacement.\u001b[0m\n",
      "\u001b[33mWARNING: Target directory /tmp/pip_packages/kiwisolver-1.4.5.dist-info already exists. Specify --upgrade to force replacement.\u001b[0m\n",
      "\u001b[33mWARNING: Target directory /tmp/pip_packages/matplotlib-3.7.5-py3.8-nspkg.pth already exists. Specify --upgrade to force replacement.\u001b[0m\n",
      "\u001b[33mWARNING: Target directory /tmp/pip_packages/cycler already exists. Specify --upgrade to force replacement.\u001b[0m\n",
      "\u001b[33mWARNING: Target directory /tmp/pip_packages/importlib_resources-6.4.0.dist-info already exists. Specify --upgrade to force replacement.\u001b[0m\n",
      "\u001b[33mWARNING: Target directory /tmp/pip_packages/__pycache__ already exists. Specify --upgrade to force replacement.\u001b[0m\n",
      "\u001b[33mWARNING: Target directory /tmp/pip_packages/numpy already exists. Specify --upgrade to force replacement.\u001b[0m\n",
      "\u001b[33mWARNING: Target directory /tmp/pip_packages/python_dateutil-2.9.0.post0.dist-info already exists. Specify --upgrade to force replacement.\u001b[0m\n",
      "\u001b[33mWARNING: Target directory /tmp/pip_packages/dateutil already exists. Specify --upgrade to force replacement.\u001b[0m\n",
      "\u001b[33mWARNING: Target directory /tmp/pip_packages/pyparsing already exists. Specify --upgrade to force replacement.\u001b[0m\n",
      "\u001b[33mWARNING: Target directory /tmp/pip_packages/seaborn-0.13.2.dist-info already exists. Specify --upgrade to force replacement.\u001b[0m\n",
      "\u001b[33mWARNING: Target directory /tmp/pip_packages/pandas-2.0.3.dist-info already exists. Specify --upgrade to force replacement.\u001b[0m\n",
      "\u001b[33mWARNING: Target directory /tmp/pip_packages/contourpy already exists. Specify --upgrade to force replacement.\u001b[0m\n",
      "\u001b[33mWARNING: Target directory /tmp/pip_packages/fontTools already exists. Specify --upgrade to force replacement.\u001b[0m\n",
      "\u001b[33mWARNING: Target directory /tmp/pip_packages/pytz-2024.1.dist-info already exists. Specify --upgrade to force replacement.\u001b[0m\n",
      "\u001b[33mWARNING: Target directory /tmp/pip_packages/pytz already exists. Specify --upgrade to force replacement.\u001b[0m\n",
      "\u001b[33mWARNING: Target directory /tmp/pip_packages/zipp already exists. Specify --upgrade to force replacement.\u001b[0m\n",
      "\u001b[33mWARNING: Target directory /tmp/pip_packages/matplotlib already exists. Specify --upgrade to force replacement.\u001b[0m\n",
      "\u001b[33mWARNING: Target directory /tmp/pip_packages/tzdata already exists. Specify --upgrade to force replacement.\u001b[0m\n",
      "\u001b[33mWARNING: Target directory /tmp/pip_packages/seaborn already exists. Specify --upgrade to force replacement.\u001b[0m\n",
      "\u001b[33mWARNING: Target directory /tmp/pip_packages/zipp-3.18.1.dist-info already exists. Specify --upgrade to force replacement.\u001b[0m\n",
      "\u001b[33mWARNING: Target directory /tmp/pip_packages/matplotlib-3.7.5.dist-info already exists. Specify --upgrade to force replacement.\u001b[0m\n",
      "\u001b[33mWARNING: Target directory /tmp/pip_packages/tzdata-2024.1.dist-info already exists. Specify --upgrade to force replacement.\u001b[0m\n",
      "\u001b[33mWARNING: Target directory /tmp/pip_packages/pyparsing-3.1.2.dist-info already exists. Specify --upgrade to force replacement.\u001b[0m\n",
      "\u001b[33mWARNING: Target directory /tmp/pip_packages/importlib_resources already exists. Specify --upgrade to force replacement.\u001b[0m\n",
      "\u001b[33mWARNING: Target directory /tmp/pip_packages/mpl_toolkits already exists. Specify --upgrade to force replacement.\u001b[0m\n",
      "\u001b[33mWARNING: Target directory /tmp/pip_packages/numpy.libs already exists. Specify --upgrade to force replacement.\u001b[0m\n",
      "\u001b[33mWARNING: Target directory /tmp/pip_packages/pandas already exists. Specify --upgrade to force replacement.\u001b[0m\n",
      "\u001b[33mWARNING: Target directory /tmp/pip_packages/fonttools-4.50.0.dist-info already exists. Specify --upgrade to force replacement.\u001b[0m\n",
      "\u001b[33mWARNING: Target directory /tmp/pip_packages/pillow-10.3.0.dist-info already exists. Specify --upgrade to force replacement.\u001b[0m\n",
      "\u001b[33mWARNING: Target directory /tmp/pip_packages/pillow.libs already exists. Specify --upgrade to force replacement.\u001b[0m\n",
      "\u001b[33mWARNING: Target directory /tmp/pip_packages/six-1.16.0.dist-info already exists. Specify --upgrade to force replacement.\u001b[0m\n",
      "\u001b[33mWARNING: Target directory /tmp/pip_packages/bin already exists. Specify --upgrade to force replacement.\u001b[0m\n",
      "\u001b[33mWARNING: Target directory /tmp/pip_packages/share already exists. Specify --upgrade to force replacement.\u001b[0m\n"
     ]
    },
    {
     "name": "stdout",
     "output_type": "stream",
     "text": [
      "\u001b[33mWARNING: You are using pip version 19.3.1; however, version 24.0 is available.\n",
      "You should consider upgrading via the 'pip install --upgrade pip' command.\u001b[0m\n",
      "Note: you may need to restart the kernel to use updated packages.\n"
     ]
    }
   ],
   "source": [
    "pip install seaborn"
   ]
  },
  {
   "cell_type": "code",
   "execution_count": 4,
   "id": "179b49ba",
   "metadata": {},
   "outputs": [
    {
     "name": "stdout",
     "output_type": "stream",
     "text": [
      "\u001b[33mWARNING: The directory '/home/mosaic-ai/.cache/pip/http' or its parent directory is not owned by the current user and the cache has been disabled. Please check the permissions and owner of that directory. If executing pip with sudo, you may want sudo's -H flag.\u001b[0m\n",
      "\u001b[33mWARNING: The directory '/home/mosaic-ai/.cache/pip' or its parent directory is not owned by the current user and caching wheels has been disabled. check the permissions and owner of that directory. If executing pip with sudo, you may want sudo's -H flag.\u001b[0m\n",
      "Collecting refractml\n",
      "\u001b[?25l  Downloading https://files.pythonhosted.org/packages/f9/0d/023d845cf453feb632b08435c91f7e5d050c0df73c5be66bdbbca2f6ba87/refractml-1.0.3-py2.py3-none-any.whl (42kB)\n",
      "\u001b[K     |████████████████████████████████| 51kB 1.7MB/s eta 0:00:011\n",
      "\u001b[?25hCollecting mosaic-utils\n",
      "\u001b[?25l  Downloading https://files.pythonhosted.org/packages/09/d7/8424b1dcaa5b1a2f824fc440aa1c4ef45e0bf6593d11b37962311614f365/mosaic_utils-1.0.2-py2.py3-none-any.whl (70kB)\n",
      "\u001b[K     |████████████████████████████████| 71kB 2.1MB/s eta 0:00:011\n",
      "\u001b[?25hCollecting shutils==0.1.0\n",
      "  Downloading https://files.pythonhosted.org/packages/46/1d/8c6017828045c2d510e2d1d480b563936be7755c97cff660afed947928b6/shutils-0.1.0.tar.gz\n",
      "Collecting requests-toolbelt==0.9.1\n",
      "\u001b[?25l  Downloading https://files.pythonhosted.org/packages/60/ef/7681134338fc097acef8d9b2f8abe0458e4d87559c689a8c306d0957ece5/requests_toolbelt-0.9.1-py2.py3-none-any.whl (54kB)\n",
      "\u001b[K     |████████████████████████████████| 61kB 9.8MB/s eta 0:00:011\n",
      "\u001b[?25hCollecting urllib3==1.26.15\n",
      "\u001b[?25l  Downloading https://files.pythonhosted.org/packages/7b/f5/890a0baca17a61c1f92f72b81d3c31523c99bec609e60c292ea55b387ae8/urllib3-1.26.15-py2.py3-none-any.whl (140kB)\n",
      "\u001b[K     |████████████████████████████████| 143kB 3.4MB/s eta 0:00:01\n",
      "\u001b[?25hCollecting PyYAML==6.0\n",
      "\u001b[?25l  Downloading https://files.pythonhosted.org/packages/d7/42/7ad4b6d67a16229496d4f6e74201bdbebcf4bc1e87d5a70c9297d4961bd2/PyYAML-6.0-cp38-cp38-manylinux_2_5_x86_64.manylinux1_x86_64.manylinux_2_12_x86_64.manylinux2010_x86_64.whl (701kB)\n",
      "\u001b[K     |████████████████████████████████| 706kB 18.9MB/s eta 0:00:01\n",
      "\u001b[?25hCollecting cloudpickle==1.6.0\n",
      "  Downloading https://files.pythonhosted.org/packages/e7/e3/898487e5dbeb612054cf2e0c188463acb358167fef749c53c8bb8918cea1/cloudpickle-1.6.0-py3-none-any.whl\n",
      "Collecting scikit-learn==1.2.1; python_version >= \"3.8\"\n",
      "\u001b[?25l  Downloading https://files.pythonhosted.org/packages/f0/95/0ea0a2412e33080a47ec02802210c008a7a540471581c95145f030d304b4/scikit_learn-1.2.1-cp38-cp38-manylinux_2_17_x86_64.manylinux2014_x86_64.whl (9.8MB)\n",
      "\u001b[K     |████████████████████████████████| 9.8MB 60.0MB/s eta 0:00:01\n",
      "\u001b[?25hCollecting configparser\n",
      "  Downloading https://files.pythonhosted.org/packages/bf/c1/c9d33f208bf25164ec315a571a9c0a6b71a5d38f364426db987cec12a152/configparser-6.0.1-py3-none-any.whl\n",
      "Collecting pymysql\n",
      "\u001b[?25l  Downloading https://files.pythonhosted.org/packages/e5/30/20467e39523d0cfc2b6227902d3687a16364307260c75e6a1cb4422b0c62/PyMySQL-1.1.0-py3-none-any.whl (44kB)\n",
      "\u001b[K     |████████████████████████████████| 51kB 41.8MB/s eta 0:00:01\n",
      "\u001b[?25hCollecting requests<3.0.0,>=2.0.1\n",
      "\u001b[?25l  Downloading https://files.pythonhosted.org/packages/70/8e/0e2d847013cb52cd35b38c009bb167a1a26b2ce6cd6965bf26b47bc0bf44/requests-2.31.0-py3-none-any.whl (62kB)\n",
      "\u001b[K     |████████████████████████████████| 71kB 53.5MB/s eta 0:00:01\n",
      "\u001b[?25hCollecting numpy>=1.17.3\n",
      "\u001b[?25l  Downloading https://files.pythonhosted.org/packages/98/5d/5738903efe0ecb73e51eb44feafba32bdba2081263d40c5043568ff60faf/numpy-1.24.4-cp38-cp38-manylinux_2_17_x86_64.manylinux2014_x86_64.whl (17.3MB)\n",
      "\u001b[K     |████████████████████████████████| 17.3MB 54.1MB/s eta 0:00:01\n",
      "\u001b[?25hCollecting joblib>=1.1.1\n",
      "\u001b[?25l  Downloading https://files.pythonhosted.org/packages/10/40/d551139c85db202f1f384ba8bcf96aca2f329440a844f924c8a0040b6d02/joblib-1.3.2-py3-none-any.whl (302kB)\n",
      "\u001b[K     |████████████████████████████████| 307kB 37.6MB/s eta 0:00:01\n",
      "\u001b[?25hCollecting scipy>=1.3.2\n",
      "\u001b[?25l  Downloading https://files.pythonhosted.org/packages/69/f0/fb07a9548e48b687b8bf2fa81d71aba9cfc548d365046ca1c791e24db99d/scipy-1.10.1-cp38-cp38-manylinux_2_17_x86_64.manylinux2014_x86_64.whl (34.5MB)\n",
      "\u001b[K     |████████████████████████████████| 34.5MB 34.4MB/s eta 0:00:01\n",
      "\u001b[?25hCollecting threadpoolctl>=2.0.0\n",
      "  Downloading https://files.pythonhosted.org/packages/1e/84/ccd9b08653022b7785b6e3ee070ffb2825841e0dc119be22f0840b2b35cb/threadpoolctl-3.4.0-py3-none-any.whl\n",
      "Collecting idna<4,>=2.5\n",
      "\u001b[?25l  Downloading https://files.pythonhosted.org/packages/c2/e7/a82b05cf63a603df6e68d59ae6a68bf5064484a0718ea5033660af4b54a9/idna-3.6-py3-none-any.whl (61kB)\n",
      "\u001b[K     |████████████████████████████████| 71kB 53.0MB/s eta 0:00:01\n",
      "\u001b[?25hCollecting charset-normalizer<4,>=2\n",
      "\u001b[?25l  Downloading https://files.pythonhosted.org/packages/3d/09/d82fe4a34c5f0585f9ea1df090e2a71eb9bb1e469723053e1ee9f57c16f3/charset_normalizer-3.3.2-cp38-cp38-manylinux_2_17_x86_64.manylinux2014_x86_64.whl (141kB)\n",
      "\u001b[K     |████████████████████████████████| 143kB 58.2MB/s eta 0:00:01\n",
      "\u001b[?25hCollecting certifi>=2017.4.17\n",
      "\u001b[?25l  Downloading https://files.pythonhosted.org/packages/ba/06/a07f096c664aeb9f01624f858c3add0a4e913d6c96257acb4fce61e7de14/certifi-2024.2.2-py3-none-any.whl (163kB)\n",
      "\u001b[K     |████████████████████████████████| 163kB 1.6MB/s eta 0:00:01\n",
      "\u001b[?25hBuilding wheels for collected packages: shutils\n",
      "\u001b[33m  WARNING: Building wheel for shutils failed: [Errno 13] Permission denied: '/home/mosaic-ai/.cache/pip/wheels'\u001b[0m\n",
      "Failed to build shutils\n",
      "\u001b[31mERROR: mlflow 2.6.0 has requirement pytz<2024, but you'll have pytz 2024.1 which is incompatible.\u001b[0m\n",
      "\u001b[31mERROR: tensorflow 2.13.1 has requirement numpy<=1.24.3,>=1.22, but you'll have numpy 1.24.4 which is incompatible.\u001b[0m\n",
      "\u001b[31mERROR: tensorflow 2.13.1 has requirement typing-extensions<4.6.0,>=3.6.6, but you'll have typing-extensions 4.10.0 which is incompatible.\u001b[0m\n",
      "\u001b[31mERROR: snowflake-snowpark-python 1.0.0 has requirement snowflake-connector-python<3.0.0,>=2.7.12, but you'll have snowflake-connector-python 3.6.0 which is incompatible.\u001b[0m\n",
      "\u001b[31mERROR: snowflake-ml-python 1.0.1 has requirement absl-py<2,>=0.15, but you'll have absl-py 2.1.0 which is incompatible.\u001b[0m\n",
      "\u001b[31mERROR: snowflake-ml-python 1.0.1 has requirement pandas<2,>=1.0.0, but you'll have pandas 2.0.3 which is incompatible.\u001b[0m\n",
      "\u001b[31mERROR: snowflake-ml-python 1.0.1 has requirement snowflake-snowpark-python<2,>=1.4.0, but you'll have snowflake-snowpark-python 1.0.0 which is incompatible.\u001b[0m\n",
      "\u001b[31mERROR: snowflake-ml-python 1.0.1 has requirement xgboost<2,>=1.7.3, but you'll have xgboost 2.0.3 which is incompatible.\u001b[0m\n",
      "\u001b[31mERROR: mosaic-ai-serving 1.0.0 has requirement Flask==2.1.1; python_version >= \"3.7\", but you'll have flask 2.3.3 which is incompatible.\u001b[0m\n",
      "\u001b[31mERROR: mosaic-ai-serving 1.0.0 has requirement itsdangerous==2.0.1, but you'll have itsdangerous 2.1.2 which is incompatible.\u001b[0m\n",
      "\u001b[31mERROR: mosaic-ai-serving 1.0.0 has requirement Jinja2==3.0.3, but you'll have jinja2 3.1.3 which is incompatible.\u001b[0m\n",
      "\u001b[31mERROR: mosaic-ai-serving 1.0.0 has requirement matplotlib==3.6.0; python_version >= \"3.8\", but you'll have matplotlib 3.7.5 which is incompatible.\u001b[0m\n",
      "\u001b[31mERROR: mosaic-ai-client 1.0.0 has requirement matplotlib==3.1.1, but you'll have matplotlib 3.7.5 which is incompatible.\u001b[0m\n",
      "\u001b[31mERROR: jupyterlab-server 2.25.4 has requirement jsonschema>=4.18.0, but you'll have jsonschema 3.2.0 which is incompatible.\u001b[0m\n",
      "Installing collected packages: numpy, joblib, scipy, threadpoolctl, scikit-learn, mosaic-utils, configparser, pymysql, shutils, urllib3, idna, charset-normalizer, certifi, requests, requests-toolbelt, PyYAML, cloudpickle, refractml\n",
      "    Running setup.py install for shutils ... \u001b[?25ldone\n",
      "\u001b[?25hSuccessfully installed PyYAML-6.0 certifi-2024.2.2 charset-normalizer-3.3.2 cloudpickle-1.6.0 configparser-6.0.1 idna-3.6 joblib-1.3.2 mosaic-utils-1.0.2 numpy-1.24.4 pymysql-1.1.0 refractml-1.0.3 requests-2.31.0 requests-toolbelt-0.9.1 scikit-learn-1.2.1 scipy-1.10.1 shutils-0.1.0 threadpoolctl-3.4.0 urllib3-1.26.15\n",
      "\u001b[33mWARNING: Target directory /tmp/pip_packages/idna-3.6.dist-info already exists. Specify --upgrade to force replacement.\u001b[0m\n",
      "\u001b[33mWARNING: Target directory /tmp/pip_packages/certifi-2024.2.2.dist-info already exists. Specify --upgrade to force replacement.\u001b[0m\n",
      "\u001b[33mWARNING: Target directory /tmp/pip_packages/urllib3 already exists. Specify --upgrade to force replacement.\u001b[0m\n",
      "\u001b[33mWARNING: Target directory /tmp/pip_packages/idna already exists. Specify --upgrade to force replacement.\u001b[0m\n",
      "\u001b[33mWARNING: Target directory /tmp/pip_packages/requests-2.31.0.dist-info already exists. Specify --upgrade to force replacement.\u001b[0m\n",
      "\u001b[33mWARNING: Target directory /tmp/pip_packages/charset_normalizer-3.3.2.dist-info already exists. Specify --upgrade to force replacement.\u001b[0m\n",
      "\u001b[33mWARNING: Target directory /tmp/pip_packages/numpy-1.24.4.dist-info already exists. Specify --upgrade to force replacement.\u001b[0m\n",
      "\u001b[33mWARNING: Target directory /tmp/pip_packages/__pycache__ already exists. Specify --upgrade to force replacement.\u001b[0m\n",
      "\u001b[33mWARNING: Target directory /tmp/pip_packages/numpy already exists. Specify --upgrade to force replacement.\u001b[0m\n",
      "\u001b[33mWARNING: Target directory /tmp/pip_packages/charset_normalizer already exists. Specify --upgrade to force replacement.\u001b[0m\n",
      "\u001b[33mWARNING: Target directory /tmp/pip_packages/certifi already exists. Specify --upgrade to force replacement.\u001b[0m\n",
      "\u001b[33mWARNING: Target directory /tmp/pip_packages/requests already exists. Specify --upgrade to force replacement.\u001b[0m\n",
      "\u001b[33mWARNING: Target directory /tmp/pip_packages/numpy.libs already exists. Specify --upgrade to force replacement.\u001b[0m\n",
      "\u001b[33mWARNING: Target directory /tmp/pip_packages/bin already exists. Specify --upgrade to force replacement.\u001b[0m\n"
     ]
    },
    {
     "name": "stdout",
     "output_type": "stream",
     "text": [
      "\u001b[33mWARNING: You are using pip version 19.3.1; however, version 24.0 is available.\n",
      "You should consider upgrading via the 'pip install --upgrade pip' command.\u001b[0m\n",
      "Note: you may need to restart the kernel to use updated packages.\n"
     ]
    }
   ],
   "source": [
    "pip install refractml"
   ]
  },
  {
   "cell_type": "code",
   "execution_count": 4,
   "id": "dbc3d672",
   "metadata": {},
   "outputs": [
    {
     "name": "stdout",
     "output_type": "stream",
     "text": [
      "\u001b[33mWARNING: The directory '/home/mosaic-ai/.cache/pip/http' or its parent directory is not owned by the current user and the cache has been disabled. Please check the permissions and owner of that directory. If executing pip with sudo, you may want sudo's -H flag.\u001b[0m\n",
      "Uninstalling urllib3-2.2.1:\n",
      "  Successfully uninstalled urllib3-2.2.1\n",
      "\u001b[33mWARNING: The directory '/home/mosaic-ai/.cache/pip/http' or its parent directory is not owned by the current user and the cache has been disabled. Please check the permissions and owner of that directory. If executing pip with sudo, you may want sudo's -H flag.\u001b[0m\n",
      "\u001b[33mWARNING: The directory '/home/mosaic-ai/.cache/pip' or its parent directory is not owned by the current user and caching wheels has been disabled. check the permissions and owner of that directory. If executing pip with sudo, you may want sudo's -H flag.\u001b[0m\n",
      "Collecting urllib3==1.26.15\n",
      "\u001b[?25l  Downloading https://files.pythonhosted.org/packages/7b/f5/890a0baca17a61c1f92f72b81d3c31523c99bec609e60c292ea55b387ae8/urllib3-1.26.15-py2.py3-none-any.whl (140kB)\n",
      "\u001b[K     |████████████████████████████████| 143kB 1.4MB/s eta 0:00:01\n",
      "\u001b[31mERROR: mlflow 2.6.0 has requirement pytz<2024, but you'll have pytz 2024.1 which is incompatible.\u001b[0m\n",
      "\u001b[31mERROR: refractml 1.0.3 has requirement cloudpickle==1.6.0, but you'll have cloudpickle 2.2.1 which is incompatible.\u001b[0m\n",
      "\u001b[31mERROR: refractml 1.0.3 has requirement PyYAML==6.0, but you'll have pyyaml 6.0.1 which is incompatible.\u001b[0m\n",
      "\u001b[31mERROR: mosaic-ai-client 1.0.0 has requirement matplotlib==3.1.1, but you'll have matplotlib 3.7.5 which is incompatible.\u001b[0m\n",
      "\u001b[31mERROR: jupyterlab-server 2.25.4 has requirement jsonschema>=4.18.0, but you'll have jsonschema 3.2.0 which is incompatible.\u001b[0m\n",
      "\u001b[?25hInstalling collected packages: urllib3\n",
      "Successfully installed urllib3-1.26.15\n",
      "\u001b[33mWARNING: Target directory /tmp/pip_packages/urllib3 already exists. Specify --upgrade to force replacement.\u001b[0m\n",
      "\u001b[33mWARNING: Target directory /tmp/pip_packages/urllib3-1.26.15.dist-info already exists. Specify --upgrade to force replacement.\u001b[0m\n",
      "\u001b[33mWARNING: You are using pip version 19.3.1; however, version 24.0 is available.\n",
      "You should consider upgrading via the 'pip install --upgrade pip' command.\u001b[0m\n"
     ]
    }
   ],
   "source": [
    "!pip uninstall urllib3 -y\n",
    "!pip install urllib3==1.26.15"
   ]
  },
  {
   "cell_type": "code",
   "execution_count": 5,
   "id": "63e491d0",
   "metadata": {},
   "outputs": [
    {
     "name": "stderr",
     "output_type": "stream",
     "text": [
      "Matplotlib created a temporary cache directory at /tmp/matplotlib-xr17o1uw because the default path (/home/mosaic-ai/.cache/matplotlib) is not a writable directory; it is highly recommended to set the MPLCONFIGDIR environment variable to a writable directory, in particular to speed up the import of Matplotlib and to better support multiprocessing.\n"
     ]
    },
    {
     "name": "stdout",
     "output_type": "stream",
     "text": [
      "connection successful!\n"
     ]
    }
   ],
   "source": [
    "import numpy as np\n",
    "import pandas as pd\n",
    "from tqdm import tqdm\n",
    "from tensorflow.keras.models import Sequential\n",
    "from tensorflow.keras.layers import Dense,Dropout\n",
    "from tensorflow.keras.callbacks import EarlyStopping\n",
    "from sklearn.model_selection import train_test_split\n",
    "from sklearn.preprocessing import LabelEncoder\n",
    "from sklearn.preprocessing import MinMaxScaler\n",
    "\n",
    "import time\n",
    "import seaborn as sns\n",
    "from snowflake.snowpark.session import Session\n",
    "import configparser\n",
    "\n",
    "import warnings\n",
    "warnings.filterwarnings(\"ignore\")\n",
    "\n",
    "config = configparser.ConfigParser()\n",
    "config.read(\"snowflake_connection.ini\")\n",
    "\n",
    "connection_parameters = {\n",
    "    \"user\": f'{config[\"Snowflake\"][\"user\"]}',\n",
    "    \"password\": f'{config[\"Snowflake\"][\"password\"]}',\n",
    "    \"account\": f'{config[\"Snowflake\"][\"account\"]}',\n",
    "    \"WAREHOUSE\": f'{config[\"Snowflake\"][\"WAREHOUSE\"]}',\n",
    "    \"DATABASE\": f'{config[\"Snowflake\"][\"DATABASE\"]}',\n",
    "    \"SCHEMA\": f'{config[\"Snowflake\"][\"SCHEMA\"]}'\n",
    "}\n",
    "\n",
    "def snowflake_connector(conn):\n",
    "    try:\n",
    "        session = Session.builder.configs(conn).create()\n",
    "        print(\"connection successful!\")\n",
    "    except:\n",
    "        raise ValueError(\"error while connecting with db\")\n",
    "    return session\n",
    "\n",
    "session = snowflake_connector(connection_parameters)"
   ]
  },
  {
   "cell_type": "code",
   "execution_count": 6,
   "id": "c8ef3911",
   "metadata": {},
   "outputs": [],
   "source": [
    "df = session.table(\"CPG_WAREHOUSE\").to_pandas()"
   ]
  },
  {
   "cell_type": "code",
   "execution_count": 7,
   "id": "ed006ece",
   "metadata": {},
   "outputs": [
    {
     "data": {
      "text/plain": [
       "DATE                                 0\n",
       "WARE_HOUSE_ID                        0\n",
       "WH_MANAGER_ID                        0\n",
       "LOCATION_TYPE                        0\n",
       "WH_CAPACITY_SIZE                     0\n",
       "ZONE                                 0\n",
       "WH_REGIONAL_ZONE                     0\n",
       "REFILL_REQUESTS                      0\n",
       "TRANSPORT_ISSUE                      0\n",
       "NO_OF_COMPETITOR                     0\n",
       "NO_OF_RETAILERS                      0\n",
       "WAREHOUSE_OWNERSHIP                  0\n",
       "NUMBER_OF_DISTRIBUTORS               0\n",
       "FLOOD_IMPACTED                       0\n",
       "FLOOD_PROOF                          0\n",
       "ELECTRIC_SUPPLY                      0\n",
       "DIST_FROM_HUB                        0\n",
       "WORKERS_NUM                        990\n",
       "WH_EST_YEAR                     166335\n",
       "STORAGE_ISSUE_REPORTED               0\n",
       "TEMP_REG_MACH                        1\n",
       "APPROVED_WH_GOVT_CERTIFICATE         1\n",
       "WH_BREAKDOWN                         1\n",
       "GOVT_CHECK                           1\n",
       "PRODUCT_WG_TON                       1\n",
       "dtype: int64"
      ]
     },
     "execution_count": 7,
     "metadata": {},
     "output_type": "execute_result"
    }
   ],
   "source": [
    "df.duplicated().sum()\n",
    "df.isnull().sum()"
   ]
  },
  {
   "cell_type": "code",
   "execution_count": 8,
   "id": "0bb1757d",
   "metadata": {},
   "outputs": [],
   "source": [
    "df['WORKERS_NUM'] = df['WORKERS_NUM'].fillna(df['WORKERS_NUM'].mean())"
   ]
  },
  {
   "cell_type": "code",
   "execution_count": 9,
   "id": "ee207f63",
   "metadata": {},
   "outputs": [],
   "source": [
    "df = df[df.APPROVED_WH_GOVT_CERTIFICATE != 'NA']\n",
    "df = df[df.APPROVED_WH_GOVT_CERTIFICATE != '0']\n",
    "df = df[df.APPROVED_WH_GOVT_CERTIFICATE != 0]"
   ]
  },
  {
   "cell_type": "code",
   "execution_count": 10,
   "id": "99311eba",
   "metadata": {},
   "outputs": [
    {
     "data": {
      "text/plain": [
       "APPROVED_WH_GOVT_CERTIFICATE\n",
       "C     77014\n",
       "B+    68837\n",
       "B     67368\n",
       "A     65394\n",
       "A+    58674\n",
       "Name: count, dtype: int64"
      ]
     },
     "execution_count": 10,
     "metadata": {},
     "output_type": "execute_result"
    },
    {
     "data": {
      "image/png": "[encoded data removed]",
      "text/plain": [
       "<Figure size 432x288 with 1 Axes>"
      ]
     },
     "metadata": {
      "needs_background": "light"
     },
     "output_type": "display_data"
    }
   ],
   "source": [
    "df['APPROVED_WH_GOVT_CERTIFICATE'].hist()\n",
    "df['APPROVED_WH_GOVT_CERTIFICATE'].value_counts()"
   ]
  },
  {
   "cell_type": "code",
   "execution_count": 11,
   "id": "28bb1e54",
   "metadata": {},
   "outputs": [
    {
     "data": {
      "text/plain": [
       "[Text(0.5, 1.0, 'Location Type by zone')]"
      ]
     },
     "execution_count": 11,
     "metadata": {},
     "output_type": "execute_result"
    },
    {
     "data": {
      "image/png": "[encoded data removed]",
      "text/plain": [
       "<Figure size 432x288 with 1 Axes>"
      ]
     },
     "metadata": {
      "needs_background": "light"
     },
     "output_type": "display_data"
    }
   ],
   "source": [
    "sns.countplot(data=df,x='LOCATION_TYPE',hue='ZONE').set(title='Location Type by zone')"
   ]
  },
  {
   "cell_type": "code",
   "execution_count": 12,
   "id": "c7a493d6",
   "metadata": {},
   "outputs": [
    {
     "data": {
      "text/plain": [
       "<Axes: xlabel='APPROVED_WH_GOVT_CERTIFICATE', ylabel='WH_BREAKDOWN'>"
      ]
     },
     "execution_count": 12,
     "metadata": {},
     "output_type": "execute_result"
    },
    {
     "data": {
      "image/png": "[encoded data removed]",
      "text/plain": [
       "<Figure size 432x288 with 1 Axes>"
      ]
     },
     "metadata": {
      "needs_background": "light"
     },
     "output_type": "display_data"
    }
   ],
   "source": [
    "sns.boxplot(data=df,x='APPROVED_WH_GOVT_CERTIFICATE',y='WH_BREAKDOWN')"
   ]
  },
  {
   "cell_type": "code",
   "execution_count": 13,
   "id": "0c620567",
   "metadata": {},
   "outputs": [],
   "source": [
    "#label encoder turns label into numeric data\n",
    "le = LabelEncoder()\n",
    "df['LOCATION_TYPE']=le.fit_transform(df['LOCATION_TYPE'])\n",
    "df['WH_CAPACITY_SIZE']=le.fit_transform(df['WH_CAPACITY_SIZE'])\n",
    "df['APPROVED_WH_GOVT_CERTIFICATE']=le.fit_transform(df['APPROVED_WH_GOVT_CERTIFICATE'])\n",
    "df['ZONE']=le.fit_transform(df['ZONE'])\n",
    "df['WH_REGIONAL_ZONE']= le.fit_transform(df['WH_REGIONAL_ZONE'])\n",
    "df['WAREHOUSE_OWNERSHIP']=le.fit_transform(df['WAREHOUSE_OWNERSHIP'])\n",
    "## can also use the code below to transform into numeric data by removing \"Zone\" using lambda expression\n",
    "##df['WH_regional_zone']=df['WH_regional_zone'].apply(lambda x: x.split(' ')[1]-1)"
   ]
  },
  {
   "cell_type": "code",
   "execution_count": 14,
   "id": "9c75fff3",
   "metadata": {},
   "outputs": [
    {
     "data": {
      "text/plain": [
       "<Axes: xlabel='APPROVED_WH_GOVT_CERTIFICATE', ylabel='WH_BREAKDOWN'>"
      ]
     },
     "execution_count": 14,
     "metadata": {},
     "output_type": "execute_result"
    },
    {
     "data": {
      "image/png": "[encoded data removed]",
      "text/plain": [
       "<Figure size 432x288 with 1 Axes>"
      ]
     },
     "metadata": {
      "needs_background": "light"
     },
     "output_type": "display_data"
    }
   ],
   "source": [
    "sns.boxplot(data=df,x='APPROVED_WH_GOVT_CERTIFICATE',y='WH_BREAKDOWN')"
   ]
  },
  {
   "cell_type": "code",
   "execution_count": 15,
   "id": "b4bcbd3b",
   "metadata": {},
   "outputs": [],
   "source": [
    "df = df[df.APPROVED_WH_GOVT_CERTIFICATE != 5]"
   ]
  },
  {
   "cell_type": "code",
   "execution_count": 16,
   "id": "9b39134b",
   "metadata": {},
   "outputs": [
    {
     "data": {
      "text/plain": [
       "<Axes: xlabel='APPROVED_WH_GOVT_CERTIFICATE', ylabel='WH_BREAKDOWN'>"
      ]
     },
     "execution_count": 16,
     "metadata": {},
     "output_type": "execute_result"
    },
    {
     "data": {
      "image/png": "[encoded data removed]",
      "text/plain": [
       "<Figure size 432x288 with 1 Axes>"
      ]
     },
     "metadata": {
      "needs_background": "light"
     },
     "output_type": "display_data"
    }
   ],
   "source": [
    "sns.boxplot(data=df,x='APPROVED_WH_GOVT_CERTIFICATE',y='WH_BREAKDOWN')"
   ]
  },
  {
   "cell_type": "code",
   "execution_count": 17,
   "id": "d4b14970",
   "metadata": {},
   "outputs": [],
   "source": [
    "df = df.drop(['WARE_HOUSE_ID','WH_MANAGER_ID','WH_EST_YEAR','DATE'],axis=1)"
   ]
  },
  {
   "cell_type": "code",
   "execution_count": 18,
   "id": "82b552c6",
   "metadata": {},
   "outputs": [
    {
     "data": {
      "text/plain": [
       "<Axes: >"
      ]
     },
     "execution_count": 18,
     "metadata": {},
     "output_type": "execute_result"
    },
    {
     "data": {
      "image/png": "[encoded data removed]",
      "text/plain": [
       "<Figure size 432x288 with 2 Axes>"
      ]
     },
     "metadata": {
      "needs_background": "light"
     },
     "output_type": "display_data"
    }
   ],
   "source": [
    "sns.heatmap(df.corr())"
   ]
  },
  {
   "cell_type": "code",
   "execution_count": 19,
   "id": "72ca3654",
   "metadata": {},
   "outputs": [],
   "source": [
    "#separate the class feature from the rest of the dataset\n",
    "X = df.drop('APPROVED_WH_GOVT_CERTIFICATE',axis=1).values\n",
    "y = df['APPROVED_WH_GOVT_CERTIFICATE'].values"
   ]
  },
  {
   "cell_type": "code",
   "execution_count": 20,
   "id": "017bf7f3",
   "metadata": {},
   "outputs": [],
   "source": [
    "X_train, X_test, y_train, y_test = train_test_split(X, y, test_size=0.2, random_state=101)\n",
    "scaler = MinMaxScaler().fit(X_train)\n",
    "X_train= scaler.transform(X_train)\n",
    "X_test= scaler.transform(X_test)"
   ]
  },
  {
   "cell_type": "code",
   "execution_count": 21,
   "id": "474232f9",
   "metadata": {},
   "outputs": [
    {
     "name": "stdout",
     "output_type": "stream",
     "text": [
      "X train shape:  (269829, 20)\n",
      "X test shape:  (67458, 20)\n"
     ]
    }
   ],
   "source": [
    "print('X train shape: ',X_train.shape)\n",
    "print('X test shape: ',X_test.shape)"
   ]
  },
  {
   "cell_type": "code",
   "execution_count": 22,
   "id": "36ee31c3",
   "metadata": {},
   "outputs": [],
   "source": [
    "#define a deep learning model\n",
    "model = Sequential()\n",
    "\n",
    "#20 neurons first layer because 20 inputs\n",
    "model.add(Dense(20,activation='relu'))\n",
    "model.add(Dense(10,activation='relu'))\n",
    "model.add(Dense(10,activation='relu'))\n",
    "\n",
    "#5 neurons for last layer because 5 classes (grade of govt certificate)\n",
    "model.add(Dense(5,activation='softmax'))\n",
    "\n",
    "model.compile(loss='sparse_categorical_crossentropy', optimizer='adam',metrics=['accuracy'])"
   ]
  },
  {
   "cell_type": "code",
   "execution_count": 23,
   "id": "783ce839",
   "metadata": {},
   "outputs": [
    {
     "name": "stdout",
     "output_type": "stream",
     "text": [
      "Epoch 1/90\n",
      "8433/8433 [==============================] - 16s 2ms/step - loss: 1.5036 - accuracy: 0.3026 - val_loss: 1.4925 - val_accuracy: 0.3182\n",
      "Epoch 2/90\n",
      "8433/8433 [==============================] - 15s 2ms/step - loss: 1.4895 - accuracy: 0.3186 - val_loss: 1.4875 - val_accuracy: 0.3216\n",
      "Epoch 3/90\n",
      "8433/8433 [==============================] - 15s 2ms/step - loss: 1.4854 - accuracy: 0.3248 - val_loss: 1.4836 - val_accuracy: 0.3286\n",
      "Epoch 4/90\n",
      "8433/8433 [==============================] - 15s 2ms/step - loss: 1.4827 - accuracy: 0.3276 - val_loss: 1.4795 - val_accuracy: 0.3286\n",
      "Epoch 5/90\n",
      "8433/8433 [==============================] - 15s 2ms/step - loss: 1.4802 - accuracy: 0.3289 - val_loss: 1.4797 - val_accuracy: 0.3283\n",
      "Epoch 6/90\n",
      "8433/8433 [==============================] - 15s 2ms/step - loss: 1.4782 - accuracy: 0.3300 - val_loss: 1.4760 - val_accuracy: 0.3331\n",
      "Epoch 7/90\n",
      "8433/8433 [==============================] - 15s 2ms/step - loss: 1.4769 - accuracy: 0.3308 - val_loss: 1.4755 - val_accuracy: 0.3283\n",
      "Epoch 8/90\n",
      "8433/8433 [==============================] - 15s 2ms/step - loss: 1.4756 - accuracy: 0.3323 - val_loss: 1.4755 - val_accuracy: 0.3288\n",
      "Epoch 9/90\n",
      "8433/8433 [==============================] - 15s 2ms/step - loss: 1.4737 - accuracy: 0.3326 - val_loss: 1.4731 - val_accuracy: 0.3347\n",
      "Epoch 11/90\n",
      "8433/8433 [==============================] - 15s 2ms/step - loss: 1.4728 - accuracy: 0.3325 - val_loss: 1.4728 - val_accuracy: 0.3315\n",
      "Epoch 12/90\n",
      "8433/8433 [==============================] - 15s 2ms/step - loss: 1.4719 - accuracy: 0.3330 - val_loss: 1.4718 - val_accuracy: 0.3343\n",
      "Epoch 13/90\n",
      "8433/8433 [==============================] - 15s 2ms/step - loss: 1.4713 - accuracy: 0.3337 - val_loss: 1.4705 - val_accuracy: 0.3330\n",
      "Epoch 14/90\n",
      "8433/8433 [==============================] - 15s 2ms/step - loss: 1.4707 - accuracy: 0.3344 - val_loss: 1.4721 - val_accuracy: 0.3318\n",
      "Epoch 15/90\n",
      "8433/8433 [==============================] - 15s 2ms/step - loss: 1.4700 - accuracy: 0.3344 - val_loss: 1.4705 - val_accuracy: 0.3328\n",
      "Epoch 16/90\n",
      "8433/8433 [==============================] - 15s 2ms/step - loss: 1.4695 - accuracy: 0.3341 - val_loss: 1.4691 - val_accuracy: 0.3354\n",
      "Epoch 17/90\n",
      "8433/8433 [==============================] - 15s 2ms/step - loss: 1.4687 - accuracy: 0.3340 - val_loss: 1.4706 - val_accuracy: 0.3333\n",
      "Epoch 18/90\n",
      "8433/8433 [==============================] - 15s 2ms/step - loss: 1.4674 - accuracy: 0.3353 - val_loss: 1.4719 - val_accuracy: 0.3325\n",
      "Epoch 21/90\n",
      "8433/8433 [==============================] - 16s 2ms/step - loss: 1.4671 - accuracy: 0.3338 - val_loss: 1.4668 - val_accuracy: 0.3325\n",
      "Epoch 22/90\n",
      "8433/8433 [==============================] - 16s 2ms/step - loss: 1.4667 - accuracy: 0.3341 - val_loss: 1.4689 - val_accuracy: 0.3356\n",
      "Epoch 23/90\n",
      "8433/8433 [==============================] - 16s 2ms/step - loss: 1.4664 - accuracy: 0.3353 - val_loss: 1.4668 - val_accuracy: 0.3371\n",
      "Epoch 24/90\n",
      "8433/8433 [==============================] - 16s 2ms/step - loss: 1.4663 - accuracy: 0.3350 - val_loss: 1.4671 - val_accuracy: 0.3364\n",
      "Epoch 25/90\n",
      "8433/8433 [==============================] - 15s 2ms/step - loss: 1.4658 - accuracy: 0.3354 - val_loss: 1.4674 - val_accuracy: 0.3322\n",
      "Epoch 26/90\n",
      "8433/8433 [==============================] - 15s 2ms/step - loss: 1.4654 - accuracy: 0.3361 - val_loss: 1.4666 - val_accuracy: 0.3353\n",
      "Epoch 28/90\n",
      "8433/8433 [==============================] - 15s 2ms/step - loss: 1.4649 - accuracy: 0.3363 - val_loss: 1.4655 - val_accuracy: 0.3375\n",
      "Epoch 29/90\n",
      "8433/8433 [==============================] - 15s 2ms/step - loss: 1.4646 - accuracy: 0.3367 - val_loss: 1.4695 - val_accuracy: 0.3344\n",
      "Epoch 30/90\n",
      "8433/8433 [==============================] - 15s 2ms/step - loss: 1.4646 - accuracy: 0.3370 - val_loss: 1.4665 - val_accuracy: 0.3374\n",
      "Epoch 31/90\n",
      "8433/8433 [==============================] - 15s 2ms/step - loss: 1.4643 - accuracy: 0.3364 - val_loss: 1.4655 - val_accuracy: 0.3372\n",
      "Epoch 32/90\n",
      "8433/8433 [==============================] - 15s 2ms/step - loss: 1.4641 - accuracy: 0.3367 - val_loss: 1.4644 - val_accuracy: 0.3357\n",
      "Epoch 33/90\n",
      "8433/8433 [==============================] - 15s 2ms/step - loss: 1.4640 - accuracy: 0.3378 - val_loss: 1.4656 - val_accuracy: 0.3378\n",
      "Epoch 34/90\n",
      "8433/8433 [==============================] - 15s 2ms/step - loss: 1.4638 - accuracy: 0.3378 - val_loss: 1.4642 - val_accuracy: 0.3378\n",
      "Epoch 35/90\n",
      "8433/8433 [==============================] - 15s 2ms/step - loss: 1.4634 - accuracy: 0.3385 - val_loss: 1.4649 - val_accuracy: 0.3366\n",
      "Epoch 36/90\n",
      "8433/8433 [==============================] - 16s 2ms/step - loss: 1.4632 - accuracy: 0.3391 - val_loss: 1.4650 - val_accuracy: 0.3363\n",
      "Epoch 37/90\n",
      "8433/8433 [==============================] - 18s 2ms/step - loss: 1.4633 - accuracy: 0.3377 - val_loss: 1.4638 - val_accuracy: 0.3378\n",
      "Epoch 38/90\n",
      "8433/8433 [==============================] - 18s 2ms/step - loss: 1.4632 - accuracy: 0.3383 - val_loss: 1.4656 - val_accuracy: 0.3357\n",
      "Epoch 39/90\n",
      "8433/8433 [==============================] - 17s 2ms/step - loss: 1.4630 - accuracy: 0.3377 - val_loss: 1.4648 - val_accuracy: 0.3366\n",
      "Epoch 40/90\n",
      "8433/8433 [==============================] - 16s 2ms/step - loss: 1.4626 - accuracy: 0.3387 - val_loss: 1.4654 - val_accuracy: 0.3357\n",
      "Epoch 41/90\n",
      "8433/8433 [==============================] - 16s 2ms/step - loss: 1.4625 - accuracy: 0.3383 - val_loss: 1.4636 - val_accuracy: 0.3356\n",
      "Epoch 42/90\n",
      "8433/8433 [==============================] - 16s 2ms/step - loss: 1.4624 - accuracy: 0.3391 - val_loss: 1.4635 - val_accuracy: 0.3389\n",
      "Epoch 43/90\n",
      "8433/8433 [==============================] - 16s 2ms/step - loss: 1.4625 - accuracy: 0.3391 - val_loss: 1.4638 - val_accuracy: 0.3361\n",
      "Epoch 44/90\n",
      "8433/8433 [==============================] - 15s 2ms/step - loss: 1.4622 - accuracy: 0.3396 - val_loss: 1.4637 - val_accuracy: 0.3396\n",
      "Epoch 45/90\n",
      "8433/8433 [==============================] - 15s 2ms/step - loss: 1.4622 - accuracy: 0.3401 - val_loss: 1.4637 - val_accuracy: 0.3380\n",
      "Epoch 46/90\n",
      "8433/8433 [==============================] - 15s 2ms/step - loss: 1.4620 - accuracy: 0.3397 - val_loss: 1.4633 - val_accuracy: 0.3379\n",
      "Epoch 47/90\n",
      "8433/8433 [==============================] - 15s 2ms/step - loss: 1.4621 - accuracy: 0.3393 - val_loss: 1.4644 - val_accuracy: 0.3378\n",
      "Epoch 48/90\n",
      "8433/8433 [==============================] - 15s 2ms/step - loss: 1.4618 - accuracy: 0.3397 - val_loss: 1.4640 - val_accuracy: 0.3381\n",
      "Epoch 49/90\n",
      "8433/8433 [==============================] - 15s 2ms/step - loss: 1.4617 - accuracy: 0.3391 - val_loss: 1.4655 - val_accuracy: 0.3377\n",
      "Epoch 50/90\n",
      "8433/8433 [==============================] - 15s 2ms/step - loss: 1.4615 - accuracy: 0.3398 - val_loss: 1.4636 - val_accuracy: 0.3394\n",
      "Epoch 51/90\n",
      "8433/8433 [==============================] - 15s 2ms/step - loss: 1.4615 - accuracy: 0.3404 - val_loss: 1.4651 - val_accuracy: 0.3368\n",
      "Epoch 52/90\n",
      "8433/8433 [==============================] - 15s 2ms/step - loss: 1.4614 - accuracy: 0.3403 - val_loss: 1.4630 - val_accuracy: 0.3378\n",
      "Epoch 53/90\n",
      "8433/8433 [==============================] - 15s 2ms/step - loss: 1.4615 - accuracy: 0.3392 - val_loss: 1.4645 - val_accuracy: 0.3380\n",
      "Epoch 55/90\n",
      "8433/8433 [==============================] - 15s 2ms/step - loss: 1.4613 - accuracy: 0.3403 - val_loss: 1.4631 - val_accuracy: 0.3364\n",
      "Epoch 56/90\n",
      "8433/8433 [==============================] - 15s 2ms/step - loss: 1.4614 - accuracy: 0.3388 - val_loss: 1.4632 - val_accuracy: 0.3396\n",
      "Epoch 57/90\n",
      "8433/8433 [==============================] - 15s 2ms/step - loss: 1.4610 - accuracy: 0.3404 - val_loss: 1.4630 - val_accuracy: 0.3394\n",
      "Epoch 58/90\n",
      "8433/8433 [==============================] - 15s 2ms/step - loss: 1.4611 - accuracy: 0.3406 - val_loss: 1.4635 - val_accuracy: 0.3389\n",
      "Epoch 59/90\n",
      "8433/8433 [==============================] - 15s 2ms/step - loss: 1.4609 - accuracy: 0.3404 - val_loss: 1.4628 - val_accuracy: 0.3400\n",
      "Epoch 60/90\n",
      "8433/8433 [==============================] - 16s 2ms/step - loss: 1.4608 - accuracy: 0.3408 - val_loss: 1.4639 - val_accuracy: 0.3370\n",
      "Epoch 61/90\n",
      "8433/8433 [==============================] - 17s 2ms/step - loss: 1.4608 - accuracy: 0.3395 - val_loss: 1.4650 - val_accuracy: 0.3354\n",
      "Epoch 62/90\n"
     ]
    },
    {
     "name": "stdout",
     "output_type": "stream",
     "text": [
      "8433/8433 [==============================] - 16s 2ms/step - loss: 1.4608 - accuracy: 0.3411 - val_loss: 1.4631 - val_accuracy: 0.3366\n",
      "Epoch 63/90\n",
      "8433/8433 [==============================] - 15s 2ms/step - loss: 1.4606 - accuracy: 0.3410 - val_loss: 1.4628 - val_accuracy: 0.3398\n",
      "Epoch 64/90\n",
      "8433/8433 [==============================] - 15s 2ms/step - loss: 1.4610 - accuracy: 0.3405 - val_loss: 1.4650 - val_accuracy: 0.3379\n",
      "Epoch 65/90\n",
      "8433/8433 [==============================] - 15s 2ms/step - loss: 1.4606 - accuracy: 0.3405 - val_loss: 1.4631 - val_accuracy: 0.3381\n",
      "Epoch 66/90\n",
      "8433/8433 [==============================] - 15s 2ms/step - loss: 1.4606 - accuracy: 0.3399 - val_loss: 1.4632 - val_accuracy: 0.3387\n",
      "Epoch 67/90\n",
      "8433/8433 [==============================] - 15s 2ms/step - loss: 1.4605 - accuracy: 0.3404 - val_loss: 1.4639 - val_accuracy: 0.3383\n",
      "Epoch 68/90\n",
      "8433/8433 [==============================] - 15s 2ms/step - loss: 1.4606 - accuracy: 0.3411 - val_loss: 1.4638 - val_accuracy: 0.3358\n",
      "Epoch 69/90\n",
      "8433/8433 [==============================] - 15s 2ms/step - loss: 1.4606 - accuracy: 0.3407 - val_loss: 1.4627 - val_accuracy: 0.3374\n",
      "Epoch 70/90\n",
      "8433/8433 [==============================] - 15s 2ms/step - loss: 1.4603 - accuracy: 0.3401 - val_loss: 1.4644 - val_accuracy: 0.3375\n",
      "Epoch 72/90\n",
      "8433/8433 [==============================] - 15s 2ms/step - loss: 1.4603 - accuracy: 0.3402 - val_loss: 1.4630 - val_accuracy: 0.3371\n",
      "Epoch 73/90\n",
      "8433/8433 [==============================] - 15s 2ms/step - loss: 1.4602 - accuracy: 0.3399 - val_loss: 1.4634 - val_accuracy: 0.3363\n",
      "Epoch 74/90\n",
      "8433/8433 [==============================] - 15s 2ms/step - loss: 1.4603 - accuracy: 0.3404 - val_loss: 1.4621 - val_accuracy: 0.3387\n",
      "Epoch 75/90\n",
      "8433/8433 [==============================] - 15s 2ms/step - loss: 1.4601 - accuracy: 0.3414 - val_loss: 1.4634 - val_accuracy: 0.3395\n",
      "Epoch 76/90\n",
      "8433/8433 [==============================] - 16s 2ms/step - loss: 1.4599 - accuracy: 0.3407 - val_loss: 1.4614 - val_accuracy: 0.3413\n",
      "Epoch 77/90\n",
      "8433/8433 [==============================] - 16s 2ms/step - loss: 1.4599 - accuracy: 0.3405 - val_loss: 1.4624 - val_accuracy: 0.3396\n",
      "Epoch 78/90\n",
      "8433/8433 [==============================] - 16s 2ms/step - loss: 1.4597 - accuracy: 0.3411 - val_loss: 1.4628 - val_accuracy: 0.3376\n",
      "Epoch 79/90\n",
      "8433/8433 [==============================] - 15s 2ms/step - loss: 1.4599 - accuracy: 0.3406 - val_loss: 1.4639 - val_accuracy: 0.3369\n",
      "Epoch 80/90\n",
      "8433/8433 [==============================] - 15s 2ms/step - loss: 1.4600 - accuracy: 0.3409 - val_loss: 1.4621 - val_accuracy: 0.3390\n",
      "Epoch 81/90\n",
      "8433/8433 [==============================] - 15s 2ms/step - loss: 1.4595 - accuracy: 0.3419 - val_loss: 1.4641 - val_accuracy: 0.3384\n",
      "Epoch 82/90\n",
      "8433/8433 [==============================] - 15s 2ms/step - loss: 1.4597 - accuracy: 0.3402 - val_loss: 1.4655 - val_accuracy: 0.3375\n",
      "Epoch 83/90\n",
      "8433/8433 [==============================] - 15s 2ms/step - loss: 1.4596 - accuracy: 0.3410 - val_loss: 1.4624 - val_accuracy: 0.3385\n",
      "Epoch 84/90\n",
      "8433/8433 [==============================] - 15s 2ms/step - loss: 1.4597 - accuracy: 0.3424 - val_loss: 1.4630 - val_accuracy: 0.3399\n",
      "Epoch 85/90\n",
      "8433/8433 [==============================] - 15s 2ms/step - loss: 1.4595 - accuracy: 0.3413 - val_loss: 1.4626 - val_accuracy: 0.3398\n",
      "Epoch 86/90\n",
      "8433/8433 [==============================] - 15s 2ms/step - loss: 1.4596 - accuracy: 0.3418 - val_loss: 1.4624 - val_accuracy: 0.3409\n",
      "Epoch 87/90\n",
      "8433/8433 [==============================] - 15s 2ms/step - loss: 1.4594 - accuracy: 0.3419 - val_loss: 1.4629 - val_accuracy: 0.3396\n",
      "Epoch 89/90\n",
      "8433/8433 [==============================] - 15s 2ms/step - loss: 1.4596 - accuracy: 0.3413 - val_loss: 1.4631 - val_accuracy: 0.3418\n",
      "Epoch 90/90\n",
      "8433/8433 [==============================] - 15s 2ms/step - loss: 1.4592 - accuracy: 0.3416 - val_loss: 1.4645 - val_accuracy: 0.3381\n"
     ]
    }
   ],
   "source": [
    "#fit the model with data\n",
    "history = model.fit(x=X_train,\n",
    "          y=y_train, epochs=90,\n",
    "          validation_data=(X_test, y_test), verbose=1\n",
    "          )"
   ]
  },
  {
   "cell_type": "code",
   "execution_count": 24,
   "id": "0d6d668e",
   "metadata": {},
   "outputs": [
    {
     "data": {
      "text/plain": [
       "<Axes: >"
      ]
     },
     "execution_count": 24,
     "metadata": {},
     "output_type": "execute_result"
    },
    {
     "data": {
      "image/png": "[encoded data removed]",
      "text/plain": [
       "<Figure size 432x288 with 1 Axes>"
      ]
     },
     "metadata": {
      "needs_background": "light"
     },
     "output_type": "display_data"
    }
   ],
   "source": [
    "losses = {'loss':history.history['loss'],'val_loss':history.history['val_loss']}\n",
    "losses = pd.DataFrame(losses)\n",
    "losses.plot()"
   ]
  },
  {
   "cell_type": "code",
   "execution_count": 25,
   "id": "b5b895eb",
   "metadata": {},
   "outputs": [],
   "source": [
    "#define an earlystopper function\n",
    "early_stop = EarlyStopping(monitor='val_loss', mode='min', verbose=1, patience=10)"
   ]
  },
  {
   "cell_type": "code",
   "execution_count": 26,
   "id": "9149109b",
   "metadata": {},
   "outputs": [],
   "source": [
    "#create another model\n",
    "model = Sequential()\n",
    "\n",
    "#20 neurons first layer because 20 inputs\n",
    "model.add(Dense(20,activation='relu'))\n",
    "\n",
    "model.add(Dense(10,activation='relu'))\n",
    "model.add(Dense(10,activation='relu'))\n",
    "\n",
    "#5 neurons for last layer because 5 classes\n",
    "model.add(Dense(5,activation='softmax'))\n",
    "\n",
    "model.compile(loss='sparse_categorical_crossentropy', optimizer='adam', metrics=['accuracy'])"
   ]
  },
  {
   "cell_type": "code",
   "execution_count": 27,
   "id": "b388c077",
   "metadata": {},
   "outputs": [
    {
     "name": "stdout",
     "output_type": "stream",
     "text": [
      "Epoch 1/300\n",
      "8433/8433 [==============================] - 17s 2ms/step - loss: 1.5022 - accuracy: 0.3067 - val_loss: 1.4912 - val_accuracy: 0.3170\n",
      "Epoch 2/300\n",
      "8433/8433 [==============================] - 16s 2ms/step - loss: 1.4914 - accuracy: 0.3160 - val_loss: 1.4893 - val_accuracy: 0.3219\n",
      "Epoch 3/300\n",
      "8433/8433 [==============================] - 17s 2ms/step - loss: 1.4872 - accuracy: 0.3231 - val_loss: 1.4844 - val_accuracy: 0.3271\n",
      "Epoch 4/300\n",
      "8433/8433 [==============================] - 17s 2ms/step - loss: 1.4835 - accuracy: 0.3265 - val_loss: 1.4810 - val_accuracy: 0.3310\n",
      "Epoch 5/300\n",
      "8433/8433 [==============================] - 18s 2ms/step - loss: 1.4795 - accuracy: 0.3308 - val_loss: 1.4771 - val_accuracy: 0.3336\n",
      "Epoch 7/300\n",
      "8433/8433 [==============================] - 19s 2ms/step - loss: 1.4786 - accuracy: 0.3312 - val_loss: 1.4797 - val_accuracy: 0.3297\n",
      "Epoch 8/300\n",
      "8433/8433 [==============================] - 20s 2ms/step - loss: 1.4774 - accuracy: 0.3329 - val_loss: 1.4774 - val_accuracy: 0.3299\n",
      "Epoch 9/300\n",
      "8433/8433 [==============================] - 17s 2ms/step - loss: 1.4766 - accuracy: 0.3317 - val_loss: 1.4778 - val_accuracy: 0.3284\n",
      "Epoch 10/300\n",
      "8433/8433 [==============================] - 16s 2ms/step - loss: 1.4758 - accuracy: 0.3329 - val_loss: 1.4776 - val_accuracy: 0.3316\n",
      "Epoch 11/300\n",
      "8433/8433 [==============================] - 19s 2ms/step - loss: 1.4750 - accuracy: 0.3326 - val_loss: 1.4749 - val_accuracy: 0.3332\n",
      "Epoch 12/300\n",
      "8433/8433 [==============================] - 16s 2ms/step - loss: 1.4739 - accuracy: 0.3337 - val_loss: 1.4738 - val_accuracy: 0.3351\n",
      "Epoch 13/300\n",
      "8433/8433 [==============================] - 17s 2ms/step - loss: 1.4729 - accuracy: 0.3347 - val_loss: 1.4728 - val_accuracy: 0.3340\n",
      "Epoch 14/300\n",
      "8433/8433 [==============================] - 16s 2ms/step - loss: 1.4712 - accuracy: 0.3364 - val_loss: 1.4734 - val_accuracy: 0.3337\n",
      "Epoch 16/300\n",
      "8433/8433 [==============================] - 16s 2ms/step - loss: 1.4700 - accuracy: 0.3359 - val_loss: 1.4700 - val_accuracy: 0.3367\n",
      "Epoch 18/300\n",
      "8433/8433 [==============================] - 16s 2ms/step - loss: 1.4696 - accuracy: 0.3360 - val_loss: 1.4718 - val_accuracy: 0.3340\n",
      "Epoch 19/300\n",
      "8433/8433 [==============================] - 16s 2ms/step - loss: 1.4692 - accuracy: 0.3358 - val_loss: 1.4695 - val_accuracy: 0.3374\n",
      "Epoch 20/300\n",
      "8433/8433 [==============================] - 16s 2ms/step - loss: 1.4687 - accuracy: 0.3361 - val_loss: 1.4704 - val_accuracy: 0.3359\n",
      "Epoch 21/300\n",
      "8433/8433 [==============================] - 17s 2ms/step - loss: 1.4684 - accuracy: 0.3364 - val_loss: 1.4748 - val_accuracy: 0.3350\n",
      "Epoch 22/300\n",
      "8433/8433 [==============================] - 16s 2ms/step - loss: 1.4681 - accuracy: 0.3366 - val_loss: 1.4700 - val_accuracy: 0.3378\n",
      "Epoch 23/300\n",
      "8433/8433 [==============================] - 17s 2ms/step - loss: 1.4682 - accuracy: 0.3366 - val_loss: 1.4685 - val_accuracy: 0.3353\n",
      "Epoch 24/300\n",
      "8433/8433 [==============================] - 16s 2ms/step - loss: 1.4680 - accuracy: 0.3366 - val_loss: 1.4677 - val_accuracy: 0.3389\n",
      "Epoch 25/300\n",
      "8433/8433 [==============================] - 16s 2ms/step - loss: 1.4676 - accuracy: 0.3373 - val_loss: 1.4689 - val_accuracy: 0.3378\n",
      "Epoch 26/300\n",
      "8433/8433 [==============================] - 16s 2ms/step - loss: 1.4674 - accuracy: 0.3377 - val_loss: 1.4676 - val_accuracy: 0.3375\n",
      "Epoch 27/300\n",
      "8433/8433 [==============================] - 15s 2ms/step - loss: 1.4674 - accuracy: 0.3369 - val_loss: 1.4692 - val_accuracy: 0.3372\n",
      "Epoch 28/300\n",
      "8433/8433 [==============================] - 16s 2ms/step - loss: 1.4672 - accuracy: 0.3381 - val_loss: 1.4694 - val_accuracy: 0.3348\n",
      "Epoch 29/300\n",
      "8433/8433 [==============================] - 15s 2ms/step - loss: 1.4670 - accuracy: 0.3369 - val_loss: 1.4678 - val_accuracy: 0.3354\n",
      "Epoch 30/300\n",
      "8433/8433 [==============================] - 16s 2ms/step - loss: 1.4669 - accuracy: 0.3373 - val_loss: 1.4723 - val_accuracy: 0.3330\n",
      "Epoch 31/300\n",
      "8433/8433 [==============================] - 16s 2ms/step - loss: 1.4667 - accuracy: 0.3366 - val_loss: 1.4685 - val_accuracy: 0.3353\n",
      "Epoch 32/300\n",
      "8433/8433 [==============================] - 17s 2ms/step - loss: 1.4663 - accuracy: 0.3371 - val_loss: 1.4668 - val_accuracy: 0.3372\n",
      "Epoch 33/300\n",
      "8433/8433 [==============================] - 16s 2ms/step - loss: 1.4660 - accuracy: 0.3376 - val_loss: 1.4683 - val_accuracy: 0.3378\n",
      "Epoch 34/300\n",
      "8433/8433 [==============================] - 17s 2ms/step - loss: 1.4659 - accuracy: 0.3384 - val_loss: 1.4673 - val_accuracy: 0.3358\n",
      "Epoch 35/300\n",
      "8433/8433 [==============================] - 17s 2ms/step - loss: 1.4657 - accuracy: 0.3379 - val_loss: 1.4723 - val_accuracy: 0.3331\n",
      "Epoch 36/300\n",
      "8433/8433 [==============================] - 19s 2ms/step - loss: 1.4655 - accuracy: 0.3385 - val_loss: 1.4680 - val_accuracy: 0.3345\n",
      "Epoch 37/300\n",
      "8433/8433 [==============================] - 18s 2ms/step - loss: 1.4656 - accuracy: 0.3378 - val_loss: 1.4704 - val_accuracy: 0.3291\n",
      "Epoch 38/300\n",
      "8433/8433 [==============================] - 18s 2ms/step - loss: 1.4651 - accuracy: 0.3381 - val_loss: 1.4676 - val_accuracy: 0.3363\n",
      "Epoch 39/300\n",
      "8433/8433 [==============================] - 17s 2ms/step - loss: 1.4651 - accuracy: 0.3374 - val_loss: 1.4666 - val_accuracy: 0.3385\n",
      "Epoch 40/300\n",
      "8433/8433 [==============================] - 17s 2ms/step - loss: 1.4649 - accuracy: 0.3390 - val_loss: 1.4670 - val_accuracy: 0.3369\n",
      "Epoch 41/300\n",
      "8433/8433 [==============================] - 16s 2ms/step - loss: 1.4646 - accuracy: 0.3388 - val_loss: 1.4669 - val_accuracy: 0.3356\n",
      "Epoch 43/300\n",
      "8433/8433 [==============================] - 16s 2ms/step - loss: 1.4643 - accuracy: 0.3380 - val_loss: 1.4677 - val_accuracy: 0.3366\n",
      "Epoch 45/300\n",
      "8433/8433 [==============================] - 16s 2ms/step - loss: 1.4642 - accuracy: 0.3378 - val_loss: 1.4687 - val_accuracy: 0.3351\n",
      "Epoch 47/300\n",
      "8433/8433 [==============================] - 16s 2ms/step - loss: 1.4642 - accuracy: 0.3386 - val_loss: 1.4677 - val_accuracy: 0.3368\n",
      "Epoch 49/300\n",
      "8433/8433 [==============================] - 19s 2ms/step - loss: 1.4638 - accuracy: 0.3396 - val_loss: 1.4658 - val_accuracy: 0.3358\n",
      "Epoch 51/300\n",
      "8433/8433 [==============================] - 20s 2ms/step - loss: 1.4638 - accuracy: 0.3391 - val_loss: 1.4672 - val_accuracy: 0.3372\n",
      "Epoch 52/300\n",
      "8433/8433 [==============================] - 21s 3ms/step - loss: 1.4639 - accuracy: 0.3389 - val_loss: 1.4662 - val_accuracy: 0.3380\n",
      "Epoch 53/300\n",
      "8433/8433 [==============================] - 18s 2ms/step - loss: 1.4635 - accuracy: 0.3391 - val_loss: 1.4650 - val_accuracy: 0.3391\n",
      "Epoch 54/300\n",
      "8433/8433 [==============================] - 20s 2ms/step - loss: 1.4635 - accuracy: 0.3395 - val_loss: 1.4658 - val_accuracy: 0.3383\n",
      "Epoch 55/300\n",
      "8433/8433 [==============================] - 19s 2ms/step - loss: 1.4633 - accuracy: 0.3396 - val_loss: 1.4673 - val_accuracy: 0.3365\n",
      "Epoch 56/300\n",
      "8433/8433 [==============================] - 17s 2ms/step - loss: 1.4633 - accuracy: 0.3392 - val_loss: 1.4669 - val_accuracy: 0.3396\n",
      "Epoch 57/300\n",
      "8433/8433 [==============================] - 16s 2ms/step - loss: 1.4631 - accuracy: 0.3397 - val_loss: 1.4651 - val_accuracy: 0.3376\n",
      "Epoch 57: early stopping\n"
     ]
    }
   ],
   "source": [
    "#add an early stop as a callback\n",
    "#this will stop the model fitting  when the validation loss is higher than the training loss after an x amount of epochs (this case 25)\n",
    "history = model.fit(x=X_train,\n",
    "          y=y_train, epochs=300,\n",
    "          validation_data=(X_test, y_test), verbose=1,\n",
    "          callbacks=[early_stop]\n",
    "          )"
   ]
  },
  {
   "cell_type": "code",
   "execution_count": 28,
   "id": "4a9c46a3",
   "metadata": {},
   "outputs": [],
   "source": [
    "import matplotlib.pyplot as plt"
   ]
  },
  {
   "cell_type": "code",
   "execution_count": 29,
   "id": "ae6d2466",
   "metadata": {},
   "outputs": [
    {
     "data": {
      "image/png": "[encoded data removed]",
      "text/plain": [
       "<Figure size 1008x720 with 2 Axes>"
      ]
     },
     "metadata": {
      "needs_background": "light"
     },
     "output_type": "display_data"
    },
    {
     "data": {
      "text/plain": [
       "<Figure size 432x288 with 0 Axes>"
      ]
     },
     "metadata": {},
     "output_type": "display_data"
    }
   ],
   "source": [
    "#plot the loss and validation loss of the model\n",
    "plt.figure(figsize=(14,10))\n",
    "plt.subplot(211)\n",
    "plt.title('Loss')\n",
    "plt.plot(history.history['loss'], label='train')\n",
    "plt.plot(history.history['val_loss'], label='test')\n",
    "plt.legend()\n",
    "plt.tight_layout()\n",
    "# plot accuracy and validation accuracy during training\n",
    "plt.subplot(212)\n",
    "plt.title('Accuracy')\n",
    "plt.plot(history.history['accuracy'], label='train')\n",
    "plt.plot(history.history['val_accuracy'], label='test')\n",
    "plt.legend()\n",
    "plt.show()\n",
    "plt.tight_layout()"
   ]
  },
  {
   "cell_type": "code",
   "execution_count": 30,
   "id": "721e6e2a",
   "metadata": {},
   "outputs": [
    {
     "name": "stdout",
     "output_type": "stream",
     "text": [
      "Train Accuracy: 34.04, Test Accuracy: 33.76\n",
      "Train Loss: 146.17, Test Loss: 146.51\n"
     ]
    }
   ],
   "source": [
    "##evaluate the model and print out the accuracy and loss\n",
    "trainLoss, trainAcc = model.evaluate(X_train, y_train, verbose=0)\n",
    "testLoss, testAcc = model.evaluate(X_test, y_test, verbose=0)\n",
    "\n",
    "print('Train Accuracy: %.2f, Test Accuracy: %.2f' % (trainAcc*100, testAcc*100))\n",
    "print('Train Loss: %.2f, Test Loss: %.2f' % (trainLoss*100, testLoss*100))\n"
   ]
  },
  {
   "cell_type": "code",
   "execution_count": 31,
   "id": "ce190d39",
   "metadata": {},
   "outputs": [
    {
     "name": "stdout",
     "output_type": "stream",
     "text": [
      "2109/2109 [==============================] - 3s 1ms/step\n"
     ]
    }
   ],
   "source": [
    "#make predictions --> currently a probability\n",
    "yProbs = model.predict(X_test)\n",
    "\n",
    "#turn the yprobs into class labels using argmax to round the value to whole num\n",
    "yPreds = yProbs.argmax(axis=1)"
   ]
  },
  {
   "cell_type": "code",
   "execution_count": 34,
   "id": "4ab47410",
   "metadata": {},
   "outputs": [],
   "source": [
    "from sklearn.metrics import confusion_matrix,classification_report,ConfusionMatrixDisplay,roc_curve,roc_auc_score,recall_score,roc_auc_score\n"
   ]
  },
  {
   "cell_type": "code",
   "execution_count": 35,
   "id": "e7a4c5cb",
   "metadata": {},
   "outputs": [
    {
     "name": "stdout",
     "output_type": "stream",
     "text": [
      "              precision    recall  f1-score   support\n",
      "\n",
      "           0       0.29      0.28      0.28     13008\n",
      "           1       0.46      0.71      0.56     11724\n",
      "           2       0.32      0.05      0.08     13554\n",
      "           3       0.28      0.38      0.32     13749\n",
      "           4       0.32      0.32      0.32     15423\n",
      "\n",
      "    accuracy                           0.34     67458\n",
      "   macro avg       0.33      0.35      0.31     67458\n",
      "weighted avg       0.33      0.34      0.31     67458\n",
      "\n"
     ]
    },
    {
     "data": {
      "text/plain": [
       "<sklearn.metrics._plot.confusion_matrix.ConfusionMatrixDisplay at 0x7f25336e9c70>"
      ]
     },
     "execution_count": 35,
     "metadata": {},
     "output_type": "execute_result"
    },
    {
     "data": {
      "image/png": "[encoded data removed]",
      "text/plain": [
       "<Figure size 432x288 with 2 Axes>"
      ]
     },
     "metadata": {
      "needs_background": "light"
     },
     "output_type": "display_data"
    }
   ],
   "source": [
    "#print out a classification report\n",
    "print(classification_report(y_test,yPreds))\n",
    "\n",
    "conMat = confusion_matrix(y_test,yPreds)\n",
    "\n",
    "#make a confusion matrix display\n",
    "disp = ConfusionMatrixDisplay(confusion_matrix=conMat,display_labels=['Grade A+','Grade A','Grade B+','Grade B','Grade C'])\n",
    "disp.plot()"
   ]
  },
  {
   "cell_type": "code",
   "execution_count": 36,
   "id": "879e17cc",
   "metadata": {},
   "outputs": [
    {
     "name": "stdout",
     "output_type": "stream",
     "text": [
      "              precision    recall  f1-score   support\n",
      "\n",
      "           0       0.29      0.28      0.28     13008\n",
      "           1       0.46      0.71      0.56     11724\n",
      "           2       0.32      0.05      0.08     13554\n",
      "           3       0.28      0.38      0.32     13749\n",
      "           4       0.32      0.32      0.32     15423\n",
      "\n",
      "    accuracy                           0.34     67458\n",
      "   macro avg       0.33      0.35      0.31     67458\n",
      "weighted avg       0.33      0.34      0.31     67458\n",
      "\n",
      "2109/2109 [==============================] - 3s 1ms/step\n",
      "ROC AUC:  0.6633154798396751\n"
     ]
    },
    {
     "data": {
      "text/plain": [
       "<sklearn.metrics._plot.confusion_matrix.ConfusionMatrixDisplay at 0x7f2533532460>"
      ]
     },
     "execution_count": 36,
     "metadata": {},
     "output_type": "execute_result"
    },
    {
     "data": {
      "image/png": "[encoded data removed]",
      "text/plain": [
       "<Figure size 432x288 with 2 Axes>"
      ]
     },
     "metadata": {
      "needs_background": "light"
     },
     "output_type": "display_data"
    }
   ],
   "source": [
    "#print out a classification report\n",
    "print(classification_report(y_test,yPreds))\n",
    "\n",
    "#print ROC AUC\n",
    "roc_auc = roc_auc_score(y_test, model.predict(X_test), multi_class='ovr')\n",
    "print('ROC AUC: ', roc_auc)\n",
    "\n",
    "conMat = confusion_matrix(y_test,yPreds)\n",
    "\n",
    "#make a confusion matrix display\n",
    "disp = ConfusionMatrixDisplay(confusion_matrix=conMat,display_labels=['Grade A+','Grade A','Grade B+','Grade B','Grade C'])\n",
    "disp.plot()"
   ]
  },
  {
   "cell_type": "code",
   "execution_count": 37,
   "id": "13fdd8a8",
   "metadata": {},
   "outputs": [
    {
     "name": "stdout",
     "output_type": "stream",
     "text": [
      "2109/2109 [==============================] - 3s 1ms/step\n"
     ]
    },
    {
     "data": {
      "image/png": "[encoded data removed]",
      "text/plain": [
       "<Figure size 576x432 with 1 Axes>"
      ]
     },
     "metadata": {
      "needs_background": "light"
     },
     "output_type": "display_data"
    }
   ],
   "source": [
    "#plot roc curve of the model\n",
    "y_test = pd.get_dummies(y_test)\n",
    "\n",
    "class_probabilities = model.predict(X_test)\n",
    "plt.figure(figsize=(8, 6))\n",
    "rank = ['dummy','A+','A','B+','B','C']\n",
    "for i in range(1, class_probabilities.shape[1]+1):\n",
    "    fpr, tpr, _ = roc_curve(y_test.values[:, i-1], class_probabilities[:, i-1])\n",
    "    roc_auc = roc_auc_score(y_test.values[:, i-1], class_probabilities[:, i-1])\n",
    "    plt.plot(fpr, tpr, label='Grade {} (AUC = {:.2f})'.format(rank[i], roc_auc))\n",
    "\n",
    "plt.plot([0, 1], [0, 1], linestyle='--', color='r', label='Random')\n",
    "plt.xlim([0.0, 1.0])\n",
    "plt.ylim([0.0, 1.05])\n",
    "plt.xlabel('False Positive Rate')\n",
    "plt.ylabel('True Positive Rate')\n",
    "plt.title('Receiver Operating Characteristic')\n",
    "plt.legend(loc='lower right')\n",
    "plt.grid(True)\n",
    "sns.despine()\n",
    "plt.show()"
   ]
  },
  {
   "cell_type": "code",
   "execution_count": 29,
   "id": "c2269b4f",
   "metadata": {},
   "outputs": [
    {
     "name": "stdout",
     "output_type": "stream",
     "text": [
      "Name: urllib3\n",
      "Version: 2.2.1\n",
      "Summary: HTTP library with thread-safe connection pooling, file post, and more.\n",
      "Home-page: None\n",
      "Author: None\n",
      "Author-email: Andrey Petrov <andrey.petrov@shazow.net>\n",
      "License: None\n",
      "Location: /tmp/pip_packages\n",
      "Requires: \n",
      "Required-by: requests, docker, databricks-cli, refractml, snowflake-connector-python\n",
      "Note: you may need to restart the kernel to use updated packages.\n"
     ]
    }
   ],
   "source": [
    "pip show urllib3"
   ]
  },
  {
   "cell_type": "code",
   "execution_count": 30,
   "id": "e865a280",
   "metadata": {},
   "outputs": [
    {
     "name": "stdout",
     "output_type": "stream",
     "text": [
      "\u001b[33mWARNING: The directory '/home/mosaic-ai/.cache/pip/http' or its parent directory is not owned by the current user and the cache has been disabled. Please check the permissions and owner of that directory. If executing pip with sudo, you may want sudo's -H flag.\u001b[0m\n",
      "Uninstalling urllib3-2.2.1:\n",
      "  Successfully uninstalled urllib3-2.2.1\n",
      "\u001b[33mWARNING: The directory '/home/mosaic-ai/.cache/pip/http' or its parent directory is not owned by the current user and the cache has been disabled. Please check the permissions and owner of that directory. If executing pip with sudo, you may want sudo's -H flag.\u001b[0m\n",
      "\u001b[33mWARNING: The directory '/home/mosaic-ai/.cache/pip' or its parent directory is not owned by the current user and caching wheels has been disabled. check the permissions and owner of that directory. If executing pip with sudo, you may want sudo's -H flag.\u001b[0m\n",
      "Collecting urllib3==1.26.15\n",
      "\u001b[?25l  Downloading https://files.pythonhosted.org/packages/7b/f5/890a0baca17a61c1f92f72b81d3c31523c99bec609e60c292ea55b387ae8/urllib3-1.26.15-py2.py3-none-any.whl (140kB)\n",
      "\u001b[K     |████████████████████████████████| 143kB 1.5MB/s eta 0:00:01\n",
      "\u001b[31mERROR: mlflow 2.6.0 has requirement pytz<2024, but you'll have pytz 2024.1 which is incompatible.\u001b[0m\n",
      "\u001b[31mERROR: refractml 1.0.3 has requirement cloudpickle==1.6.0, but you'll have cloudpickle 2.2.1 which is incompatible.\u001b[0m\n",
      "\u001b[31mERROR: refractml 1.0.3 has requirement PyYAML==6.0, but you'll have pyyaml 6.0.1 which is incompatible.\u001b[0m\n",
      "\u001b[31mERROR: mosaic-ai-client 1.0.0 has requirement matplotlib==3.1.1, but you'll have matplotlib 3.7.5 which is incompatible.\u001b[0m\n",
      "\u001b[31mERROR: jupyterlab-server 2.25.4 has requirement jsonschema>=4.18.0, but you'll have jsonschema 3.2.0 which is incompatible.\u001b[0m\n",
      "\u001b[?25hInstalling collected packages: urllib3\n",
      "Successfully installed urllib3-1.26.15\n",
      "\u001b[33mWARNING: Target directory /tmp/pip_packages/urllib3-1.26.15.dist-info already exists. Specify --upgrade to force replacement.\u001b[0m\n",
      "\u001b[33mWARNING: You are using pip version 19.3.1; however, version 24.0 is available.\n",
      "You should consider upgrading via the 'pip install --upgrade pip' command.\u001b[0m\n"
     ]
    }
   ],
   "source": [
    "!pip uninstall urllib3 -y\n",
    "!pip install urllib3==1.26.15"
   ]
  },
  {
   "cell_type": "code",
   "execution_count": 38,
   "id": "1c8954e4",
   "metadata": {},
   "outputs": [],
   "source": [
    "from refractml import *"
   ]
  },
  {
   "cell_type": "code",
   "execution_count": 39,
   "id": "7499a300",
   "metadata": {},
   "outputs": [],
   "source": [
    "from refractml.constants import MLModelFlavours\n",
    "import requests"
   ]
  },
  {
   "cell_type": "code",
   "execution_count": null,
   "id": "6d8b3635",
   "metadata": {},
   "outputs": [],
   "source": []
  },
  {
   "cell_type": "code",
   "execution_count": null,
   "id": "74f6ec4d",
   "metadata": {},
   "outputs": [],
   "source": []
  },
  {
   "cell_type": "code",
   "execution_count": 50,
   "id": "9148fdec",
   "metadata": {},
   "outputs": [
    {
     "data": {
      "text/plain": [
       "['LOCATION_TYPE',\n",
       " 'WH_CAPACITY_SIZE',\n",
       " 'ZONE',\n",
       " 'WH_REGIONAL_ZONE',\n",
       " 'REFILL_REQUESTS',\n",
       " 'TRANSPORT_ISSUE',\n",
       " 'NO_OF_COMPETITOR',\n",
       " 'NO_OF_RETAILERS',\n",
       " 'WAREHOUSE_OWNERSHIP',\n",
       " 'NUMBER_OF_DISTRIBUTORS',\n",
       " 'FLOOD_IMPACTED',\n",
       " 'FLOOD_PROOF',\n",
       " 'ELECTRIC_SUPPLY',\n",
       " 'DIST_FROM_HUB',\n",
       " 'WORKERS_NUM',\n",
       " 'STORAGE_ISSUE_REPORTED',\n",
       " 'TEMP_REG_MACH',\n",
       " 'APPROVED_WH_GOVT_CERTIFICATE',\n",
       " 'WH_BREAKDOWN',\n",
       " 'GOVT_CHECK',\n",
       " 'PRODUCT_WG_TON']"
      ]
     },
     "execution_count": 50,
     "metadata": {},
     "output_type": "execute_result"
    }
   ],
   "source": [
    "df.columns.tolist()"
   ]
  },
  {
   "cell_type": "code",
   "execution_count": 51,
   "id": "dfefc23f",
   "metadata": {},
   "outputs": [],
   "source": [
    "testing_data= pd.DataFrame(data= X_test,columns = ['LOCATION_TYPE',\n",
    " 'WH_CAPACITY_SIZE',\n",
    " 'ZONE',\n",
    " 'WH_REGIONAL_ZONE',\n",
    " 'REFILL_REQUESTS',\n",
    " 'TRANSPORT_ISSUE',\n",
    " 'NO_OF_COMPETITOR',\n",
    " 'NO_OF_RETAILERS',\n",
    " 'WAREHOUSE_OWNERSHIP',\n",
    " 'NUMBER_OF_DISTRIBUTORS',\n",
    " 'FLOOD_IMPACTED',\n",
    " 'FLOOD_PROOF',\n",
    " 'ELECTRIC_SUPPLY',\n",
    " 'DIST_FROM_HUB',\n",
    " 'WORKERS_NUM',\n",
    " 'STORAGE_ISSUE_REPORTED',\n",
    " 'TEMP_REG_MACH',\n",
    " 'WH_BREAKDOWN',\n",
    " 'GOVT_CHECK',\n",
    " 'PRODUCT_WG_TON'])"
   ]
  },
  {
   "cell_type": "code",
   "execution_count": 52,
   "id": "ce9a1223",
   "metadata": {},
   "outputs": [
    {
     "data": {
      "text/html": [
       "<div>\n",
       "<style scoped>\n",
       "    .dataframe tbody tr th:only-of-type {\n",
       "        vertical-align: middle;\n",
       "    }\n",
       "\n",
       "    .dataframe tbody tr th {\n",
       "        vertical-align: top;\n",
       "    }\n",
       "\n",
       "    .dataframe thead th {\n",
       "        text-align: right;\n",
       "    }\n",
       "</style>\n",
       "<table border=\"1\" class=\"dataframe\">\n",
       "  <thead>\n",
       "    <tr style=\"text-align: right;\">\n",
       "      <th></th>\n",
       "      <th>LOCATION_TYPE</th>\n",
       "      <th>WH_CAPACITY_SIZE</th>\n",
       "      <th>ZONE</th>\n",
       "      <th>WH_REGIONAL_ZONE</th>\n",
       "      <th>REFILL_REQUESTS</th>\n",
       "      <th>TRANSPORT_ISSUE</th>\n",
       "      <th>NO_OF_COMPETITOR</th>\n",
       "      <th>NO_OF_RETAILERS</th>\n",
       "      <th>WAREHOUSE_OWNERSHIP</th>\n",
       "      <th>NUMBER_OF_DISTRIBUTORS</th>\n",
       "      <th>FLOOD_IMPACTED</th>\n",
       "      <th>FLOOD_PROOF</th>\n",
       "      <th>ELECTRIC_SUPPLY</th>\n",
       "      <th>DIST_FROM_HUB</th>\n",
       "      <th>WORKERS_NUM</th>\n",
       "      <th>STORAGE_ISSUE_REPORTED</th>\n",
       "      <th>TEMP_REG_MACH</th>\n",
       "      <th>WH_BREAKDOWN</th>\n",
       "      <th>GOVT_CHECK</th>\n",
       "      <th>PRODUCT_WG_TON</th>\n",
       "    </tr>\n",
       "  </thead>\n",
       "  <tbody>\n",
       "    <tr>\n",
       "      <th>0</th>\n",
       "      <td>0.0</td>\n",
       "      <td>0.0</td>\n",
       "      <td>0.333333</td>\n",
       "      <td>1.0</td>\n",
       "      <td>0.12</td>\n",
       "      <td>0.000000</td>\n",
       "      <td>0.181818</td>\n",
       "      <td>0.376176</td>\n",
       "      <td>1.0</td>\n",
       "      <td>0.086957</td>\n",
       "      <td>0.0</td>\n",
       "      <td>0.0</td>\n",
       "      <td>0.0</td>\n",
       "      <td>0.587963</td>\n",
       "      <td>0.303753</td>\n",
       "      <td>0.408451</td>\n",
       "      <td>1.0</td>\n",
       "      <td>0.130435</td>\n",
       "      <td>0.319444</td>\n",
       "      <td>0.411950</td>\n",
       "    </tr>\n",
       "    <tr>\n",
       "      <th>1</th>\n",
       "      <td>0.0</td>\n",
       "      <td>0.0</td>\n",
       "      <td>0.333333</td>\n",
       "      <td>0.8</td>\n",
       "      <td>0.00</td>\n",
       "      <td>0.000000</td>\n",
       "      <td>0.090909</td>\n",
       "      <td>0.172148</td>\n",
       "      <td>0.0</td>\n",
       "      <td>0.449275</td>\n",
       "      <td>0.0</td>\n",
       "      <td>0.0</td>\n",
       "      <td>1.0</td>\n",
       "      <td>0.291667</td>\n",
       "      <td>0.330645</td>\n",
       "      <td>0.169014</td>\n",
       "      <td>1.0</td>\n",
       "      <td>0.152174</td>\n",
       "      <td>0.319444</td>\n",
       "      <td>0.213850</td>\n",
       "    </tr>\n",
       "    <tr>\n",
       "      <th>2</th>\n",
       "      <td>0.0</td>\n",
       "      <td>0.0</td>\n",
       "      <td>0.333333</td>\n",
       "      <td>1.0</td>\n",
       "      <td>0.20</td>\n",
       "      <td>0.000000</td>\n",
       "      <td>0.090909</td>\n",
       "      <td>0.495529</td>\n",
       "      <td>1.0</td>\n",
       "      <td>0.275362</td>\n",
       "      <td>0.0</td>\n",
       "      <td>0.0</td>\n",
       "      <td>1.0</td>\n",
       "      <td>0.078704</td>\n",
       "      <td>0.387097</td>\n",
       "      <td>0.338028</td>\n",
       "      <td>0.0</td>\n",
       "      <td>0.413043</td>\n",
       "      <td>0.388889</td>\n",
       "      <td>0.410531</td>\n",
       "    </tr>\n",
       "    <tr>\n",
       "      <th>3</th>\n",
       "      <td>0.0</td>\n",
       "      <td>1.0</td>\n",
       "      <td>0.666667</td>\n",
       "      <td>1.0</td>\n",
       "      <td>0.36</td>\n",
       "      <td>0.000000</td>\n",
       "      <td>0.045455</td>\n",
       "      <td>0.311484</td>\n",
       "      <td>0.0</td>\n",
       "      <td>0.376812</td>\n",
       "      <td>0.0</td>\n",
       "      <td>0.0</td>\n",
       "      <td>1.0</td>\n",
       "      <td>0.087963</td>\n",
       "      <td>0.282258</td>\n",
       "      <td>0.239437</td>\n",
       "      <td>0.0</td>\n",
       "      <td>0.086957</td>\n",
       "      <td>0.208333</td>\n",
       "      <td>0.227292</td>\n",
       "    </tr>\n",
       "    <tr>\n",
       "      <th>4</th>\n",
       "      <td>0.0</td>\n",
       "      <td>0.5</td>\n",
       "      <td>0.666667</td>\n",
       "      <td>0.2</td>\n",
       "      <td>0.24</td>\n",
       "      <td>0.090909</td>\n",
       "      <td>0.045455</td>\n",
       "      <td>0.365135</td>\n",
       "      <td>0.0</td>\n",
       "      <td>0.369565</td>\n",
       "      <td>1.0</td>\n",
       "      <td>0.0</td>\n",
       "      <td>1.0</td>\n",
       "      <td>0.800926</td>\n",
       "      <td>0.250000</td>\n",
       "      <td>0.295775</td>\n",
       "      <td>0.0</td>\n",
       "      <td>0.195652</td>\n",
       "      <td>0.291667</td>\n",
       "      <td>0.352080</td>\n",
       "    </tr>\n",
       "    <tr>\n",
       "      <th>...</th>\n",
       "      <td>...</td>\n",
       "      <td>...</td>\n",
       "      <td>...</td>\n",
       "      <td>...</td>\n",
       "      <td>...</td>\n",
       "      <td>...</td>\n",
       "      <td>...</td>\n",
       "      <td>...</td>\n",
       "      <td>...</td>\n",
       "      <td>...</td>\n",
       "      <td>...</td>\n",
       "      <td>...</td>\n",
       "      <td>...</td>\n",
       "      <td>...</td>\n",
       "      <td>...</td>\n",
       "      <td>...</td>\n",
       "      <td>...</td>\n",
       "      <td>...</td>\n",
       "      <td>...</td>\n",
       "      <td>...</td>\n",
       "    </tr>\n",
       "    <tr>\n",
       "      <th>67453</th>\n",
       "      <td>0.0</td>\n",
       "      <td>1.0</td>\n",
       "      <td>0.666667</td>\n",
       "      <td>1.0</td>\n",
       "      <td>0.00</td>\n",
       "      <td>0.000000</td>\n",
       "      <td>0.090909</td>\n",
       "      <td>0.666278</td>\n",
       "      <td>0.0</td>\n",
       "      <td>0.253623</td>\n",
       "      <td>0.0</td>\n",
       "      <td>0.0</td>\n",
       "      <td>1.0</td>\n",
       "      <td>0.657407</td>\n",
       "      <td>0.266129</td>\n",
       "      <td>0.309859</td>\n",
       "      <td>0.0</td>\n",
       "      <td>0.173913</td>\n",
       "      <td>0.083333</td>\n",
       "      <td>0.257298</td>\n",
       "    </tr>\n",
       "    <tr>\n",
       "      <th>67454</th>\n",
       "      <td>0.0</td>\n",
       "      <td>0.5</td>\n",
       "      <td>0.333333</td>\n",
       "      <td>0.6</td>\n",
       "      <td>0.08</td>\n",
       "      <td>0.045455</td>\n",
       "      <td>0.090909</td>\n",
       "      <td>0.441956</td>\n",
       "      <td>1.0</td>\n",
       "      <td>0.427536</td>\n",
       "      <td>0.0</td>\n",
       "      <td>0.0</td>\n",
       "      <td>0.0</td>\n",
       "      <td>0.064815</td>\n",
       "      <td>0.419355</td>\n",
       "      <td>0.323944</td>\n",
       "      <td>0.0</td>\n",
       "      <td>0.304348</td>\n",
       "      <td>0.541667</td>\n",
       "      <td>0.274864</td>\n",
       "    </tr>\n",
       "    <tr>\n",
       "      <th>67455</th>\n",
       "      <td>0.0</td>\n",
       "      <td>1.0</td>\n",
       "      <td>0.333333</td>\n",
       "      <td>0.0</td>\n",
       "      <td>0.04</td>\n",
       "      <td>0.136364</td>\n",
       "      <td>0.272727</td>\n",
       "      <td>0.404945</td>\n",
       "      <td>1.0</td>\n",
       "      <td>0.086957</td>\n",
       "      <td>0.0</td>\n",
       "      <td>0.0</td>\n",
       "      <td>1.0</td>\n",
       "      <td>0.351852</td>\n",
       "      <td>0.306452</td>\n",
       "      <td>0.183099</td>\n",
       "      <td>0.0</td>\n",
       "      <td>0.021739</td>\n",
       "      <td>0.402778</td>\n",
       "      <td>0.264437</td>\n",
       "    </tr>\n",
       "    <tr>\n",
       "      <th>67456</th>\n",
       "      <td>0.0</td>\n",
       "      <td>1.0</td>\n",
       "      <td>0.333333</td>\n",
       "      <td>1.0</td>\n",
       "      <td>0.28</td>\n",
       "      <td>0.090909</td>\n",
       "      <td>0.227273</td>\n",
       "      <td>0.166239</td>\n",
       "      <td>0.0</td>\n",
       "      <td>0.673913</td>\n",
       "      <td>0.0</td>\n",
       "      <td>0.0</td>\n",
       "      <td>1.0</td>\n",
       "      <td>0.236111</td>\n",
       "      <td>0.580645</td>\n",
       "      <td>0.154930</td>\n",
       "      <td>1.0</td>\n",
       "      <td>0.543478</td>\n",
       "      <td>0.833333</td>\n",
       "      <td>0.405031</td>\n",
       "    </tr>\n",
       "    <tr>\n",
       "      <th>67457</th>\n",
       "      <td>0.0</td>\n",
       "      <td>0.0</td>\n",
       "      <td>0.333333</td>\n",
       "      <td>1.0</td>\n",
       "      <td>0.24</td>\n",
       "      <td>0.000000</td>\n",
       "      <td>0.090909</td>\n",
       "      <td>0.403001</td>\n",
       "      <td>1.0</td>\n",
       "      <td>0.318841</td>\n",
       "      <td>0.0</td>\n",
       "      <td>0.0</td>\n",
       "      <td>0.0</td>\n",
       "      <td>0.731481</td>\n",
       "      <td>0.354839</td>\n",
       "      <td>0.338028</td>\n",
       "      <td>0.0</td>\n",
       "      <td>0.086957</td>\n",
       "      <td>0.375000</td>\n",
       "      <td>0.344369</td>\n",
       "    </tr>\n",
       "  </tbody>\n",
       "</table>\n",
       "<p>67458 rows × 20 columns</p>\n",
       "</div>"
      ],
      "text/plain": [
       "       LOCATION_TYPE  WH_CAPACITY_SIZE      ZONE  WH_REGIONAL_ZONE   \n",
       "0                0.0               0.0  0.333333               1.0  \\\n",
       "1                0.0               0.0  0.333333               0.8   \n",
       "2                0.0               0.0  0.333333               1.0   \n",
       "3                0.0               1.0  0.666667               1.0   \n",
       "4                0.0               0.5  0.666667               0.2   \n",
       "...              ...               ...       ...               ...   \n",
       "67453            0.0               1.0  0.666667               1.0   \n",
       "67454            0.0               0.5  0.333333               0.6   \n",
       "67455            0.0               1.0  0.333333               0.0   \n",
       "67456            0.0               1.0  0.333333               1.0   \n",
       "67457            0.0               0.0  0.333333               1.0   \n",
       "\n",
       "       REFILL_REQUESTS  TRANSPORT_ISSUE  NO_OF_COMPETITOR  NO_OF_RETAILERS   \n",
       "0                 0.12         0.000000          0.181818         0.376176  \\\n",
       "1                 0.00         0.000000          0.090909         0.172148   \n",
       "2                 0.20         0.000000          0.090909         0.495529   \n",
       "3                 0.36         0.000000          0.045455         0.311484   \n",
       "4                 0.24         0.090909          0.045455         0.365135   \n",
       "...                ...              ...               ...              ...   \n",
       "67453             0.00         0.000000          0.090909         0.666278   \n",
       "67454             0.08         0.045455          0.090909         0.441956   \n",
       "67455             0.04         0.136364          0.272727         0.404945   \n",
       "67456             0.28         0.090909          0.227273         0.166239   \n",
       "67457             0.24         0.000000          0.090909         0.403001   \n",
       "\n",
       "       WAREHOUSE_OWNERSHIP  NUMBER_OF_DISTRIBUTORS  FLOOD_IMPACTED   \n",
       "0                      1.0                0.086957             0.0  \\\n",
       "1                      0.0                0.449275             0.0   \n",
       "2                      1.0                0.275362             0.0   \n",
       "3                      0.0                0.376812             0.0   \n",
       "4                      0.0                0.369565             1.0   \n",
       "...                    ...                     ...             ...   \n",
       "67453                  0.0                0.253623             0.0   \n",
       "67454                  1.0                0.427536             0.0   \n",
       "67455                  1.0                0.086957             0.0   \n",
       "67456                  0.0                0.673913             0.0   \n",
       "67457                  1.0                0.318841             0.0   \n",
       "\n",
       "       FLOOD_PROOF  ELECTRIC_SUPPLY  DIST_FROM_HUB  WORKERS_NUM   \n",
       "0              0.0              0.0       0.587963     0.303753  \\\n",
       "1              0.0              1.0       0.291667     0.330645   \n",
       "2              0.0              1.0       0.078704     0.387097   \n",
       "3              0.0              1.0       0.087963     0.282258   \n",
       "4              0.0              1.0       0.800926     0.250000   \n",
       "...            ...              ...            ...          ...   \n",
       "67453          0.0              1.0       0.657407     0.266129   \n",
       "67454          0.0              0.0       0.064815     0.419355   \n",
       "67455          0.0              1.0       0.351852     0.306452   \n",
       "67456          0.0              1.0       0.236111     0.580645   \n",
       "67457          0.0              0.0       0.731481     0.354839   \n",
       "\n",
       "       STORAGE_ISSUE_REPORTED  TEMP_REG_MACH  WH_BREAKDOWN  GOVT_CHECK   \n",
       "0                    0.408451            1.0      0.130435    0.319444  \\\n",
       "1                    0.169014            1.0      0.152174    0.319444   \n",
       "2                    0.338028            0.0      0.413043    0.388889   \n",
       "3                    0.239437            0.0      0.086957    0.208333   \n",
       "4                    0.295775            0.0      0.195652    0.291667   \n",
       "...                       ...            ...           ...         ...   \n",
       "67453                0.309859            0.0      0.173913    0.083333   \n",
       "67454                0.323944            0.0      0.304348    0.541667   \n",
       "67455                0.183099            0.0      0.021739    0.402778   \n",
       "67456                0.154930            1.0      0.543478    0.833333   \n",
       "67457                0.338028            0.0      0.086957    0.375000   \n",
       "\n",
       "       PRODUCT_WG_TON  \n",
       "0            0.411950  \n",
       "1            0.213850  \n",
       "2            0.410531  \n",
       "3            0.227292  \n",
       "4            0.352080  \n",
       "...               ...  \n",
       "67453        0.257298  \n",
       "67454        0.274864  \n",
       "67455        0.264437  \n",
       "67456        0.405031  \n",
       "67457        0.344369  \n",
       "\n",
       "[67458 rows x 20 columns]"
      ]
     },
     "execution_count": 52,
     "metadata": {},
     "output_type": "execute_result"
    }
   ],
   "source": [
    "testing_data"
   ]
  },
  {
   "cell_type": "code",
   "execution_count": null,
   "id": "e4135c96",
   "metadata": {},
   "outputs": [],
   "source": [
    "payload = str(testing_data.iloc[158].to_dict())\n",
    "req = requests.Request()\n",
    "req.json= {'payload': payload}\n",
    "print({'payload': payload})"
   ]
  },
  {
   "cell_type": "code",
   "execution_count": null,
   "id": "4c837e59",
   "metadata": {},
   "outputs": [],
   "source": [
    "@scoring_func\n",
    "def score(model, request):\n",
    "    import json\n",
    "    payload = request.json[\"payload\"]\n",
    "    if isinstance(request.json[\"payload\"],str):\n",
    "        payload_data = eval(payload)\n",
    "        if isinstance(payload_data['WAREHOUSE_OWNERSHIP'], float):\n",
    "            data_json = eval(payload)\n",
    "            data = pd.DataFrame([data_json])\n",
    "            prediction = pd.DataFrame(model.predict(data))\n",
    "            return prediction[0].to_list()[0]\n",
    "        elif isinstance(payload_data['WAREHOUSE_OWNERSHIP'], float):\n",
    "            data = pd.DataFrame(eval(payload))\n",
    "            prediction = pd.DataFrame(model.predict(data))\n",
    "            return prediction[0].tolist()\n",
    "        elif isinstance(payload_data['WAREHOUSE_OWNERSHIP'], list):\n",
    "            data = pd.DataFrame(payload_data)\n",
    "            prediction = model.predict(data)\n",
    "            return prediction.tolist()\n",
    "    return \"This method is not allowed\""
   ]
  }
 ],
 "metadata": {
  "kernelspec": {
   "display_name": "Python 3",
   "language": "python",
   "name": "python3"
  },
  "language_info": {
   "codemirror_mode": {
    "name": "ipython",
    "version": 3
   },
   "file_extension": ".py",
   "mimetype": "text/x-python",
   "name": "python",
   "nbconvert_exporter": "python",
   "pygments_lexer": "ipython3",
   "version": "3.8.18"
  }
 },
 "nbformat": 4,
 "nbformat_minor": 5
}
