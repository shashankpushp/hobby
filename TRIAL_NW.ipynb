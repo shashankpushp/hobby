{
 "cells": [
  {
   "cell_type": "code",
   "execution_count": 5,
   "id": "02f131fd",
   "metadata": {},
   "outputs": [
    {
     "ename": "ImportError",
     "evalue": "cannot import name 'appengine' from 'urllib3.contrib' (/tmp/pip_packages/urllib3/contrib/__init__.py)",
     "output_type": "error",
     "traceback": [
      "\u001b[0;31m---------------------------------------------------------------------------\u001b[0m",
      "\u001b[0;31mImportError\u001b[0m                               Traceback (most recent call last)",
      "File \u001b[0;32m/tmp/pip_packages/requests_toolbelt/_compat.py:48\u001b[0m\n\u001b[1;32m     47\u001b[0m \u001b[38;5;28;01mtry\u001b[39;00m:\n\u001b[0;32m---> 48\u001b[0m     \u001b[38;5;28;01mfrom\u001b[39;00m \u001b[38;5;21;01mrequests\u001b[39;00m\u001b[38;5;21;01m.\u001b[39;00m\u001b[38;5;21;01mpackages\u001b[39;00m\u001b[38;5;21;01m.\u001b[39;00m\u001b[38;5;21;01murllib3\u001b[39;00m\u001b[38;5;21;01m.\u001b[39;00m\u001b[38;5;21;01mcontrib\u001b[39;00m \u001b[38;5;28;01mimport\u001b[39;00m appengine \u001b[38;5;28;01mas\u001b[39;00m gaecontrib\n\u001b[1;32m     49\u001b[0m \u001b[38;5;28;01mexcept\u001b[39;00m \u001b[38;5;167;01mImportError\u001b[39;00m:\n",
      "\u001b[0;31mImportError\u001b[0m: cannot import name 'appengine' from 'requests.packages.urllib3.contrib' (/tmp/pip_packages/urllib3/contrib/__init__.py)",
      "\nDuring handling of the above exception, another exception occurred:\n",
      "\u001b[0;31mImportError\u001b[0m                               Traceback (most recent call last)",
      "Cell \u001b[0;32mIn[5], line 1\u001b[0m\n\u001b[0;32m----> 1\u001b[0m \u001b[38;5;28;01mfrom\u001b[39;00m \u001b[38;5;21;01mrefractml\u001b[39;00m \u001b[38;5;28;01mimport\u001b[39;00m \u001b[38;5;241m*\u001b[39m\n\u001b[1;32m      3\u001b[0m \u001b[38;5;28;01mfrom\u001b[39;00m \u001b[38;5;21;01mrefractml\u001b[39;00m\u001b[38;5;21;01m.\u001b[39;00m\u001b[38;5;21;01mconstants\u001b[39;00m \u001b[38;5;28;01mimport\u001b[39;00m MLModelFlavours\n\u001b[1;32m      5\u001b[0m \u001b[38;5;28;01mimport\u001b[39;00m \u001b[38;5;21;01mrequests\u001b[39;00m\n",
      "File \u001b[0;32m/tmp/pip_packages/refractml/__init__.py:3\u001b[0m\n\u001b[1;32m      1\u001b[0m \u001b[38;5;66;03m# -*- coding: utf-8 -*-\u001b[39;00m\n\u001b[0;32m----> 3\u001b[0m \u001b[38;5;28;01mfrom\u001b[39;00m \u001b[38;5;21;01m.\u001b[39;00m\u001b[38;5;21;01mapi\u001b[39;00m \u001b[38;5;28;01mimport\u001b[39;00m (\n\u001b[1;32m      4\u001b[0m     add_version,\n\u001b[1;32m      5\u001b[0m     apply_model_strategy,\n\u001b[1;32m      6\u001b[0m     build_time_metrics,\n\u001b[1;32m      7\u001b[0m     delete_model,\n\u001b[1;32m      8\u001b[0m     deploy_model,\n\u001b[1;32m      9\u001b[0m     describe_model,\n\u001b[1;32m     10\u001b[0m     describe_model_using_model_name,\n\u001b[1;32m     11\u001b[0m     ensemble_model_list,\n\u001b[1;32m     12\u001b[0m     fetch_model_resources,\n\u001b[1;32m     13\u001b[0m     generate_schema,\n\u001b[1;32m     14\u001b[0m     get_model_info,\n\u001b[1;32m     15\u001b[0m     get_model_profiling,\n\u001b[1;32m     16\u001b[0m     list_models,\n\u001b[1;32m     17\u001b[0m     load_model,\n\u001b[1;32m     18\u001b[0m     load_train_and_test_data,\n\u001b[1;32m     19\u001b[0m     promote_model,\n\u001b[1;32m     20\u001b[0m     register_ensemble_model,\n\u001b[1;32m     21\u001b[0m     register_model,\n\u001b[1;32m     22\u001b[0m     stop_model,\n\u001b[1;32m     23\u001b[0m     update_existing_model,\n\u001b[1;32m     24\u001b[0m     update_metadata_info,\n\u001b[1;32m     25\u001b[0m     update_model_details,\n\u001b[1;32m     26\u001b[0m     update_version_details,\n\u001b[1;32m     27\u001b[0m     fetch_feedback_accuracy,\n\u001b[1;32m     28\u001b[0m     delete_model_version,\n\u001b[1;32m     29\u001b[0m     add_artifacts,\n\u001b[1;32m     30\u001b[0m     download_artifacts\n\u001b[1;32m     31\u001b[0m )\n\u001b[1;32m     33\u001b[0m \u001b[38;5;28;01mfrom\u001b[39;00m \u001b[38;5;21;01mrefractml\u001b[39;00m\u001b[38;5;21;01m.\u001b[39;00m\u001b[38;5;21;01mwidgets\u001b[39;00m\u001b[38;5;21;01m.\u001b[39;00m\u001b[38;5;21;01mregister_model\u001b[39;00m \u001b[38;5;28;01mimport\u001b[39;00m RegisterModel\n\u001b[1;32m     35\u001b[0m \u001b[38;5;28;01mfrom\u001b[39;00m \u001b[38;5;21;01m.\u001b[39;00m\u001b[38;5;21;01mdecorators\u001b[39;00m \u001b[38;5;28;01mimport\u001b[39;00m scoring_func\n",
      "File \u001b[0;32m/tmp/pip_packages/refractml/api.py:21\u001b[0m\n\u001b[1;32m     14\u001b[0m \u001b[38;5;28;01mfrom\u001b[39;00m \u001b[38;5;21;01mmosaic_utils\u001b[39;00m\u001b[38;5;21;01m.\u001b[39;00m\u001b[38;5;21;01mai\u001b[39;00m\u001b[38;5;21;01m.\u001b[39;00m\u001b[38;5;21;01mencoding_utils\u001b[39;00m \u001b[38;5;28;01mimport\u001b[39;00m base64_encode\n\u001b[1;32m     15\u001b[0m \u001b[38;5;28;01mfrom\u001b[39;00m \u001b[38;5;21;01mmosaic_utils\u001b[39;00m\u001b[38;5;21;01m.\u001b[39;00m\u001b[38;5;21;01mai\u001b[39;00m\u001b[38;5;21;01m.\u001b[39;00m\u001b[38;5;21;01mfile_utils\u001b[39;00m \u001b[38;5;28;01mimport\u001b[39;00m (\n\u001b[1;32m     16\u001b[0m     create_model_tar,\n\u001b[1;32m     17\u001b[0m     extract_tar,\n\u001b[1;32m     18\u001b[0m     pickle_dumps,\n\u001b[1;32m     19\u001b[0m     pickle_loads,\n\u001b[1;32m     20\u001b[0m )\n\u001b[0;32m---> 21\u001b[0m \u001b[38;5;28;01mfrom\u001b[39;00m \u001b[38;5;21;01mrequests_toolbelt\u001b[39;00m\u001b[38;5;21;01m.\u001b[39;00m\u001b[38;5;21;01mmultipart\u001b[39;00m\u001b[38;5;21;01m.\u001b[39;00m\u001b[38;5;21;01mencoder\u001b[39;00m \u001b[38;5;28;01mimport\u001b[39;00m MultipartEncoder\n\u001b[1;32m     23\u001b[0m \u001b[38;5;28;01mfrom\u001b[39;00m \u001b[38;5;21;01m.\u001b[39;00m\u001b[38;5;21;01mconstants\u001b[39;00m \u001b[38;5;28;01mimport\u001b[39;00m (\n\u001b[1;32m     24\u001b[0m     MLModelArtifactsV1,\n\u001b[1;32m     25\u001b[0m     MLModelDeployV1,\n\u001b[0;32m   (...)\u001b[0m\n\u001b[1;32m     35\u001b[0m     MLKYDDataStoreV1,\n\u001b[1;32m     36\u001b[0m )\n\u001b[1;32m     37\u001b[0m \u001b[38;5;28;01mfrom\u001b[39;00m \u001b[38;5;21;01m.\u001b[39;00m\u001b[38;5;21;01mdecorators\u001b[39;00m \u001b[38;5;28;01mimport\u001b[39;00m scoring_func\n",
      "File \u001b[0;32m/tmp/pip_packages/requests_toolbelt/__init__.py:12\u001b[0m\n\u001b[1;32m      1\u001b[0m \u001b[38;5;66;03m# -*- coding: utf-8 -*-\u001b[39;00m\n\u001b[1;32m      2\u001b[0m \u001b[38;5;124;03m\"\"\"\u001b[39;00m\n\u001b[1;32m      3\u001b[0m \u001b[38;5;124;03mrequests-toolbelt\u001b[39;00m\n\u001b[1;32m      4\u001b[0m \u001b[38;5;124;03m=================\u001b[39;00m\n\u001b[0;32m   (...)\u001b[0m\n\u001b[1;32m      9\u001b[0m \u001b[38;5;124;03m:license: Apache v2.0, see LICENSE for more details\u001b[39;00m\n\u001b[1;32m     10\u001b[0m \u001b[38;5;124;03m\"\"\"\u001b[39;00m\n\u001b[0;32m---> 12\u001b[0m \u001b[38;5;28;01mfrom\u001b[39;00m \u001b[38;5;21;01m.\u001b[39;00m\u001b[38;5;21;01madapters\u001b[39;00m \u001b[38;5;28;01mimport\u001b[39;00m SSLAdapter, SourceAddressAdapter\n\u001b[1;32m     13\u001b[0m \u001b[38;5;28;01mfrom\u001b[39;00m \u001b[38;5;21;01m.\u001b[39;00m\u001b[38;5;21;01mauth\u001b[39;00m\u001b[38;5;21;01m.\u001b[39;00m\u001b[38;5;21;01mguess\u001b[39;00m \u001b[38;5;28;01mimport\u001b[39;00m GuessAuth\n\u001b[1;32m     14\u001b[0m \u001b[38;5;28;01mfrom\u001b[39;00m \u001b[38;5;21;01m.\u001b[39;00m\u001b[38;5;21;01mmultipart\u001b[39;00m \u001b[38;5;28;01mimport\u001b[39;00m (\n\u001b[1;32m     15\u001b[0m     MultipartEncoder, MultipartEncoderMonitor, MultipartDecoder,\n\u001b[1;32m     16\u001b[0m     ImproperBodyPartContentException, NonMultipartContentTypeException\n\u001b[1;32m     17\u001b[0m     )\n",
      "File \u001b[0;32m/tmp/pip_packages/requests_toolbelt/adapters/__init__.py:12\u001b[0m\n\u001b[1;32m      1\u001b[0m \u001b[38;5;66;03m# -*- coding: utf-8 -*-\u001b[39;00m\n\u001b[1;32m      2\u001b[0m \u001b[38;5;124;03m\"\"\"\u001b[39;00m\n\u001b[1;32m      3\u001b[0m \u001b[38;5;124;03mrequests-toolbelt.adapters\u001b[39;00m\n\u001b[1;32m      4\u001b[0m \u001b[38;5;124;03m==========================\u001b[39;00m\n\u001b[0;32m   (...)\u001b[0m\n\u001b[1;32m      9\u001b[0m \u001b[38;5;124;03m:license: Apache v2.0, see LICENSE for more details\u001b[39;00m\n\u001b[1;32m     10\u001b[0m \u001b[38;5;124;03m\"\"\"\u001b[39;00m\n\u001b[0;32m---> 12\u001b[0m \u001b[38;5;28;01mfrom\u001b[39;00m \u001b[38;5;21;01m.\u001b[39;00m\u001b[38;5;21;01mssl\u001b[39;00m \u001b[38;5;28;01mimport\u001b[39;00m SSLAdapter\n\u001b[1;32m     13\u001b[0m \u001b[38;5;28;01mfrom\u001b[39;00m \u001b[38;5;21;01m.\u001b[39;00m\u001b[38;5;21;01msource\u001b[39;00m \u001b[38;5;28;01mimport\u001b[39;00m SourceAddressAdapter\n\u001b[1;32m     15\u001b[0m __all__ \u001b[38;5;241m=\u001b[39m [\u001b[38;5;124m'\u001b[39m\u001b[38;5;124mSSLAdapter\u001b[39m\u001b[38;5;124m'\u001b[39m, \u001b[38;5;124m'\u001b[39m\u001b[38;5;124mSourceAddressAdapter\u001b[39m\u001b[38;5;124m'\u001b[39m]\n",
      "File \u001b[0;32m/tmp/pip_packages/requests_toolbelt/adapters/ssl.py:16\u001b[0m\n\u001b[1;32m     12\u001b[0m \u001b[38;5;28;01mimport\u001b[39;00m \u001b[38;5;21;01mrequests\u001b[39;00m\n\u001b[1;32m     14\u001b[0m \u001b[38;5;28;01mfrom\u001b[39;00m \u001b[38;5;21;01mrequests\u001b[39;00m\u001b[38;5;21;01m.\u001b[39;00m\u001b[38;5;21;01madapters\u001b[39;00m \u001b[38;5;28;01mimport\u001b[39;00m HTTPAdapter\n\u001b[0;32m---> 16\u001b[0m \u001b[38;5;28;01mfrom\u001b[39;00m \u001b[38;5;21;01m.\u001b[39;00m\u001b[38;5;21;01m.\u001b[39;00m\u001b[38;5;21;01m_compat\u001b[39;00m \u001b[38;5;28;01mimport\u001b[39;00m poolmanager\n\u001b[1;32m     19\u001b[0m \u001b[38;5;28;01mclass\u001b[39;00m \u001b[38;5;21;01mSSLAdapter\u001b[39;00m(HTTPAdapter):\n\u001b[1;32m     20\u001b[0m \u001b[38;5;250m    \u001b[39m\u001b[38;5;124;03m\"\"\"\u001b[39;00m\n\u001b[1;32m     21\u001b[0m \u001b[38;5;124;03m    A HTTPS Adapter for Python Requests that allows the choice of the SSL/TLS\u001b[39;00m\n\u001b[1;32m     22\u001b[0m \u001b[38;5;124;03m    version negotiated by Requests. This can be used either to enforce the\u001b[39;00m\n\u001b[0;32m   (...)\u001b[0m\n\u001b[1;32m     43\u001b[0m \u001b[38;5;124;03m    properly when used with proxies.\u001b[39;00m\n\u001b[1;32m     44\u001b[0m \u001b[38;5;124;03m    \"\"\"\u001b[39;00m\n",
      "File \u001b[0;32m/tmp/pip_packages/requests_toolbelt/_compat.py:50\u001b[0m\n\u001b[1;32m     48\u001b[0m         \u001b[38;5;28;01mfrom\u001b[39;00m \u001b[38;5;21;01mrequests\u001b[39;00m\u001b[38;5;21;01m.\u001b[39;00m\u001b[38;5;21;01mpackages\u001b[39;00m\u001b[38;5;21;01m.\u001b[39;00m\u001b[38;5;21;01murllib3\u001b[39;00m\u001b[38;5;21;01m.\u001b[39;00m\u001b[38;5;21;01mcontrib\u001b[39;00m \u001b[38;5;28;01mimport\u001b[39;00m appengine \u001b[38;5;28;01mas\u001b[39;00m gaecontrib\n\u001b[1;32m     49\u001b[0m     \u001b[38;5;28;01mexcept\u001b[39;00m \u001b[38;5;167;01mImportError\u001b[39;00m:\n\u001b[0;32m---> 50\u001b[0m         \u001b[38;5;28;01mfrom\u001b[39;00m \u001b[38;5;21;01murllib3\u001b[39;00m\u001b[38;5;21;01m.\u001b[39;00m\u001b[38;5;21;01mcontrib\u001b[39;00m \u001b[38;5;28;01mimport\u001b[39;00m appengine \u001b[38;5;28;01mas\u001b[39;00m gaecontrib\n\u001b[1;32m     52\u001b[0m \u001b[38;5;28;01mif\u001b[39;00m requests\u001b[38;5;241m.\u001b[39m__build__ \u001b[38;5;241m<\u001b[39m \u001b[38;5;241m0x021200\u001b[39m:\n\u001b[1;32m     53\u001b[0m     PyOpenSSLContext \u001b[38;5;241m=\u001b[39m \u001b[38;5;28;01mNone\u001b[39;00m\n",
      "\u001b[0;31mImportError\u001b[0m: cannot import name 'appengine' from 'urllib3.contrib' (/tmp/pip_packages/urllib3/contrib/__init__.py)"
     ]
    }
   ],
   "source": [
    "from refractml import *\n",
    " \n",
    "from refractml.constants import MLModelFlavours\n",
    " \n",
    "import requests"
   ]
  },
  {
   "cell_type": "code",
   "execution_count": null,
   "id": "2df6bea8",
   "metadata": {},
   "outputs": [],
   "source": [
    "import numpy as np\n",
    "import pandas as pd\n",
    "from tqdm import tqdm\n",
    "from tensorflow.keras.models import Sequential\n",
    "from tensorflow.keras.layers import Dense,Dropout\n",
    "from tensorflow.keras.callbacks import EarlyStopping\n",
    "from sklearn.model_selection import train_test_split\n",
    "from sklearn.preprocessing import LabelEncoder\n",
    "from sklearn.preprocessing import MinMaxScaler\n",
    "\n",
    "import time\n",
    "import seaborn as sns\n",
    "from snowflake.snowpark.session import Session\n",
    "import configparser\n",
    "\n",
    "import warnings\n",
    "warnings.filterwarnings(\"ignore\")\n",
    "\n",
    "config = configparser.ConfigParser()\n",
    "config.read(\"snowflake_connection.ini\")\n",
    "\n",
    "connection_parameters = {\n",
    "    \"user\": f'{config[\"Snowflake\"][\"user\"]}',\n",
    "    \"password\": f'{config[\"Snowflake\"][\"password\"]}',\n",
    "    \"account\": f'{config[\"Snowflake\"][\"account\"]}',\n",
    "    \"WAREHOUSE\": f'{config[\"Snowflake\"][\"WAREHOUSE\"]}',\n",
    "    \"DATABASE\": f'{config[\"Snowflake\"][\"DATABASE\"]}',\n",
    "    \"SCHEMA\": f'{config[\"Snowflake\"][\"SCHEMA\"]}'\n",
    "}\n",
    "\n",
    "def snowflake_connector(conn):\n",
    "    try:\n",
    "        session = Session.builder.configs(conn).create()\n",
    "        print(\"connection successful!\")\n",
    "    except:\n",
    "        raise ValueError(\"error while connecting with db\")\n",
    "    return session\n",
    "\n",
    "session = snowflake_connector(connection_parameters)"
   ]
  },
  {
   "cell_type": "code",
   "execution_count": 2,
   "id": "615de29b",
   "metadata": {},
   "outputs": [],
   "source": [
    "df = session.table(\"CPG_WAREHOUSE\").to_pandas()"
   ]
  },
  {
   "cell_type": "code",
   "execution_count": 3,
   "id": "ed006ece",
   "metadata": {},
   "outputs": [
    {
     "data": {
      "text/plain": [
       "DATE                                 0\n",
       "WARE_HOUSE_ID                        0\n",
       "WH_MANAGER_ID                        0\n",
       "LOCATION_TYPE                        0\n",
       "WH_CAPACITY_SIZE                     0\n",
       "ZONE                                 0\n",
       "WH_REGIONAL_ZONE                     0\n",
       "REFILL_REQUESTS                      0\n",
       "TRANSPORT_ISSUE                      0\n",
       "NO_OF_COMPETITOR                     0\n",
       "NO_OF_RETAILERS                      0\n",
       "WAREHOUSE_OWNERSHIP                  0\n",
       "NUMBER_OF_DISTRIBUTORS               0\n",
       "FLOOD_IMPACTED                       0\n",
       "FLOOD_PROOF                          0\n",
       "ELECTRIC_SUPPLY                      0\n",
       "DIST_FROM_HUB                        0\n",
       "WORKERS_NUM                        990\n",
       "WH_EST_YEAR                     166335\n",
       "STORAGE_ISSUE_REPORTED               0\n",
       "TEMP_REG_MACH                        1\n",
       "APPROVED_WH_GOVT_CERTIFICATE         1\n",
       "WH_BREAKDOWN                         1\n",
       "GOVT_CHECK                           1\n",
       "PRODUCT_WG_TON                       1\n",
       "dtype: int64"
      ]
     },
     "execution_count": 3,
     "metadata": {},
     "output_type": "execute_result"
    }
   ],
   "source": [
    "df.duplicated().sum()\n",
    "df.isnull().sum()"
   ]
  },
  {
   "cell_type": "code",
   "execution_count": 4,
   "id": "0bb1757d",
   "metadata": {},
   "outputs": [],
   "source": [
    "df['WORKERS_NUM'] = df['WORKERS_NUM'].fillna(df['WORKERS_NUM'].mean())"
   ]
  },
  {
   "cell_type": "code",
   "execution_count": 5,
   "id": "ee207f63",
   "metadata": {},
   "outputs": [],
   "source": [
    "df = df[df.APPROVED_WH_GOVT_CERTIFICATE != 'NA']\n",
    "df = df[df.APPROVED_WH_GOVT_CERTIFICATE != '0']\n",
    "df = df[df.APPROVED_WH_GOVT_CERTIFICATE != 0]"
   ]
  },
  {
   "cell_type": "code",
   "execution_count": 6,
   "id": "99311eba",
   "metadata": {},
   "outputs": [
    {
     "data": {
      "text/plain": [
       "APPROVED_WH_GOVT_CERTIFICATE\n",
       "C     77014\n",
       "B+    68837\n",
       "B     67368\n",
       "A     65394\n",
       "A+    58674\n",
       "Name: count, dtype: int64"
      ]
     },
     "execution_count": 6,
     "metadata": {},
     "output_type": "execute_result"
    },
    {
     "data": {
      "image/png": "[encoded data removed]",
      "text/plain": [
       "<Figure size 432x288 with 1 Axes>"
      ]
     },
     "metadata": {
      "needs_background": "light"
     },
     "output_type": "display_data"
    }
   ],
   "source": [
    "df['APPROVED_WH_GOVT_CERTIFICATE'].hist()\n",
    "df['APPROVED_WH_GOVT_CERTIFICATE'].value_counts()"
   ]
  },
  {
   "cell_type": "code",
   "execution_count": 7,
   "id": "28bb1e54",
   "metadata": {},
   "outputs": [
    {
     "data": {
      "text/plain": [
       "[Text(0.5, 1.0, 'Location Type by zone')]"
      ]
     },
     "execution_count": 7,
     "metadata": {},
     "output_type": "execute_result"
    },
    {
     "data": {
      "image/png": "[encoded data removed]",
      "text/plain": [
       "<Figure size 432x288 with 1 Axes>"
      ]
     },
     "metadata": {
      "needs_background": "light"
     },
     "output_type": "display_data"
    }
   ],
   "source": [
    "sns.countplot(data=df,x='LOCATION_TYPE',hue='ZONE').set(title='Location Type by zone')"
   ]
  },
  {
   "cell_type": "code",
   "execution_count": 8,
   "id": "c7a493d6",
   "metadata": {},
   "outputs": [
    {
     "data": {
      "text/plain": [
       "<Axes: xlabel='APPROVED_WH_GOVT_CERTIFICATE', ylabel='WH_BREAKDOWN'>"
      ]
     },
     "execution_count": 8,
     "metadata": {},
     "output_type": "execute_result"
    },
    {
     "data": {
      "image/png": "[encoded data removed]",
      "text/plain": [
       "<Figure size 432x288 with 1 Axes>"
      ]
     },
     "metadata": {
      "needs_background": "light"
     },
     "output_type": "display_data"
    }
   ],
   "source": [
    "sns.boxplot(data=df,x='APPROVED_WH_GOVT_CERTIFICATE',y='WH_BREAKDOWN')"
   ]
  },
  {
   "cell_type": "code",
   "execution_count": 9,
   "id": "6676c979",
   "metadata": {},
   "outputs": [],
   "source": [
    "df = df[df.APPROVED_WH_GOVT_CERTIFICATE != 5]"
   ]
  },
  {
   "cell_type": "code",
   "execution_count": 10,
   "id": "0c620567",
   "metadata": {},
   "outputs": [],
   "source": [
    "#label encoder turns label into numeric data\n",
    "le = LabelEncoder()\n",
    "df['LOCATION_TYPE']=le.fit_transform(df['LOCATION_TYPE'])\n",
    "df['WH_CAPACITY_SIZE']=le.fit_transform(df['WH_CAPACITY_SIZE'])\n",
    "df['APPROVED_WH_GOVT_CERTIFICATE']=le.fit_transform(df['APPROVED_WH_GOVT_CERTIFICATE'])\n",
    "df['ZONE']=le.fit_transform(df['ZONE'])\n",
    "df['WH_REGIONAL_ZONE']= le.fit_transform(df['WH_REGIONAL_ZONE'])\n",
    "df['WAREHOUSE_OWNERSHIP']=le.fit_transform(df['WAREHOUSE_OWNERSHIP'])\n",
    "## can also use the code below to transform into numeric data by removing \"Zone\" using lambda expression\n",
    "##df['WH_regional_zone']=df['WH_regional_zone'].apply(lambda x: x.split(' ')[1]-1)"
   ]
  },
  {
   "cell_type": "code",
   "execution_count": null,
   "id": "b4bcbd3b",
   "metadata": {},
   "outputs": [],
   "source": [
    "df = df.drop(['WARE_HOUSE_ID','WH_MANAGER_ID','WH_EST_YEAR','DATE'],axis=1)"
   ]
  },
  {
   "cell_type": "code",
   "execution_count": null,
   "id": "82b552c6",
   "metadata": {},
   "outputs": [],
   "source": [
    "sns.heatmap(df.corr())"
   ]
  },
  {
   "cell_type": "code",
   "execution_count": null,
   "id": "b93e4f02",
   "metadata": {},
   "outputs": [],
   "source": [
    "#label encoder turns label into numeric data\n",
    "le = LabelEncoder()\n",
    "df['LOCATION_TYPE']=le.fit_transform(df['LOCATION_TYPE'])\n",
    "df['WH_CAPACITY_SIZE']=le.fit_transform(df['WH_CAPACITY_SIZE'])\n",
    "df['APPROVED_WH_GOVT_CERTIFICATE']=le.fit_transform(df['APPROVED_WH_GOVT_CERTIFICATE'])\n",
    "df['ZONE']=le.fit_transform(df['ZONE'])\n",
    "df['WH_REGIONAL_ZONE']= le.fit_transform(df['WH_REGIONAL_ZONE'])\n",
    "df['WAREHOUSE_OWNERSHIP']=le.fit_transform(df['WAREHOUSE_OWNERSHIP'])\n",
    "## can also use the code below to transform into numeric data by removing \"Zone\" using lambda expression\n",
    "##df['WH_regional_zone']=df['WH_regional_zone'].apply(lambda x: x.split(' ')[1]-1)X = df.drop('APPROVED_WH_GOVT_CERTIFICATE',axis=1).values\n",
    "y = df['APPROVED_WH_GOVT_CERTIFICATE'].values"
   ]
  },
  {
   "cell_type": "code",
   "execution_count": null,
   "id": "017bf7f3",
   "metadata": {},
   "outputs": [],
   "source": [
    "X_train, X_test, y_train, y_test = train_test_split(X, y, test_size=0.2, random_state=101)\n",
    "scaler = MinMaxScaler().fit(X_train)\n",
    "X_train= scaler.transform(X_train)\n",
    "X_test= scaler.transform(X_test)"
   ]
  },
  {
   "cell_type": "code",
   "execution_count": null,
   "id": "474232f9",
   "metadata": {},
   "outputs": [],
   "source": [
    "print('X train shape: ',X_train.shape)\n",
    "print('X test shape: ',X_test.shape)"
   ]
  },
  {
   "cell_type": "code",
   "execution_count": null,
   "id": "36ee31c3",
   "metadata": {},
   "outputs": [],
   "source": [
    "#define a deep learning model\n",
    "model = Sequential()\n",
    "\n",
    "#20 neurons first layer because 20 inputs\n",
    "model.add(Dense(20,activation='relu'))\n",
    "model.add(Dense(10,activation='relu'))\n",
    "model.add(Dense(10,activation='relu'))\n",
    "\n",
    "#5 neurons for last layer because 5 classes (grade of govt certificate)\n",
    "model.add(Dense(5,activation='softmax'))\n",
    "\n",
    "model.compile(loss='sparse_categorical_crossentropy', optimizer='adam',metrics=['accuracy'])"
   ]
  },
  {
   "cell_type": "code",
   "execution_count": null,
   "id": "783ce839",
   "metadata": {},
   "outputs": [],
   "source": [
    "#fit the model with data\n",
    "history = model.fit(x=X_train,\n",
    "          y=y_train, epochs=90,\n",
    "          validation_data=(X_test, y_test), verbose=1\n",
    "          )"
   ]
  },
  {
   "cell_type": "code",
   "execution_count": null,
   "id": "0d6d668e",
   "metadata": {},
   "outputs": [],
   "source": [
    "losses = {'loss':history.history['loss'],'val_loss':history.history['val_loss']}\n",
    "losses = pd.DataFrame(losses)\n",
    "losses.plot()"
   ]
  },
  {
   "cell_type": "code",
   "execution_count": null,
   "id": "7c64f1ac",
   "metadata": {},
   "outputs": [],
   "source": [
    "#define an earlystopper function\n",
    "early_stop = EarlyStopping(monitor='val_loss', mode='min', verbose=1, patience=10)"
   ]
  },
  {
   "cell_type": "code",
   "execution_count": null,
   "id": "9149109b",
   "metadata": {},
   "outputs": [],
   "source": [
    "#create another model\n",
    "model = Sequential()\n",
    "\n",
    "#20 neurons first layer because 20 inputs\n",
    "model.add(Dense(20,activation='relu'))\n",
    "\n",
    "model.add(Dense(10,activation='relu'))\n",
    "model.add(Dense(10,activation='relu'))\n",
    "\n",
    "#5 neurons for last layer because 5 classes\n",
    "model.add(Dense(5,activation='softmax'))\n",
    "\n",
    "model.compile(loss='sparse_categorical_crossentropy', optimizer='adam', metrics=['accuracy'])"
   ]
  },
  {
   "cell_type": "code",
   "execution_count": null,
   "id": "b388c077",
   "metadata": {},
   "outputs": [],
   "source": [
    "#add an early stop as a callback\n",
    "#this will stop the model fitting  when the validation loss is higher than the training loss after an x amount of epochs (this case 25)\n",
    "history = model.fit(x=X_train,\n",
    "          y=y_train, epochs=300,\n",
    "          validation_data=(X_test, y_test), verbose=1,\n",
    "          callbacks=[early_stop]\n",
    "          )"
   ]
  },
  {
   "cell_type": "code",
   "execution_count": null,
   "id": "4a9c46a3",
   "metadata": {},
   "outputs": [],
   "source": [
    "import matplotlib.pyplot as plt"
   ]
  },
  {
   "cell_type": "code",
   "execution_count": null,
   "id": "ae6d2466",
   "metadata": {},
   "outputs": [],
   "source": [
    "#plot the loss and validation loss of the model\n",
    "plt.figure(figsize=(14,10))\n",
    "plt.subplot(211)\n",
    "plt.title('Loss')\n",
    "plt.plot(history.history['loss'], label='train')\n",
    "plt.plot(history.history['val_loss'], label='test')\n",
    "plt.legend()\n",
    "plt.tight_layout()\n",
    "# plot accuracy and validation accuracy during training\n",
    "plt.subplot(212)\n",
    "plt.title('Accuracy')\n",
    "plt.plot(history.history['accuracy'], label='train')\n",
    "plt.plot(history.history['val_accuracy'], label='test')\n",
    "plt.legend()\n",
    "plt.show()\n",
    "plt.tight_layout()"
   ]
  },
  {
   "cell_type": "code",
   "execution_count": null,
   "id": "721e6e2a",
   "metadata": {},
   "outputs": [],
   "source": [
    "##evaluate the model and print out the accuracy and loss\n",
    "trainLoss, trainAcc = model.evaluate(X_train, y_train, verbose=0)\n",
    "testLoss, testAcc = model.evaluate(X_test, y_test, verbose=0)\n",
    "\n",
    "print('Train Accuracy: %.2f, Test Accuracy: %.2f' % (trainAcc*100, testAcc*100))\n",
    "print('Train Loss: %.2f, Test Loss: %.2f' % (trainLoss*100, testLoss*100))\n"
   ]
  },
  {
   "cell_type": "code",
   "execution_count": null,
   "id": "ce190d39",
   "metadata": {},
   "outputs": [],
   "source": [
    "#make predictions --> currently a probability\n",
    "yProbs = model.predict(X_test)\n",
    "\n",
    "#turn the yprobs into class labels using argmax to round the value to whole num\n",
    "yPreds = yProbs.argmax(axis=1)"
   ]
  },
  {
   "cell_type": "code",
   "execution_count": null,
   "id": "4ab47410",
   "metadata": {},
   "outputs": [],
   "source": [
    "from sklearn.metrics import confusion_matrix,classification_report,ConfusionMatrixDisplay,roc_curve,roc_auc_score,recall_score,roc_auc_score\n"
   ]
  },
  {
   "cell_type": "code",
   "execution_count": null,
   "id": "e7a4c5cb",
   "metadata": {},
   "outputs": [],
   "source": [
    "#print out a classification report\n",
    "print(classification_report(y_test,yPreds))\n",
    "\n",
    "conMat = confusion_matrix(y_test,yPreds)\n",
    "\n",
    "#make a confusion matrix display\n",
    "disp = ConfusionMatrixDisplay(confusion_matrix=conMat,display_labels=['Grade A+','Grade A','Grade B+','Grade B','Grade C'])\n",
    "disp.plot()"
   ]
  },
  {
   "cell_type": "code",
   "execution_count": null,
   "id": "879e17cc",
   "metadata": {},
   "outputs": [],
   "source": [
    "#print out a classification report\n",
    "print(classification_report(y_test,yPreds))\n",
    "\n",
    "#print ROC AUC\n",
    "roc_auc = roc_auc_score(y_test, model.predict(X_test), multi_class='ovr')\n",
    "print('ROC AUC: ', roc_auc)\n",
    "\n",
    "conMat = confusion_matrix(y_test,yPreds)\n",
    "\n",
    "#make a confusion matrix display\n",
    "disp = ConfusionMatrixDisplay(confusion_matrix=conMat,display_labels=['Grade A+','Grade A','Grade B+','Grade B','Grade C'])\n",
    "disp.plot()"
   ]
  },
  {
   "cell_type": "code",
   "execution_count": null,
   "id": "13fdd8a8",
   "metadata": {},
   "outputs": [],
   "source": [
    "#plot roc curve of the model\n",
    "y_test = pd.get_dummies(y_test)\n",
    "\n",
    "class_probabilities = model.predict(X_test)\n",
    "plt.figure(figsize=(8, 6))\n",
    "rank = ['dummy','A+','A','B+','B','C']\n",
    "for i in range(1, class_probabilities.shape[1]+1):\n",
    "    fpr, tpr, _ = roc_curve(y_test.values[:, i-1], class_probabilities[:, i-1])\n",
    "    roc_auc = roc_auc_score(y_test.values[:, i-1], class_probabilities[:, i-1])\n",
    "    plt.plot(fpr, tpr, label='Grade {} (AUC = {:.2f})'.format(rank[i], roc_auc))\n",
    "\n",
    "plt.plot([0, 1], [0, 1], linestyle='--', color='r', label='Random')\n",
    "plt.xlim([0.0, 1.0])\n",
    "plt.ylim([0.0, 1.05])\n",
    "plt.xlabel('False Positive Rate')\n",
    "plt.ylabel('True Positive Rate')\n",
    "plt.title('Receiver Operating Characteristic')\n",
    "plt.legend(loc='lower right')\n",
    "plt.grid(True)\n",
    "sns.despine()\n",
    "plt.show()"
   ]
  },
  {
   "cell_type": "code",
   "execution_count": null,
   "id": "b5981b7c",
   "metadata": {},
   "outputs": [],
   "source": []
  }
 ],
 "metadata": {
  "kernelspec": {
   "display_name": "Python 3",
   "language": "python",
   "name": "python3"
  },
  "language_info": {
   "codemirror_mode": {
    "name": "ipython",
    "version": 3
   },
   "file_extension": ".py",
   "mimetype": "text/x-python",
   "name": "python",
   "nbconvert_exporter": "python",
   "pygments_lexer": "ipython3",
   "version": "3.8.18"
  }
 },
 "nbformat": 4,
 "nbformat_minor": 5
}
